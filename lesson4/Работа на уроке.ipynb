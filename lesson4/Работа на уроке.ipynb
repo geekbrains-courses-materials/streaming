{
 "cells": [
  {
   "cell_type": "code",
   "execution_count": 1,
   "metadata": {
    "id": "9fX84P5SDA8R"
   },
   "outputs": [
    {
     "name": "stderr",
     "output_type": "stream",
     "text": [
      "SLF4J: Class path contains multiple SLF4J bindings.\n",
      "SLF4J: Found binding in [jar:file:/usr/lib/spark/jars/slf4j-log4j12-1.7.30.jar!/org/slf4j/impl/StaticLoggerBinder.class]\n",
      "SLF4J: Found binding in [jar:file:/usr/lib/hadoop/lib/slf4j-log4j12-1.7.25.jar!/org/slf4j/impl/StaticLoggerBinder.class]\n",
      "SLF4J: See http://www.slf4j.org/codes.html#multiple_bindings for an explanation.\n",
      "SLF4J: Actual binding is of type [org.slf4j.impl.Log4jLoggerFactory]\n",
      "Ivy Default Cache set to: /home/jupyter-admin/.ivy2/cache\n",
      "The jars for the packages stored in: /home/jupyter-admin/.ivy2/jars\n",
      ":: loading settings :: url = jar:file:/usr/lib/spark/jars/ivy-2.4.0.jar!/org/apache/ivy/core/settings/ivysettings.xml\n",
      "org.apache.spark#spark-sql-kafka-0-10_2.13 added as a dependency\n",
      ":: resolving dependencies :: org.apache.spark#spark-submit-parent-83b97976-e542-41b7-9e94-a12d1def8286;1.0\n",
      "\tconfs: [default]\n",
      "\tfound org.apache.spark#spark-sql-kafka-0-10_2.13;3.2.1 in central\n",
      "\tfound org.apache.spark#spark-token-provider-kafka-0-10_2.13;3.2.1 in central\n",
      "\tfound org.apache.kafka#kafka-clients;2.8.0 in central\n",
      "\tfound org.lz4#lz4-java;1.7.1 in central\n",
      "\tfound org.xerial.snappy#snappy-java;1.1.8.4 in central\n",
      "\tfound org.slf4j#slf4j-api;1.7.30 in central\n",
      "\tfound org.apache.hadoop#hadoop-client-runtime;3.3.1 in central\n",
      "\tfound org.spark-project.spark#unused;1.0.0 in central\n",
      "\tfound org.apache.hadoop#hadoop-client-api;3.3.1 in central\n",
      "\tfound org.apache.htrace#htrace-core4;4.1.0-incubating in central\n",
      "\tfound commons-logging#commons-logging;1.1.3 in central\n",
      "\tfound com.google.code.findbugs#jsr305;3.0.0 in central\n",
      "\tfound org.scala-lang.modules#scala-parallel-collections_2.13;1.0.3 in central\n",
      "\tfound org.apache.commons#commons-pool2;2.6.2 in central\n",
      ":: resolution report :: resolve 701ms :: artifacts dl 29ms\n",
      "\t:: modules in use:\n",
      "\tcom.google.code.findbugs#jsr305;3.0.0 from central in [default]\n",
      "\tcommons-logging#commons-logging;1.1.3 from central in [default]\n",
      "\torg.apache.commons#commons-pool2;2.6.2 from central in [default]\n",
      "\torg.apache.hadoop#hadoop-client-api;3.3.1 from central in [default]\n",
      "\torg.apache.hadoop#hadoop-client-runtime;3.3.1 from central in [default]\n",
      "\torg.apache.htrace#htrace-core4;4.1.0-incubating from central in [default]\n",
      "\torg.apache.kafka#kafka-clients;2.8.0 from central in [default]\n",
      "\torg.apache.spark#spark-sql-kafka-0-10_2.13;3.2.1 from central in [default]\n",
      "\torg.apache.spark#spark-token-provider-kafka-0-10_2.13;3.2.1 from central in [default]\n",
      "\torg.lz4#lz4-java;1.7.1 from central in [default]\n",
      "\torg.scala-lang.modules#scala-parallel-collections_2.13;1.0.3 from central in [default]\n",
      "\torg.slf4j#slf4j-api;1.7.30 from central in [default]\n",
      "\torg.spark-project.spark#unused;1.0.0 from central in [default]\n",
      "\torg.xerial.snappy#snappy-java;1.1.8.4 from central in [default]\n",
      "\t---------------------------------------------------------------------\n",
      "\t|                  |            modules            ||   artifacts   |\n",
      "\t|       conf       | number| search|dwnlded|evicted|| number|dwnlded|\n",
      "\t---------------------------------------------------------------------\n",
      "\t|      default     |   14  |   0   |   0   |   0   ||   14  |   0   |\n",
      "\t---------------------------------------------------------------------\n",
      ":: retrieving :: org.apache.spark#spark-submit-parent-83b97976-e542-41b7-9e94-a12d1def8286\n",
      "\tconfs: [default]\n",
      "\t0 artifacts copied, 14 already retrieved (0kB/17ms)\n",
      "Setting default log level to \"WARN\".\n",
      "To adjust logging level use sc.setLogLevel(newLevel). For SparkR, use setLogLevel(newLevel).\n",
      "2022-05-16 16:54:21,603 WARN yarn.Client: Same path resource file:///home/jupyter-admin/.ivy2/jars/org.apache.spark_spark-sql-kafka-0-10_2.13-3.2.1.jar added multiple times to distributed cache.\n",
      "2022-05-16 16:54:21,604 WARN yarn.Client: Same path resource file:///home/jupyter-admin/.ivy2/jars/org.apache.spark_spark-token-provider-kafka-0-10_2.13-3.2.1.jar added multiple times to distributed cache.\n",
      "2022-05-16 16:54:21,604 WARN yarn.Client: Same path resource file:///home/jupyter-admin/.ivy2/jars/org.scala-lang.modules_scala-parallel-collections_2.13-1.0.3.jar added multiple times to distributed cache.\n",
      "2022-05-16 16:54:21,604 WARN yarn.Client: Same path resource file:///home/jupyter-admin/.ivy2/jars/org.apache.kafka_kafka-clients-2.8.0.jar added multiple times to distributed cache.\n",
      "2022-05-16 16:54:21,604 WARN yarn.Client: Same path resource file:///home/jupyter-admin/.ivy2/jars/com.google.code.findbugs_jsr305-3.0.0.jar added multiple times to distributed cache.\n",
      "2022-05-16 16:54:21,604 WARN yarn.Client: Same path resource file:///home/jupyter-admin/.ivy2/jars/org.apache.commons_commons-pool2-2.6.2.jar added multiple times to distributed cache.\n",
      "2022-05-16 16:54:21,604 WARN yarn.Client: Same path resource file:///home/jupyter-admin/.ivy2/jars/org.spark-project.spark_unused-1.0.0.jar added multiple times to distributed cache.\n",
      "2022-05-16 16:54:21,604 WARN yarn.Client: Same path resource file:///home/jupyter-admin/.ivy2/jars/org.apache.hadoop_hadoop-client-runtime-3.3.1.jar added multiple times to distributed cache.\n",
      "2022-05-16 16:54:21,604 WARN yarn.Client: Same path resource file:///home/jupyter-admin/.ivy2/jars/org.lz4_lz4-java-1.7.1.jar added multiple times to distributed cache.\n",
      "2022-05-16 16:54:21,604 WARN yarn.Client: Same path resource file:///home/jupyter-admin/.ivy2/jars/org.xerial.snappy_snappy-java-1.1.8.4.jar added multiple times to distributed cache.\n",
      "2022-05-16 16:54:21,604 WARN yarn.Client: Same path resource file:///home/jupyter-admin/.ivy2/jars/org.slf4j_slf4j-api-1.7.30.jar added multiple times to distributed cache.\n",
      "2022-05-16 16:54:21,604 WARN yarn.Client: Same path resource file:///home/jupyter-admin/.ivy2/jars/org.apache.hadoop_hadoop-client-api-3.3.1.jar added multiple times to distributed cache.\n",
      "2022-05-16 16:54:21,604 WARN yarn.Client: Same path resource file:///home/jupyter-admin/.ivy2/jars/org.apache.htrace_htrace-core4-4.1.0-incubating.jar added multiple times to distributed cache.\n",
      "2022-05-16 16:54:21,604 WARN yarn.Client: Same path resource file:///home/jupyter-admin/.ivy2/jars/commons-logging_commons-logging-1.1.3.jar added multiple times to distributed cache.\n",
      "2022-05-16 16:54:29,692 WARN cluster.YarnSchedulerBackend$YarnSchedulerEndpoint: Attempted to request executors before the AM has registered!\n"
     ]
    }
   ],
   "source": [
    "# !pip install pyspark[sql] findspark --user\n",
    "\n",
    "import sys\n",
    "\n",
    "import findspark\n",
    "findspark.init()\n",
    "findspark.find()\n",
    "\n",
    "from pyspark import SparkConf, SparkContext\n",
    "from pyspark.sql import SparkSession\n",
    "from pyspark.sql.types import *\n",
    "from pyspark.sql.functions import *\n",
    "\n",
    "\n",
    "spark = SparkSession.builder \\\n",
    "    .appName(\"Spark Streaming\") \\\n",
    "    .config(\"spark.driver.extraJavaOptions\", \"-Dcom.sun.net.ssl.checkRevocation=false\") \\\n",
    "    .config(\"spark.executor.extraJavaOptions\", \"-Dcom.sun.net.ssl.checkRevocation=false\") \\\n",
    "    .config(\"spark.jars.packages\", \"org.apache.spark:spark-sql-kafka-0-10_2.13:3.2.1\") \\\n",
    "    .config(\"spark.sql.streaming.forceDeleteTempCheckpointLocation\", \"true\") \\\n",
    "    .config(\"spark.executor.instances\", \"1\") \\\n",
    "    .config(\"spark.executor.memory\", \"512mb\") \\\n",
    "    .getOrCreate()"
   ]
  },
  {
   "cell_type": "code",
   "execution_count": 18,
   "metadata": {
    "colab": {
     "base_uri": "https://localhost:8080/",
     "height": 222
    },
    "id": "x0_56BLEDR_d",
    "outputId": "edd9ba76-1ac4-4ed7-8963-b529eedd415c"
   },
   "outputs": [
    {
     "data": {
      "text/html": [
       "\n",
       "            <div>\n",
       "                <p><b>SparkSession - in-memory</b></p>\n",
       "                \n",
       "        <div>\n",
       "            <p><b>SparkContext</b></p>\n",
       "\n",
       "            <p><a href=\"http://rc1a-dataproc-m-hkgx6juek72rytqo.mdb.yandexcloud.net:4040\">Spark UI</a></p>\n",
       "\n",
       "            <dl>\n",
       "              <dt>Version</dt>\n",
       "                <dd><code>v3.0.2</code></dd>\n",
       "              <dt>Master</dt>\n",
       "                <dd><code>yarn</code></dd>\n",
       "              <dt>AppName</dt>\n",
       "                <dd><code>Spark Streaming</code></dd>\n",
       "            </dl>\n",
       "        </div>\n",
       "        \n",
       "            </div>\n",
       "        "
      ],
      "text/plain": [
       "<pyspark.sql.session.SparkSession at 0x7fc6b4ed7af0>"
      ]
     },
     "execution_count": 18,
     "metadata": {},
     "output_type": "execute_result"
    }
   ],
   "source": [
    "spark"
   ]
  },
  {
   "cell_type": "code",
   "execution_count": 4,
   "metadata": {},
   "outputs": [
    {
     "name": "stdout",
     "output_type": "stream",
     "text": [
      "mkdir: `/tmp/datasets': File exists\n",
      "copyFromLocal: `/tmp/datasets/airport-codes.csv': File exists\n"
     ]
    }
   ],
   "source": [
    "!hdfs dfs -mkdir /tmp/datasets/\n",
    "!hdfs dfs -copyFromLocal airport-codes.csv /tmp/datasets/airport-codes.csv"
   ]
  },
  {
   "cell_type": "markdown",
   "metadata": {
    "id": "9F_8M3UmFV_-"
   },
   "source": [
    "Вспомним старые функции:"
   ]
  },
  {
   "cell_type": "code",
   "execution_count": 7,
   "metadata": {
    "id": "kj4irbc7D0Rh"
   },
   "outputs": [],
   "source": [
    "def create_parquet_sink(df, file_name):\n",
    "    return df \\\n",
    "            .writeStream \\\n",
    "            .format(\"parquet\") \\\n",
    "            .option(\"path\", \"{f}\".format(f=file_name)) \\\n",
    "            .option(\"checkpointLocation\", \"chk/{f}\".format(f=file_name)) \\\n",
    "            .trigger(processingTime=\"5 seconds\")\n",
    "\n",
    "def kill_all():\n",
    "    streams = SparkSession.builder.getOrCreate().streams.active\n",
    "    if streams:\n",
    "        for s in streams:\n",
    "            desc = s.lastProgress[\"sources\"][0][\"description\"]\n",
    "            s.stop()\n",
    "            print(\"Stopped {s}\".format(s=desc))\n",
    "            \n",
    "def create_console_sink(chk_name, df):\n",
    "    return df \\\n",
    "        .writeStream \\\n",
    "        .outputMode(\"append\") \\\n",
    "        .format(\"console\") \\\n",
    "        .trigger(processingTime=\"10 seconds\") \\\n",
    "        .option(\"checkpointLocation\", \"/tmp/chk/{n}\".format(n=chk_name)) \\\n",
    "        .option(\"truncate\", \"false\") \\\n",
    "        .option(\"numRows\", \"20\")\n",
    "            \n",
    "from pyspark.sql.functions import col\n",
    "from pyspark.sql.functions import shuffle, array, lit\n",
    "\n",
    "def random_ident():\n",
    "    csv_options = {\"header\": \"true\", \"inferSchema\": \"true\"}\n",
    "    airports = spark.read.options(**csv_options).csv(\"/tmp/datasets/airport-codes.csv\")\n",
    "    idents_rows = airports.select(col(\"ident\")).limit(200).distinct().collect()\n",
    "    idents = [row[\"ident\"] for row in idents_rows]\n",
    "    idents_cols = [lit(i) for i in idents]\n",
    "    idents_array = array(*idents_cols)\n",
    "    shuffled = shuffle(idents_array)\n",
    "    rand_ident = shuffled[0]\n",
    "    return rand_ident"
   ]
  },
  {
   "cell_type": "markdown",
   "metadata": {
    "id": "hx0z2HOWF6Rx"
   },
   "source": [
    "## На этом занятии\n",
    "+ Что такое stateful streaming\n",
    "+ Удаление дубликатов\n",
    "+ Агрегаты\n",
    "+ Соединения"
   ]
  },
  {
   "cell_type": "markdown",
   "metadata": {
    "id": "2VA5L6guvA_n"
   },
   "source": [
    "В потоковом пайплайне важно понимать разделение операций на stateless и stateful."
   ]
  },
  {
   "attachments": {
    "image.png": {
     "image/png": "[encoded data removed]"
    }
   },
   "cell_type": "markdown",
   "metadata": {},
   "source": [
    "![image.png](attachment:image.png)"
   ]
  },
  {
   "cell_type": "markdown",
   "metadata": {
    "id": "DvKO8xCVGH3j"
   },
   "source": [
    "## Что такое stateful streaming\n",
    "\n",
    "**stateful streaming** - это вид поточной обработки данных, при которой при обработке батча с данными используются данные из предыдущих батчей\n",
    "\n",
    "Все операции с использованием select, filter, withColumn (кроме операций с плавающими окнами) являются stateless. На практике это означает:\n",
    "- стрим не выполняет операций, требующих работы с данными из разных батчей\n",
    "- после обработки батча стрим \"забывает\" про него\n",
    "- высокую пропускную способность\n",
    "- небольшое количество файлов и общий объем чекпоинта\n",
    "- возможность вносить существенные правки в код стрима без пересоздания чекпоинта\n",
    "\n",
    "Если при обработке стрима используются такие методы, как `join()`, `groupBy()`, `dropDuplicates()` или функции над плавающими окнами, то:\n",
    "- в стриме должна быть колонка с временной меткой, на основе которой можно определить `watermark`\n",
    "- стрим будет работать медленней, чем вы ожидаете\n",
    "- в чекпоинте будет МНОГО файлов\n",
    "- при внесении изменений в код стрима с большой вероятностью придется пересоздавать чекпоинт\n",
    "\n",
    "Инструменты Spark Structured Streaming для stateful-операций. Рассмотрим здесь три из них:\n",
    "\n",
    "    Event time;\n",
    "\n",
    "    Watermark;\n",
    "\n",
    "    окно в join condition."
   ]
  },
  {
   "cell_type": "markdown",
   "metadata": {
    "id": "DLMtzlqRFPj9"
   },
   "source": [
    "## Удаление дубликатов"
   ]
  },
  {
   "cell_type": "markdown",
   "metadata": {},
   "source": [
    "Spark позволяет удалять дубликаты данных в стриме. Это можно сделать двумя способами:\n",
    "- без использования `watermark`\n",
    "- с использованием `watermark`\n",
    "\n",
    "### Без использования watermark\n",
    "- Хеш каждого элемента будет сохраняться в чекпоинте\n",
    "- В стриме полностью исключаются дубликаты\n",
    "- Со временем начнется деградация стрима"
   ]
  },
  {
   "cell_type": "code",
   "execution_count": 19,
   "metadata": {},
   "outputs": [
    {
     "name": "stderr",
     "output_type": "stream",
     "text": [
      "\r",
      "[Stage 37:=============================>                            (1 + 1) / 2]\r",
      "\r",
      "                                                                                \r"
     ]
    }
   ],
   "source": [
    "sdf_with_duplicates = spark.readStream.format(\"rate\").load().withColumn(\"ident\", random_ident())"
   ]
  },
  {
   "cell_type": "code",
   "execution_count": 20,
   "metadata": {},
   "outputs": [],
   "source": [
    "kill_all()"
   ]
  },
  {
   "cell_type": "code",
   "execution_count": 21,
   "metadata": {
    "scrolled": true
   },
   "outputs": [
    {
     "data": {
      "text/plain": [
       "<pyspark.sql.streaming.StreamingQuery at 0x7fc6b49df580>"
      ]
     },
     "execution_count": 21,
     "metadata": {},
     "output_type": "execute_result"
    },
    {
     "name": "stdout",
     "output_type": "stream",
     "text": [
      "-------------------------------------------\n",
      "Batch: 14\n",
      "-------------------------------------------\n",
      "+-----------------------+-----+-----+\n",
      "|timestamp              |value|ident|\n",
      "+-----------------------+-----+-----+\n",
      "|2022-05-16 16:57:59.594|140  |02NJ |\n",
      "|2022-05-16 16:58:01.594|142  |03CA |\n",
      "|2022-05-16 16:58:03.594|144  |02NH |\n",
      "|2022-05-16 16:58:05.594|146  |02MN |\n",
      "|2022-05-16 16:58:07.594|148  |01K  |\n",
      "|2022-05-16 16:58:09.594|150  |02KT |\n",
      "|2022-05-16 16:58:11.594|152  |01TA |\n",
      "|2022-05-16 16:58:13.594|154  |01NE |\n",
      "|2022-05-16 16:58:15.594|156  |02GE |\n",
      "|2022-05-16 16:58:17.594|158  |00PS |\n",
      "|2022-05-16 16:58:19.594|160  |02MI |\n",
      "|2022-05-16 16:58:21.594|162  |00FA |\n",
      "|2022-05-16 16:58:23.594|164  |00KY |\n",
      "|2022-05-16 16:58:25.594|166  |01MI |\n",
      "|2022-05-16 16:58:27.594|168  |00KS |\n",
      "|2022-05-16 16:58:29.594|170  |01CA |\n",
      "|2022-05-16 16:58:31.594|172  |02NH |\n",
      "|2022-05-16 16:58:33.594|174  |00FL |\n",
      "|2022-05-16 16:58:35.594|176  |02MN |\n",
      "|2022-05-16 16:58:37.594|178  |02NE |\n",
      "+-----------------------+-----+-----+\n",
      "only showing top 20 rows\n",
      "\n",
      "-------------------------------------------\n",
      "Batch: 15\n",
      "-------------------------------------------\n",
      "+-----------------------+-----+-----+\n",
      "|timestamp              |value|ident|\n",
      "+-----------------------+-----+-----+\n",
      "|2022-05-16 17:13:21.594|1062 |02XS |\n",
      "|2022-05-16 17:13:23.594|1064 |00KS |\n",
      "|2022-05-16 17:13:25.594|1066 |00TA |\n",
      "|2022-05-16 17:13:27.594|1068 |02MN |\n",
      "|2022-05-16 17:13:22.594|1063 |01KS |\n",
      "|2022-05-16 17:13:24.594|1065 |00II |\n",
      "|2022-05-16 17:13:26.594|1067 |01XA |\n",
      "|2022-05-16 17:13:28.594|1069 |00MD |\n",
      "+-----------------------+-----+-----+\n",
      "\n",
      "-------------------------------------------\n",
      "Batch: 16\n",
      "-------------------------------------------\n",
      "+-----------------------+-----+-----+\n",
      "|timestamp              |value|ident|\n",
      "+-----------------------+-----+-----+\n",
      "|2022-05-16 17:13:29.594|1070 |01TE |\n",
      "|2022-05-16 17:13:31.594|1072 |02NV |\n",
      "|2022-05-16 17:13:33.594|1074 |00KS |\n",
      "|2022-05-16 17:13:35.594|1076 |00NK |\n",
      "|2022-05-16 17:13:37.594|1078 |03AA |\n",
      "|2022-05-16 17:13:30.594|1071 |00ID |\n",
      "|2022-05-16 17:13:32.594|1073 |02LS |\n",
      "|2022-05-16 17:13:34.594|1075 |02MS |\n",
      "|2022-05-16 17:13:36.594|1077 |00NJ |\n",
      "|2022-05-16 17:13:38.594|1079 |01MT |\n",
      "+-----------------------+-----+-----+\n",
      "\n",
      "-------------------------------------------\n",
      "Batch: 17\n",
      "-------------------------------------------\n",
      "+-----------------------+-----+-----+\n",
      "|timestamp              |value|ident|\n",
      "+-----------------------+-----+-----+\n",
      "|2022-05-16 17:13:39.594|1080 |00AA |\n",
      "|2022-05-16 17:13:41.594|1082 |01NY |\n",
      "|2022-05-16 17:13:43.594|1084 |01WY |\n",
      "|2022-05-16 17:13:45.594|1086 |02PS |\n",
      "|2022-05-16 17:13:47.594|1088 |01II |\n",
      "|2022-05-16 17:13:40.594|1081 |02MN |\n",
      "|2022-05-16 17:13:42.594|1083 |01MA |\n",
      "|2022-05-16 17:13:44.594|1085 |02MO |\n",
      "|2022-05-16 17:13:46.594|1087 |00HI |\n",
      "|2022-05-16 17:13:48.594|1089 |01II |\n",
      "+-----------------------+-----+-----+\n",
      "\n",
      "-------------------------------------------\n",
      "Batch: 18\n",
      "-------------------------------------------\n",
      "+-----------------------+-----+-----+\n",
      "|timestamp              |value|ident|\n",
      "+-----------------------+-----+-----+\n",
      "|2022-05-16 17:13:49.594|1090 |00PN |\n",
      "|2022-05-16 17:13:51.594|1092 |02PA |\n",
      "|2022-05-16 17:13:53.594|1094 |02IA |\n",
      "|2022-05-16 17:13:55.594|1096 |00XS |\n",
      "|2022-05-16 17:13:57.594|1098 |02MU |\n",
      "|2022-05-16 17:13:50.594|1091 |01CT |\n",
      "|2022-05-16 17:13:52.594|1093 |01CT |\n",
      "|2022-05-16 17:13:54.594|1095 |02PS |\n",
      "|2022-05-16 17:13:56.594|1097 |02OK |\n",
      "|2022-05-16 17:13:58.594|1099 |02SC |\n",
      "+-----------------------+-----+-----+\n",
      "\n"
     ]
    }
   ],
   "source": [
    "create_console_sink(\"state1\", sdf_with_duplicates).start()"
   ]
  },
  {
   "cell_type": "code",
   "execution_count": 22,
   "metadata": {
    "scrolled": true
   },
   "outputs": [
    {
     "name": "stderr",
     "output_type": "stream",
     "text": [
      "\r",
      "[Stage 46:=============================>                            (1 + 1) / 2]\r",
      "\r",
      "                                                                                \r"
     ]
    },
    {
     "name": "stdout",
     "output_type": "stream",
     "text": [
      "-------------------------------------------\n",
      "Batch: 19\n",
      "-------------------------------------------\n",
      "+-----------------------+-----+-----+\n",
      "|timestamp              |value|ident|\n",
      "+-----------------------+-----+-----+\n",
      "|2022-05-16 17:13:59.594|1100 |00SD |\n",
      "|2022-05-16 17:14:01.594|1102 |00SD |\n",
      "|2022-05-16 17:14:03.594|1104 |01SC |\n",
      "|2022-05-16 17:14:05.594|1106 |01SC |\n",
      "|2022-05-16 17:14:07.594|1108 |03CA |\n",
      "|2022-05-16 17:14:00.594|1101 |03AL |\n",
      "|2022-05-16 17:14:02.594|1103 |01VA |\n",
      "|2022-05-16 17:14:04.594|1105 |01PS |\n",
      "|2022-05-16 17:14:06.594|1107 |02P  |\n",
      "|2022-05-16 17:14:08.594|1109 |01FD |\n",
      "+-----------------------+-----+-----+\n",
      "\n"
     ]
    }
   ],
   "source": [
    "sdf_no_duplicates = \\\n",
    "    spark.readStream.format(\"rate\").load() \\\n",
    "    .withColumn(\"ident\", random_ident()) \\\n",
    "    .dropDuplicates(subset=[\"ident\"])"
   ]
  },
  {
   "cell_type": "code",
   "execution_count": 23,
   "metadata": {
    "scrolled": true
   },
   "outputs": [
    {
     "data": {
      "text/plain": [
       "<pyspark.sql.streaming.StreamingQuery at 0x7fc6b49cd820>"
      ]
     },
     "execution_count": 23,
     "metadata": {},
     "output_type": "execute_result"
    },
    {
     "name": "stderr",
     "output_type": "stream",
     "text": [
      "                                                                                \r"
     ]
    },
    {
     "name": "stdout",
     "output_type": "stream",
     "text": [
      "-------------------------------------------\n",
      "Batch: 1\n",
      "-------------------------------------------\n",
      "+----------------------+-----+-----+\n",
      "|timestamp             |value|ident|\n",
      "+----------------------+-----+-----+\n",
      "|2022-05-16 16:57:21.38|11   |01MT |\n",
      "|2022-05-16 16:57:49.38|39   |01IL |\n",
      "|2022-05-16 16:57:14.38|4    |01NV |\n",
      "|2022-05-16 16:57:22.38|12   |02NH |\n",
      "|2022-05-16 16:57:13.38|3    |01C  |\n",
      "|2022-05-16 16:57:25.38|15   |01FD |\n",
      "|2022-05-16 16:57:29.38|19   |00KS |\n",
      "|2022-05-16 16:57:42.38|32   |02PA |\n",
      "|2022-05-16 16:57:32.38|22   |00LL |\n",
      "|2022-05-16 16:57:54.38|44   |02PN |\n",
      "|2022-05-16 16:57:41.38|31   |02GA |\n",
      "|2022-05-16 16:57:30.38|20   |00WI |\n",
      "|2022-05-16 16:57:51.38|41   |00SC |\n",
      "|2022-05-16 16:57:26.38|16   |01LA |\n",
      "|2022-05-16 16:57:16.38|6    |00PA |\n",
      "|2022-05-16 16:57:37.38|27   |02FL |\n",
      "|2022-05-16 16:57:45.38|35   |00A  |\n",
      "|2022-05-16 16:57:35.38|25   |02LA |\n",
      "|2022-05-16 16:57:15.38|5    |02MU |\n",
      "|2022-05-16 16:57:23.38|13   |02AR |\n",
      "+----------------------+-----+-----+\n",
      "only showing top 20 rows\n",
      "\n"
     ]
    },
    {
     "name": "stderr",
     "output_type": "stream",
     "text": [
      "2022-05-16 17:15:00,777 WARN streaming.ProcessingTimeExecutor: Current batch is falling behind. The trigger interval is 10000 milliseconds, but spent 41437 milliseconds\n"
     ]
    },
    {
     "name": "stdout",
     "output_type": "stream",
     "text": [
      "-------------------------------------------\n",
      "Batch: 20\n",
      "-------------------------------------------\n",
      "+-----------------------+-----+-----+\n",
      "|timestamp              |value|ident|\n",
      "+-----------------------+-----+-----+\n",
      "|2022-05-16 17:14:09.594|1110 |02MA |\n",
      "|2022-05-16 17:14:11.594|1112 |00AR |\n",
      "|2022-05-16 17:14:13.594|1114 |00TE |\n",
      "|2022-05-16 17:14:15.594|1116 |01FL |\n",
      "|2022-05-16 17:14:17.594|1118 |02PN |\n",
      "|2022-05-16 17:14:10.594|1111 |00AZ |\n",
      "|2022-05-16 17:14:12.594|1113 |02IS |\n",
      "|2022-05-16 17:14:14.594|1115 |02TA |\n",
      "|2022-05-16 17:14:16.594|1117 |02TX |\n",
      "|2022-05-16 17:14:18.594|1119 |01TE |\n",
      "+-----------------------+-----+-----+\n",
      "\n"
     ]
    },
    {
     "name": "stderr",
     "output_type": "stream",
     "text": [
      "2022-05-16 17:15:01,331 WARN streaming.ProcessingTimeExecutor: Current batch is falling behind. The trigger interval is 10000 milliseconds, but spent 41331 milliseconds\n",
      "                                                                                \r"
     ]
    },
    {
     "name": "stdout",
     "output_type": "stream",
     "text": [
      "-------------------------------------------\n",
      "Batch: 21\n",
      "-------------------------------------------\n",
      "+-----------------------+-----+-----+\n",
      "|timestamp              |value|ident|\n",
      "+-----------------------+-----+-----+\n",
      "|2022-05-16 17:14:19.594|1120 |01FA |\n",
      "|2022-05-16 17:14:21.594|1122 |01NE |\n",
      "|2022-05-16 17:14:23.594|1124 |01MI |\n",
      "|2022-05-16 17:14:25.594|1126 |02CD |\n",
      "|2022-05-16 17:14:27.594|1128 |02MO |\n",
      "|2022-05-16 17:14:29.594|1130 |01AZ |\n",
      "|2022-05-16 17:14:31.594|1132 |00WA |\n",
      "|2022-05-16 17:14:33.594|1134 |00IL |\n",
      "|2022-05-16 17:14:35.594|1136 |00NC |\n",
      "|2022-05-16 17:14:37.594|1138 |01PS |\n",
      "|2022-05-16 17:14:39.594|1140 |00NJ |\n",
      "|2022-05-16 17:14:41.594|1142 |00ID |\n",
      "|2022-05-16 17:14:43.594|1144 |02CL |\n",
      "|2022-05-16 17:14:45.594|1146 |02PN |\n",
      "|2022-05-16 17:14:47.594|1148 |01CO |\n",
      "|2022-05-16 17:14:49.594|1150 |01AK |\n",
      "|2022-05-16 17:14:51.594|1152 |00ID |\n",
      "|2022-05-16 17:14:53.594|1154 |03FD |\n",
      "|2022-05-16 17:14:55.594|1156 |00IL |\n",
      "|2022-05-16 17:14:57.594|1158 |00TS |\n",
      "+-----------------------+-----+-----+\n",
      "only showing top 20 rows\n",
      "\n"
     ]
    },
    {
     "name": "stderr",
     "output_type": "stream",
     "text": [
      "                                                                                \r"
     ]
    },
    {
     "name": "stdout",
     "output_type": "stream",
     "text": [
      "-------------------------------------------\n",
      "Batch: 22\n",
      "-------------------------------------------\n",
      "+-----------------------+-----+-----+\n",
      "|timestamp              |value|ident|\n",
      "+-----------------------+-----+-----+\n",
      "|2022-05-16 17:15:00.594|1161 |00OR |\n",
      "|2022-05-16 17:15:02.594|1163 |01IA |\n",
      "|2022-05-16 17:15:04.594|1165 |02LA |\n",
      "|2022-05-16 17:15:06.594|1167 |00KY |\n",
      "|2022-05-16 17:15:08.594|1169 |00MO |\n",
      "|2022-05-16 17:15:01.594|1162 |01PS |\n",
      "|2022-05-16 17:15:03.594|1164 |01NH |\n",
      "|2022-05-16 17:15:05.594|1166 |03AR |\n",
      "|2022-05-16 17:15:07.594|1168 |00NY |\n",
      "+-----------------------+-----+-----+\n",
      "\n"
     ]
    },
    {
     "name": "stderr",
     "output_type": "stream",
     "text": [
      "                                                                                \r"
     ]
    },
    {
     "name": "stdout",
     "output_type": "stream",
     "text": [
      "-------------------------------------------\n",
      "Batch: 23\n",
      "-------------------------------------------\n",
      "+-----------------------+-----+-----+\n",
      "|timestamp              |value|ident|\n",
      "+-----------------------+-----+-----+\n",
      "|2022-05-16 17:15:09.594|1170 |02CT |\n",
      "|2022-05-16 17:15:11.594|1172 |01LA |\n",
      "|2022-05-16 17:15:13.594|1174 |00LS |\n",
      "|2022-05-16 17:15:15.594|1176 |02IS |\n",
      "|2022-05-16 17:15:17.594|1178 |00MI |\n",
      "|2022-05-16 17:15:10.594|1171 |02NC |\n",
      "|2022-05-16 17:15:12.594|1173 |00WI |\n",
      "|2022-05-16 17:15:14.594|1175 |01LL |\n",
      "|2022-05-16 17:15:16.594|1177 |00PS |\n",
      "|2022-05-16 17:15:18.594|1179 |00OI |\n",
      "+-----------------------+-----+-----+\n",
      "\n"
     ]
    },
    {
     "name": "stderr",
     "output_type": "stream",
     "text": [
      "                                                                                \r"
     ]
    },
    {
     "name": "stdout",
     "output_type": "stream",
     "text": [
      "-------------------------------------------\n",
      "Batch: 24\n",
      "-------------------------------------------\n",
      "+-----------------------+-----+-----+\n",
      "|timestamp              |value|ident|\n",
      "+-----------------------+-----+-----+\n",
      "|2022-05-16 17:15:19.594|1180 |00CO |\n",
      "|2022-05-16 17:15:21.594|1182 |03CO |\n",
      "|2022-05-16 17:15:23.594|1184 |00WN |\n",
      "|2022-05-16 17:15:25.594|1186 |00AL |\n",
      "|2022-05-16 17:15:27.594|1188 |01CN |\n",
      "|2022-05-16 17:15:20.594|1181 |02MT |\n",
      "|2022-05-16 17:15:22.594|1183 |00MD |\n",
      "|2022-05-16 17:15:24.594|1185 |02MA |\n",
      "|2022-05-16 17:15:26.594|1187 |00WV |\n",
      "|2022-05-16 17:15:28.594|1189 |00IS |\n",
      "+-----------------------+-----+-----+\n",
      "\n"
     ]
    },
    {
     "name": "stderr",
     "output_type": "stream",
     "text": [
      "2022-05-16 17:15:38,524 WARN streaming.ProcessingTimeExecutor: Current batch is falling behind. The trigger interval is 10000 milliseconds, but spent 37747 milliseconds\n"
     ]
    },
    {
     "name": "stdout",
     "output_type": "stream",
     "text": [
      "-------------------------------------------\n",
      "Batch: 2\n",
      "-------------------------------------------\n",
      "+----------------------+-----+-----+\n",
      "|timestamp             |value|ident|\n",
      "+----------------------+-----+-----+\n",
      "|2022-05-16 17:06:34.38|564  |02ID |\n",
      "|2022-05-16 17:02:50.38|340  |03AL |\n",
      "|2022-05-16 16:58:18.38|68   |00GA |\n",
      "|2022-05-16 16:58:14.38|64   |00OR |\n",
      "|2022-05-16 17:08:58.38|708  |00MT |\n",
      "|2022-05-16 17:14:36.38|1046 |00CL |\n",
      "|2022-05-16 16:59:46.38|156  |02IN |\n",
      "|2022-05-16 16:58:22.38|72   |00II |\n",
      "|2022-05-16 17:03:56.38|406  |00S  |\n",
      "|2022-05-16 17:04:20.38|430  |01SC |\n",
      "|2022-05-16 17:12:28.38|918  |02HI |\n",
      "|2022-05-16 17:00:16.38|186  |00MO |\n",
      "|2022-05-16 17:04:46.38|456  |02KS |\n",
      "|2022-05-16 17:03:44.38|394  |00FA |\n",
      "|2022-05-16 17:00:41.38|211  |01KS |\n",
      "|2022-05-16 17:11:05.38|835  |00FL |\n",
      "|2022-05-16 16:59:35.38|145  |01AZ |\n",
      "|2022-05-16 17:03:07.38|357  |01AR |\n",
      "|2022-05-16 17:04:41.38|451  |02II |\n",
      "|2022-05-16 17:12:17.38|907  |02IS |\n",
      "+----------------------+-----+-----+\n",
      "only showing top 20 rows\n",
      "\n"
     ]
    },
    {
     "name": "stderr",
     "output_type": "stream",
     "text": [
      "                                                                                \r"
     ]
    },
    {
     "name": "stdout",
     "output_type": "stream",
     "text": [
      "-------------------------------------------\n",
      "Batch: 25\n",
      "-------------------------------------------\n",
      "+-----------------------+-----+-----+\n",
      "|timestamp              |value|ident|\n",
      "+-----------------------+-----+-----+\n",
      "|2022-05-16 17:15:29.594|1190 |00MT |\n",
      "|2022-05-16 17:15:31.594|1192 |00IN |\n",
      "|2022-05-16 17:15:33.594|1194 |01PS |\n",
      "|2022-05-16 17:15:35.594|1196 |01AK |\n",
      "|2022-05-16 17:15:37.594|1198 |00KS |\n",
      "|2022-05-16 17:15:30.594|1191 |02MD |\n",
      "|2022-05-16 17:15:32.594|1193 |01U  |\n",
      "|2022-05-16 17:15:34.594|1195 |01OK |\n",
      "|2022-05-16 17:15:36.594|1197 |01MA |\n",
      "|2022-05-16 17:15:38.594|1199 |02IN |\n",
      "+-----------------------+-----+-----+\n",
      "\n"
     ]
    },
    {
     "name": "stderr",
     "output_type": "stream",
     "text": [
      "[Stage 60:===========================>                          (100 + 2) / 200]\r"
     ]
    }
   ],
   "source": [
    "create_console_sink(\"state2\", sdf_no_duplicates).start()"
   ]
  },
  {
   "cell_type": "code",
   "execution_count": 24,
   "metadata": {
    "scrolled": true
   },
   "outputs": [
    {
     "name": "stdout",
     "output_type": "stream",
     "text": [
      "Stopped RateStreamV2[rowsPerSecond=1, rampUpTimeSeconds=0, numPartitions=default\n",
      "Stopped RateStreamV2[rowsPerSecond=1, rampUpTimeSeconds=0, numPartitions=default\n"
     ]
    },
    {
     "name": "stderr",
     "output_type": "stream",
     "text": [
      "2022-05-16 17:15:46,544 ERROR v2.WriteToDataSourceV2Exec: Data source write support org.apache.spark.sql.execution.streaming.sources.MicroBatchWrite@13dd7a06 is aborting.\n",
      "2022-05-16 17:15:46,544 ERROR v2.WriteToDataSourceV2Exec: Data source write support org.apache.spark.sql.execution.streaming.sources.MicroBatchWrite@13dd7a06 aborted.\n",
      "2022-05-16 17:15:46,662 WARN scheduler.TaskSetManager: Lost task 31.0 in stage 60.0 (TID 1132, rc1a-dataproc-d-e998z4fz8my7a5xz.mdb.yandexcloud.net, executor 10): TaskKilled (Stage cancelled)\n",
      "2022-05-16 17:15:46,674 WARN scheduler.TaskSetManager: Lost task 33.0 in stage 60.0 (TID 1133, rc1a-dataproc-d-e998z4fz8my7a5xz.mdb.yandexcloud.net, executor 10): TaskKilled (Stage cancelled)\n"
     ]
    }
   ],
   "source": [
    "kill_all()"
   ]
  },
  {
   "cell_type": "markdown",
   "metadata": {},
   "source": [
    "### С использованием watermark\n",
    "- Хеш старых событий удаляется из чекпоинта\n",
    "- Появление дубликатов возможно, если они приходят c задержкой N > watermark\n",
    "- Стрим не деградирует со временем\n",
    "- Колонка, по которой делается `watermark`, должна быть включена в `dropDuplicates`"
   ]
  },
  {
   "cell_type": "code",
   "execution_count": 25,
   "metadata": {},
   "outputs": [
    {
     "name": "stderr",
     "output_type": "stream",
     "text": [
      "\r",
      "                                                                                \r"
     ]
    },
    {
     "data": {
      "text/plain": [
       "<pyspark.sql.streaming.StreamingQuery at 0x7fc6b49d76a0>"
      ]
     },
     "execution_count": 25,
     "metadata": {},
     "output_type": "execute_result"
    },
    {
     "name": "stderr",
     "output_type": "stream",
     "text": [
      "2022-05-16 17:21:45,567 WARN streaming.ProcessingTimeExecutor: Current batch is falling behind. The trigger interval is 10000 milliseconds, but spent 43126 milliseconds\n"
     ]
    },
    {
     "name": "stdout",
     "output_type": "stream",
     "text": [
      "-------------------------------------------\n",
      "Batch: 1\n",
      "-------------------------------------------\n",
      "+-----------------------+-----+-----+\n",
      "|timestamp              |value|ident|\n",
      "+-----------------------+-----+-----+\n",
      "|2022-05-16 16:58:34.419|5    |01PS |\n",
      "|2022-05-16 16:58:36.419|7    |02WA |\n",
      "|2022-05-16 16:58:30.419|1    |00TN |\n",
      "|2022-05-16 16:58:29.419|0    |00CO |\n",
      "|2022-05-16 16:58:31.419|2    |02IN |\n",
      "|2022-05-16 16:58:33.419|4    |02CD |\n",
      "|2022-05-16 16:58:35.419|6    |00GA |\n",
      "|2022-05-16 16:58:32.419|3    |01NJ |\n",
      "+-----------------------+-----+-----+\n",
      "\n"
     ]
    },
    {
     "name": "stderr",
     "output_type": "stream",
     "text": [
      "2022-05-16 17:22:24,508 WARN streaming.ProcessingTimeExecutor: Current batch is falling behind. The trigger interval is 10000 milliseconds, but spent 38941 milliseconds\n"
     ]
    },
    {
     "name": "stdout",
     "output_type": "stream",
     "text": [
      "-------------------------------------------\n",
      "Batch: 2\n",
      "-------------------------------------------\n",
      "+-----------------------+-----+-----+\n",
      "|timestamp              |value|ident|\n",
      "+-----------------------+-----+-----+\n",
      "|2022-05-16 17:05:01.419|392  |02NJ |\n",
      "|2022-05-16 17:07:31.419|542  |01CT |\n",
      "|2022-05-16 17:12:13.419|824  |00VA |\n",
      "|2022-05-16 17:17:31.419|1142 |00SD |\n",
      "|2022-05-16 16:59:28.419|59   |01AL |\n",
      "|2022-05-16 17:03:38.419|309  |03FA |\n",
      "|2022-05-16 17:04:41.419|372  |02NY |\n",
      "|2022-05-16 17:07:27.419|538  |01KS |\n",
      "|2022-05-16 17:20:57.419|1348 |01WN |\n",
      "|2022-05-16 17:04:34.419|365  |01LS |\n",
      "|2022-05-16 17:10:38.419|729  |01TE |\n",
      "|2022-05-16 17:20:12.419|1303 |02MA |\n",
      "|2022-05-16 17:03:57.419|328  |02ID |\n",
      "|2022-05-16 17:02:40.419|251  |00NC |\n",
      "|2022-05-16 17:07:24.419|535  |00VI |\n",
      "|2022-05-16 17:14:12.419|943  |01TA |\n",
      "|2022-05-16 17:03:43.419|314  |02FL |\n",
      "|2022-05-16 17:03:48.419|319  |02FA |\n",
      "|2022-05-16 17:06:18.419|469  |01PS |\n",
      "|2022-05-16 17:06:20.419|471  |01MN |\n",
      "+-----------------------+-----+-----+\n",
      "only showing top 20 rows\n",
      "\n"
     ]
    },
    {
     "name": "stderr",
     "output_type": "stream",
     "text": [
      "                                                                                \r"
     ]
    },
    {
     "name": "stdout",
     "output_type": "stream",
     "text": [
      "-------------------------------------------\n",
      "Batch: 3\n",
      "-------------------------------------------\n",
      "+-----------------------+-----+-----+\n",
      "|timestamp              |value|ident|\n",
      "+-----------------------+-----+-----+\n",
      "|2022-05-16 17:22:04.419|1415 |02TA |\n",
      "|2022-05-16 17:21:53.419|1404 |00TE |\n",
      "|2022-05-16 17:22:08.419|1419 |00VI |\n",
      "|2022-05-16 17:22:17.419|1428 |00AL |\n",
      "|2022-05-16 17:22:07.419|1418 |01GE |\n",
      "|2022-05-16 17:21:49.419|1400 |00AZ |\n",
      "|2022-05-16 17:22:02.419|1413 |01U  |\n",
      "|2022-05-16 17:21:46.419|1397 |00CO |\n",
      "|2022-05-16 17:22:05.419|1416 |00AR |\n",
      "|2022-05-16 17:22:15.419|1426 |01NH |\n",
      "|2022-05-16 17:22:22.419|1433 |02LA |\n",
      "|2022-05-16 17:21:55.419|1406 |02MD |\n",
      "|2022-05-16 17:22:09.419|1420 |01WN |\n",
      "|2022-05-16 17:21:56.419|1407 |02KY |\n",
      "|2022-05-16 17:22:00.419|1411 |02MI |\n",
      "|2022-05-16 17:22:13.419|1424 |01PA |\n",
      "|2022-05-16 17:22:06.419|1417 |01ME |\n",
      "|2022-05-16 17:21:48.419|1399 |02T  |\n",
      "|2022-05-16 17:21:54.419|1405 |02CA |\n",
      "|2022-05-16 17:22:01.419|1412 |01A  |\n",
      "+-----------------------+-----+-----+\n",
      "only showing top 20 rows\n",
      "\n"
     ]
    },
    {
     "name": "stderr",
     "output_type": "stream",
     "text": [
      "2022-05-16 17:23:02,212 WARN streaming.ProcessingTimeExecutor: Current batch is falling behind. The trigger interval is 10000 milliseconds, but spent 37703 milliseconds\n",
      "2022-05-16 17:23:41,326 WARN streaming.ProcessingTimeExecutor: Current batch is falling behind. The trigger interval is 10000 milliseconds, but spent 39114 milliseconds\n"
     ]
    },
    {
     "name": "stdout",
     "output_type": "stream",
     "text": [
      "-------------------------------------------\n",
      "Batch: 4\n",
      "-------------------------------------------\n",
      "+-----------------------+-----+-----+\n",
      "|timestamp              |value|ident|\n",
      "+-----------------------+-----+-----+\n",
      "|2022-05-16 17:22:40.419|1451 |00AZ |\n",
      "|2022-05-16 17:22:47.419|1458 |01ID |\n",
      "|2022-05-16 17:22:54.419|1465 |02AR |\n",
      "|2022-05-16 17:22:50.419|1461 |03AZ |\n",
      "|2022-05-16 17:22:25.419|1436 |00MN |\n",
      "|2022-05-16 17:22:27.419|1438 |00OR |\n",
      "|2022-05-16 17:22:49.419|1460 |00AA |\n",
      "|2022-05-16 17:22:55.419|1466 |00UT |\n",
      "|2022-05-16 17:23:00.419|1471 |02OI |\n",
      "|2022-05-16 17:22:30.419|1441 |02KY |\n",
      "|2022-05-16 17:22:36.419|1447 |02UT |\n",
      "|2022-05-16 17:22:33.419|1444 |01MN |\n",
      "|2022-05-16 17:22:52.419|1463 |01CO |\n",
      "|2022-05-16 17:22:57.419|1468 |00IL |\n",
      "|2022-05-16 17:22:59.419|1470 |01LS |\n",
      "|2022-05-16 17:22:56.419|1467 |00VI |\n",
      "|2022-05-16 17:22:34.419|1445 |00FA |\n",
      "|2022-05-16 17:22:48.419|1459 |01IN |\n",
      "|2022-05-16 17:22:44.419|1455 |00N  |\n",
      "|2022-05-16 17:22:39.419|1450 |00WA |\n",
      "+-----------------------+-----+-----+\n",
      "only showing top 20 rows\n",
      "\n"
     ]
    },
    {
     "name": "stderr",
     "output_type": "stream",
     "text": [
      "2022-05-16 17:24:18,235 WARN streaming.ProcessingTimeExecutor: Current batch is falling behind. The trigger interval is 10000 milliseconds, but spent 36909 milliseconds\n"
     ]
    },
    {
     "name": "stdout",
     "output_type": "stream",
     "text": [
      "-------------------------------------------\n",
      "Batch: 5\n",
      "-------------------------------------------\n",
      "+-----------------------+-----+-----+\n",
      "|timestamp              |value|ident|\n",
      "+-----------------------+-----+-----+\n",
      "|2022-05-16 17:23:17.419|1488 |01TA |\n",
      "|2022-05-16 17:23:37.419|1508 |00TN |\n",
      "|2022-05-16 17:23:27.419|1498 |01CO |\n",
      "|2022-05-16 17:23:04.419|1475 |01LL |\n",
      "|2022-05-16 17:23:28.419|1499 |00WV |\n",
      "|2022-05-16 17:23:05.419|1476 |01CO |\n",
      "|2022-05-16 17:23:24.419|1495 |01CO |\n",
      "|2022-05-16 17:23:10.419|1481 |02MT |\n",
      "|2022-05-16 17:23:13.419|1484 |01CA |\n",
      "|2022-05-16 17:23:08.419|1479 |01IN |\n",
      "|2022-05-16 17:23:21.419|1492 |00TA |\n",
      "|2022-05-16 17:23:16.419|1487 |02MU |\n",
      "|2022-05-16 17:23:09.419|1480 |03AR |\n",
      "|2022-05-16 17:23:19.419|1490 |02HI |\n",
      "|2022-05-16 17:23:12.419|1483 |02IN |\n",
      "|2022-05-16 17:23:26.419|1497 |01MT |\n",
      "|2022-05-16 17:23:30.419|1501 |02GE |\n",
      "|2022-05-16 17:23:33.419|1504 |02MU |\n",
      "|2022-05-16 17:23:03.419|1474 |02II |\n",
      "|2022-05-16 17:23:20.419|1491 |02MA |\n",
      "+-----------------------+-----+-----+\n",
      "only showing top 20 rows\n",
      "\n"
     ]
    },
    {
     "name": "stderr",
     "output_type": "stream",
     "text": [
      "2022-05-16 17:24:57,420 WARN streaming.ProcessingTimeExecutor: Current batch is falling behind. The trigger interval is 10000 milliseconds, but spent 39184 milliseconds\n"
     ]
    },
    {
     "name": "stdout",
     "output_type": "stream",
     "text": [
      "-------------------------------------------\n",
      "Batch: 6\n",
      "-------------------------------------------\n",
      "+-----------------------+-----+-----+\n",
      "|timestamp              |value|ident|\n",
      "+-----------------------+-----+-----+\n",
      "|2022-05-16 17:23:45.419|1516 |02CO |\n",
      "|2022-05-16 17:23:55.419|1526 |02PA |\n",
      "|2022-05-16 17:24:07.419|1538 |02MO |\n",
      "|2022-05-16 17:24:12.419|1543 |02PN |\n",
      "|2022-05-16 17:23:49.419|1520 |01GA |\n",
      "|2022-05-16 17:23:59.419|1530 |00FA |\n",
      "|2022-05-16 17:24:01.419|1532 |00GE |\n",
      "|2022-05-16 17:24:05.419|1536 |01AR |\n",
      "|2022-05-16 17:23:52.419|1523 |01UT |\n",
      "|2022-05-16 17:24:09.419|1540 |00SD |\n",
      "|2022-05-16 17:24:02.419|1533 |01MI |\n",
      "|2022-05-16 17:23:42.419|1513 |01LL |\n",
      "|2022-05-16 17:23:46.419|1517 |00AK |\n",
      "|2022-05-16 17:23:41.419|1512 |01CT |\n",
      "|2022-05-16 17:24:13.419|1544 |00HI |\n",
      "|2022-05-16 17:24:14.419|1545 |02MO |\n",
      "|2022-05-16 17:24:10.419|1541 |01NJ |\n",
      "|2022-05-16 17:24:03.419|1534 |02II |\n",
      "|2022-05-16 17:23:44.419|1515 |03FA |\n",
      "|2022-05-16 17:23:50.419|1521 |03AR |\n",
      "+-----------------------+-----+-----+\n",
      "only showing top 20 rows\n",
      "\n"
     ]
    },
    {
     "name": "stderr",
     "output_type": "stream",
     "text": [
      "[Stage 79:=======================================>              (145 + 2) / 200]\r"
     ]
    }
   ],
   "source": [
    "sdf_no_duplicates = spark.readStream.format(\"rate\").load() \\\n",
    "                        .withColumn(\"ident\", random_ident()) \\\n",
    "                        .withWatermark(\"timestamp\", \"1 minutes\") \\\n",
    "                        .dropDuplicates(subset=[\"ident\", \"timestamp\"])\n",
    "\n",
    "create_console_sink(\"state3\", sdf_no_duplicates).start()"
   ]
  },
  {
   "cell_type": "code",
   "execution_count": 15,
   "metadata": {
    "scrolled": true
   },
   "outputs": [
    {
     "name": "stdout",
     "output_type": "stream",
     "text": [
      "Stopped RateStreamV2[rowsPerSecond=1, rampUpTimeSeconds=0, numPartitions=default\n"
     ]
    },
    {
     "name": "stderr",
     "output_type": "stream",
     "text": [
      "2022-05-16 16:58:42,484 ERROR v2.WriteToDataSourceV2Exec: Data source write support org.apache.spark.sql.execution.streaming.sources.MicroBatchWrite@45dc0a3f is aborting.\n",
      "2022-05-16 16:58:42,484 ERROR v2.WriteToDataSourceV2Exec: Data source write support org.apache.spark.sql.execution.streaming.sources.MicroBatchWrite@45dc0a3f aborted.\n",
      "2022-05-16 16:58:42,536 WARN scheduler.TaskSetManager: Lost task 12.0 in stage 33.0 (TID 575, rc1a-dataproc-d-e998z4fz8my7a5xz.mdb.yandexcloud.net, executor 2): TaskKilled (Stage cancelled)\n",
      "2022-05-16 16:58:42,592 WARN scheduler.TaskSetManager: Lost task 21.0 in stage 33.0 (TID 583, rc1a-dataproc-d-e998z4fz8my7a5xz.mdb.yandexcloud.net, executor 1): TaskKilled (Stage cancelled)\n",
      "2022-05-16 16:58:42,608 WARN scheduler.TaskSetManager: Lost task 30.0 in stage 33.0 (TID 581, rc1a-dataproc-d-e998z4fz8my7a5xz.mdb.yandexcloud.net, executor 2): TaskKilled (Stage cancelled)\n",
      "2022-05-16 16:58:42,608 WARN scheduler.TaskSetManager: Lost task 20.0 in stage 33.0 (TID 582, rc1a-dataproc-d-e998z4fz8my7a5xz.mdb.yandexcloud.net, executor 1): TaskKilled (Stage cancelled)\n",
      "2022-05-16 16:58:42,620 WARN scheduler.TaskSetManager: Lost task 15.0 in stage 33.0 (TID 580, rc1a-dataproc-d-e998z4fz8my7a5xz.mdb.yandexcloud.net, executor 3): TaskKilled (Stage cancelled)\n",
      "2022-05-16 16:58:42,620 WARN scheduler.TaskSetManager: Lost task 16.0 in stage 33.0 (TID 572, rc1a-dataproc-d-e998z4fz8my7a5xz.mdb.yandexcloud.net, executor 5): TaskKilled (Stage cancelled)\n",
      "2022-05-16 16:58:42,632 WARN scheduler.TaskSetManager: Lost task 1.0 in stage 33.0 (TID 561, rc1a-dataproc-d-e998z4fz8my7a5xz.mdb.yandexcloud.net, executor 10): TaskKilled (Stage cancelled)\n",
      "2022-05-16 16:58:42,632 WARN scheduler.TaskSetManager: Lost task 6.0 in stage 33.0 (TID 562, rc1a-dataproc-d-e998z4fz8my7a5xz.mdb.yandexcloud.net, executor 5): TaskKilled (Stage cancelled)\n",
      "2022-05-16 16:58:42,632 WARN scheduler.TaskSetManager: Lost task 10.0 in stage 33.0 (TID 576, rc1a-dataproc-d-e998z4fz8my7a5xz.mdb.yandexcloud.net, executor 4): TaskKilled (Stage cancelled)\n",
      "2022-05-16 16:58:42,644 WARN scheduler.TaskSetManager: Lost task 0.0 in stage 33.0 (TID 566, rc1a-dataproc-d-e998z4fz8my7a5xz.mdb.yandexcloud.net, executor 4): TaskKilled (Stage cancelled)\n",
      "2022-05-16 16:58:42,644 WARN scheduler.TaskSetManager: Lost task 11.0 in stage 33.0 (TID 571, rc1a-dataproc-d-e998z4fz8my7a5xz.mdb.yandexcloud.net, executor 10): TaskKilled (Stage cancelled)\n",
      "2022-05-16 16:58:42,644 WARN scheduler.TaskSetManager: Lost task 13.0 in stage 33.0 (TID 579, rc1a-dataproc-d-e998z4fz8my7a5xz.mdb.yandexcloud.net, executor 9): TaskKilled (Stage cancelled)\n",
      "2022-05-16 16:58:42,656 WARN scheduler.TaskSetManager: Lost task 5.0 in stage 33.0 (TID 570, rc1a-dataproc-d-e998z4fz8my7a5xz.mdb.yandexcloud.net, executor 3): TaskKilled (Stage cancelled)\n",
      "2022-05-16 16:58:42,656 WARN scheduler.TaskSetManager: Lost task 9.0 in stage 33.0 (TID 563, rc1a-dataproc-d-e998z4fz8my7a5xz.mdb.yandexcloud.net, executor 8): TaskKilled (Stage cancelled)\n",
      "2022-05-16 16:58:42,656 WARN scheduler.TaskSetManager: Lost task 3.0 in stage 33.0 (TID 569, rc1a-dataproc-d-e998z4fz8my7a5xz.mdb.yandexcloud.net, executor 9): TaskKilled (Stage cancelled)\n",
      "2022-05-16 16:58:42,668 WARN scheduler.TaskSetManager: Lost task 19.0 in stage 33.0 (TID 573, rc1a-dataproc-d-e998z4fz8my7a5xz.mdb.yandexcloud.net, executor 8): TaskKilled (Stage cancelled)\n",
      "2022-05-16 16:58:42,696 WARN scheduler.TaskSetManager: Lost task 14.0 in stage 33.0 (TID 574, rc1a-dataproc-d-e998z4fz8my7a5xz.mdb.yandexcloud.net, executor 6): TaskKilled (Stage cancelled)\n",
      "2022-05-16 16:58:42,696 WARN scheduler.TaskSetManager: Lost task 8.0 in stage 33.0 (TID 567, rc1a-dataproc-d-e998z4fz8my7a5xz.mdb.yandexcloud.net, executor 7): TaskKilled (Stage cancelled)\n",
      "2022-05-16 16:58:42,697 WARN scheduler.TaskSetManager: Lost task 57.0 in stage 33.0 (TID 584, rc1a-dataproc-d-e998z4fz8my7a5xz.mdb.yandexcloud.net, executor 6): TaskKilled (Stage cancelled)\n",
      "2022-05-16 16:58:42,708 WARN scheduler.TaskSetManager: Lost task 18.0 in stage 33.0 (TID 577, rc1a-dataproc-d-e998z4fz8my7a5xz.mdb.yandexcloud.net, executor 7): TaskKilled (Stage cancelled)\n"
     ]
    }
   ],
   "source": [
    "kill_all()"
   ]
  },
  {
   "cell_type": "markdown",
   "metadata": {},
   "source": [
    "### Выводы:\n",
    "- Spark позволяет удалять дубликаты из стрима\n",
    "- Для стабильной работы требуется использовать `watermark`"
   ]
  },
  {
   "cell_type": "markdown",
   "metadata": {},
   "source": [
    "## Агрегаты\n",
    "При построении агрегатов на стриме важно задать правильный `outputMode`, который может иметь три значения:\n",
    "- `append`\n",
    "- `update`\n",
    "- `complete`"
   ]
  },
  {
   "cell_type": "markdown",
   "metadata": {},
   "source": [
    "### Complete mode"
   ]
  },
  {
   "cell_type": "code",
   "execution_count": null,
   "metadata": {},
   "outputs": [],
   "source": [
    "def create_console_sink(chk_name, mode, df):\n",
    "    return df \\\n",
    "        .writeStream \\\n",
    "        .outputMode(mode) \\\n",
    "        .format(\"console\") \\\n",
    "        .trigger(processingTime=\"10 seconds\") \\\n",
    "        .option(\"checkpointLocation\", \"/tmp/chk/{n}\".format(n=chk_name)) \\\n",
    "        .option(\"truncate\", \"false\") \\\n",
    "        .option(\"numRows\", \"20\")"
   ]
  },
  {
   "cell_type": "code",
   "execution_count": 38,
   "metadata": {},
   "outputs": [],
   "source": [
    "from pyspark.sql.functions import col\n",
    "\n",
    "grouped = sdf_with_duplicates.groupBy(col(\"ident\")).count()"
   ]
  },
  {
   "cell_type": "code",
   "execution_count": 39,
   "metadata": {},
   "outputs": [
    {
     "data": {
      "text/plain": [
       "<pyspark.sql.streaming.StreamingQuery at 0x7fc6b4e54d90>"
      ]
     },
     "execution_count": 39,
     "metadata": {},
     "output_type": "execute_result"
    },
    {
     "name": "stderr",
     "output_type": "stream",
     "text": [
      "2022-05-16 17:28:53,809 WARN streaming.ProcessingTimeExecutor: Current batch is falling behind. The trigger interval is 10000 milliseconds, but spent 10458 milliseconds\n"
     ]
    },
    {
     "name": "stdout",
     "output_type": "stream",
     "text": [
      "-------------------------------------------\n",
      "Batch: 16\n",
      "-------------------------------------------\n",
      "+-----+-----+\n",
      "|ident|count|\n",
      "+-----+-----+\n",
      "|02ID |1    |\n",
      "|03AL |1    |\n",
      "|00GA |1    |\n",
      "|00MT |1    |\n",
      "|00OR |2    |\n",
      "|01MT |1    |\n",
      "|00WV |2    |\n",
      "|02IN |1    |\n",
      "|01IL |1    |\n",
      "|01SC |1    |\n",
      "|02HI |1    |\n",
      "|00MO |1    |\n",
      "|02NH |4    |\n",
      "|00FA |1    |\n",
      "|00FL |1    |\n",
      "|01KS |1    |\n",
      "|02II |1    |\n",
      "|02IS |2    |\n",
      "|01C  |1    |\n",
      "|00NC |1    |\n",
      "+-----+-----+\n",
      "only showing top 20 rows\n",
      "\n"
     ]
    },
    {
     "name": "stderr",
     "output_type": "stream",
     "text": [
      "                                                                                \r"
     ]
    },
    {
     "name": "stdout",
     "output_type": "stream",
     "text": [
      "-------------------------------------------\n",
      "Batch: 17\n",
      "-------------------------------------------\n",
      "+-----+-----+\n",
      "|ident|count|\n",
      "+-----+-----+\n",
      "|02ID |1    |\n",
      "|03AL |1    |\n",
      "|00GA |1    |\n",
      "|00MT |1    |\n",
      "|00OR |2    |\n",
      "|01MT |1    |\n",
      "|00WV |2    |\n",
      "|02IN |1    |\n",
      "|01IL |1    |\n",
      "|01SC |1    |\n",
      "|02HI |1    |\n",
      "|00MO |1    |\n",
      "|02NH |4    |\n",
      "|00FA |1    |\n",
      "|00FL |1    |\n",
      "|01KS |1    |\n",
      "|02II |1    |\n",
      "|02IS |2    |\n",
      "|01C  |1    |\n",
      "|00NC |1    |\n",
      "+-----+-----+\n",
      "only showing top 20 rows\n",
      "\n"
     ]
    },
    {
     "name": "stderr",
     "output_type": "stream",
     "text": [
      "                                                                                \r"
     ]
    },
    {
     "name": "stdout",
     "output_type": "stream",
     "text": [
      "-------------------------------------------\n",
      "Batch: 18\n",
      "-------------------------------------------\n",
      "+-----+-----+\n",
      "|ident|count|\n",
      "+-----+-----+\n",
      "|02ID |1    |\n",
      "|03AL |2    |\n",
      "|00GA |1    |\n",
      "|00MT |1    |\n",
      "|00OR |2    |\n",
      "|01MT |1    |\n",
      "|00WV |2    |\n",
      "|02IN |1    |\n",
      "|01IL |1    |\n",
      "|01SC |1    |\n",
      "|02HI |1    |\n",
      "|00MO |1    |\n",
      "|02NH |4    |\n",
      "|00FA |1    |\n",
      "|00FL |1    |\n",
      "|01KS |1    |\n",
      "|02II |1    |\n",
      "|02IS |2    |\n",
      "|01C  |1    |\n",
      "|00NC |1    |\n",
      "+-----+-----+\n",
      "only showing top 20 rows\n",
      "\n"
     ]
    },
    {
     "name": "stderr",
     "output_type": "stream",
     "text": [
      "                                                                                \r"
     ]
    },
    {
     "name": "stdout",
     "output_type": "stream",
     "text": [
      "-------------------------------------------\n",
      "Batch: 19\n",
      "-------------------------------------------\n",
      "+-----+-----+\n",
      "|ident|count|\n",
      "+-----+-----+\n",
      "|02ID |1    |\n",
      "|03AL |2    |\n",
      "|00GA |1    |\n",
      "|00MT |1    |\n",
      "|00OR |2    |\n",
      "|01MT |1    |\n",
      "|00WV |2    |\n",
      "|02IN |1    |\n",
      "|01IL |1    |\n",
      "|01SC |2    |\n",
      "|02HI |1    |\n",
      "|00MO |1    |\n",
      "|02NH |4    |\n",
      "|00FA |1    |\n",
      "|00FL |1    |\n",
      "|01KS |1    |\n",
      "|02II |1    |\n",
      "|02IS |3    |\n",
      "|01C  |1    |\n",
      "|00NC |1    |\n",
      "+-----+-----+\n",
      "only showing top 20 rows\n",
      "\n"
     ]
    },
    {
     "name": "stderr",
     "output_type": "stream",
     "text": [
      "                                                                                \r"
     ]
    },
    {
     "name": "stdout",
     "output_type": "stream",
     "text": [
      "-------------------------------------------\n",
      "Batch: 20\n",
      "-------------------------------------------\n",
      "+-----+-----+\n",
      "|ident|count|\n",
      "+-----+-----+\n",
      "|02ID |1    |\n",
      "|03AL |2    |\n",
      "|00GA |1    |\n",
      "|00MT |1    |\n",
      "|00OR |2    |\n",
      "|01MT |1    |\n",
      "|00WV |2    |\n",
      "|02IN |1    |\n",
      "|01IL |1    |\n",
      "|00S  |1    |\n",
      "|01SC |2    |\n",
      "|02HI |1    |\n",
      "|00MO |1    |\n",
      "|02NH |4    |\n",
      "|00FA |1    |\n",
      "|00FL |1    |\n",
      "|01KS |1    |\n",
      "|02II |1    |\n",
      "|02IS |3    |\n",
      "|01C  |1    |\n",
      "+-----+-----+\n",
      "only showing top 20 rows\n",
      "\n"
     ]
    },
    {
     "name": "stderr",
     "output_type": "stream",
     "text": [
      "                                                                                \r"
     ]
    },
    {
     "name": "stdout",
     "output_type": "stream",
     "text": [
      "-------------------------------------------\n",
      "Batch: 21\n",
      "-------------------------------------------\n",
      "+-----+-----+\n",
      "|ident|count|\n",
      "+-----+-----+\n",
      "|02ID |1    |\n",
      "|03AL |2    |\n",
      "|00GA |1    |\n",
      "|00MT |1    |\n",
      "|00OR |2    |\n",
      "|01MT |1    |\n",
      "|00WV |2    |\n",
      "|02IN |1    |\n",
      "|01IL |1    |\n",
      "|00S  |1    |\n",
      "|01SC |2    |\n",
      "|02HI |1    |\n",
      "|00MO |1    |\n",
      "|02NH |4    |\n",
      "|00FA |1    |\n",
      "|00FL |1    |\n",
      "|01KS |1    |\n",
      "|02II |1    |\n",
      "|02IS |4    |\n",
      "|01C  |1    |\n",
      "+-----+-----+\n",
      "only showing top 20 rows\n",
      "\n"
     ]
    },
    {
     "name": "stderr",
     "output_type": "stream",
     "text": [
      "                                                                                \r"
     ]
    },
    {
     "name": "stdout",
     "output_type": "stream",
     "text": [
      "-------------------------------------------\n",
      "Batch: 22\n",
      "-------------------------------------------\n",
      "+-----+-----+\n",
      "|ident|count|\n",
      "+-----+-----+\n",
      "|02ID |1    |\n",
      "|03AL |2    |\n",
      "|00GA |1    |\n",
      "|00MT |1    |\n",
      "|00OR |2    |\n",
      "|01MT |1    |\n",
      "|00WV |2    |\n",
      "|02IN |1    |\n",
      "|01IL |1    |\n",
      "|00S  |1    |\n",
      "|01SC |2    |\n",
      "|02HI |1    |\n",
      "|00MO |1    |\n",
      "|02NH |4    |\n",
      "|00FA |1    |\n",
      "|00FL |1    |\n",
      "|01KS |1    |\n",
      "|02II |1    |\n",
      "|02IS |4    |\n",
      "|01C  |1    |\n",
      "+-----+-----+\n",
      "only showing top 20 rows\n",
      "\n"
     ]
    },
    {
     "name": "stderr",
     "output_type": "stream",
     "text": [
      "                                                                                \r"
     ]
    },
    {
     "name": "stdout",
     "output_type": "stream",
     "text": [
      "-------------------------------------------\n",
      "Batch: 23\n",
      "-------------------------------------------\n",
      "+-----+-----+\n",
      "|ident|count|\n",
      "+-----+-----+\n",
      "|02ID |1    |\n",
      "|03AL |2    |\n",
      "|00GA |1    |\n",
      "|00MT |1    |\n",
      "|00OR |2    |\n",
      "|01MT |1    |\n",
      "|00WV |2    |\n",
      "|02IN |1    |\n",
      "|01IL |1    |\n",
      "|00S  |1    |\n",
      "|01SC |2    |\n",
      "|02HI |1    |\n",
      "|00MO |2    |\n",
      "|02NH |4    |\n",
      "|00FA |1    |\n",
      "|00FL |1    |\n",
      "|01KS |1    |\n",
      "|02II |1    |\n",
      "|02IS |5    |\n",
      "|01C  |1    |\n",
      "+-----+-----+\n",
      "only showing top 20 rows\n",
      "\n"
     ]
    },
    {
     "name": "stderr",
     "output_type": "stream",
     "text": [
      "                                                                                \r"
     ]
    },
    {
     "name": "stdout",
     "output_type": "stream",
     "text": [
      "-------------------------------------------\n",
      "Batch: 24\n",
      "-------------------------------------------\n",
      "+-----+-----+\n",
      "|ident|count|\n",
      "+-----+-----+\n",
      "|02ID |1    |\n",
      "|03AL |2    |\n",
      "|00GA |2    |\n",
      "|00MT |1    |\n",
      "|00OR |2    |\n",
      "|01MT |1    |\n",
      "|00WV |2    |\n",
      "|02IN |1    |\n",
      "|01IL |1    |\n",
      "|00S  |1    |\n",
      "|01SC |2    |\n",
      "|02HI |1    |\n",
      "|00MO |2    |\n",
      "|02NH |4    |\n",
      "|00FA |1    |\n",
      "|00FL |1    |\n",
      "|01KS |1    |\n",
      "|02II |2    |\n",
      "|02IS |6    |\n",
      "|01C  |1    |\n",
      "+-----+-----+\n",
      "only showing top 20 rows\n",
      "\n"
     ]
    },
    {
     "name": "stderr",
     "output_type": "stream",
     "text": [
      "                                                                                \r"
     ]
    },
    {
     "name": "stdout",
     "output_type": "stream",
     "text": [
      "-------------------------------------------\n",
      "Batch: 25\n",
      "-------------------------------------------\n",
      "+-----+-----+\n",
      "|ident|count|\n",
      "+-----+-----+\n",
      "|02ID |1    |\n",
      "|03AL |2    |\n",
      "|00GA |2    |\n",
      "|00MT |1    |\n",
      "|00OR |2    |\n",
      "|01MT |1    |\n",
      "|00WV |2    |\n",
      "|02IN |1    |\n",
      "|01IL |1    |\n",
      "|00S  |1    |\n",
      "|01SC |2    |\n",
      "|02HI |2    |\n",
      "|00MO |2    |\n",
      "|02NH |4    |\n",
      "|00FA |1    |\n",
      "|00FL |1    |\n",
      "|01KS |1    |\n",
      "|02II |2    |\n",
      "|02IS |6    |\n",
      "|01C  |2    |\n",
      "+-----+-----+\n",
      "only showing top 20 rows\n",
      "\n"
     ]
    },
    {
     "name": "stderr",
     "output_type": "stream",
     "text": [
      "                                                                                \r"
     ]
    },
    {
     "name": "stdout",
     "output_type": "stream",
     "text": [
      "-------------------------------------------\n",
      "Batch: 26\n",
      "-------------------------------------------\n",
      "+-----+-----+\n",
      "|ident|count|\n",
      "+-----+-----+\n",
      "|02ID |1    |\n",
      "|03AL |2    |\n",
      "|00GA |2    |\n",
      "|00MT |2    |\n",
      "|00OR |2    |\n",
      "|01MT |1    |\n",
      "|00WV |2    |\n",
      "|02IN |1    |\n",
      "|01IL |1    |\n",
      "|00S  |1    |\n",
      "|01SC |2    |\n",
      "|02HI |2    |\n",
      "|00MO |2    |\n",
      "|02NH |4    |\n",
      "|00FA |1    |\n",
      "|00FL |1    |\n",
      "|01KS |1    |\n",
      "|02II |2    |\n",
      "|02IS |6    |\n",
      "|01C  |2    |\n",
      "+-----+-----+\n",
      "only showing top 20 rows\n",
      "\n"
     ]
    },
    {
     "name": "stderr",
     "output_type": "stream",
     "text": [
      "                                                                                \r"
     ]
    },
    {
     "name": "stdout",
     "output_type": "stream",
     "text": [
      "-------------------------------------------\n",
      "Batch: 27\n",
      "-------------------------------------------\n",
      "+-----+-----+\n",
      "|ident|count|\n",
      "+-----+-----+\n",
      "|02ID |1    |\n",
      "|03AL |2    |\n",
      "|00GA |2    |\n",
      "|00MT |2    |\n",
      "|00OR |2    |\n",
      "|00CL |1    |\n",
      "|01MT |2    |\n",
      "|00WV |2    |\n",
      "|02IN |2    |\n",
      "|01IL |1    |\n",
      "|00S  |1    |\n",
      "|01SC |2    |\n",
      "|02HI |2    |\n",
      "|00MO |2    |\n",
      "|02NH |4    |\n",
      "|00FA |1    |\n",
      "|00FL |1    |\n",
      "|01KS |1    |\n",
      "|02II |2    |\n",
      "|02IS |6    |\n",
      "+-----+-----+\n",
      "only showing top 20 rows\n",
      "\n"
     ]
    },
    {
     "name": "stderr",
     "output_type": "stream",
     "text": [
      "[Stage 143:============================>                       (111 + 20) / 200]\r"
     ]
    }
   ],
   "source": [
    "create_console_sink(\"state33\", \"complete\", grouped).start()"
   ]
  },
  {
   "cell_type": "code",
   "execution_count": 40,
   "metadata": {
    "scrolled": true
   },
   "outputs": [
    {
     "name": "stdout",
     "output_type": "stream",
     "text": [
      "Stopped RateStreamV2[rowsPerSecond=1, rampUpTimeSeconds=0, numPartitions=default\n"
     ]
    },
    {
     "name": "stderr",
     "output_type": "stream",
     "text": [
      "2022-05-16 17:30:45,322 ERROR v2.WriteToDataSourceV2Exec: Data source write support org.apache.spark.sql.execution.streaming.sources.MicroBatchWrite@50a9f8c3 is aborting.\n",
      "2022-05-16 17:30:45,322 ERROR v2.WriteToDataSourceV2Exec: Data source write support org.apache.spark.sql.execution.streaming.sources.MicroBatchWrite@50a9f8c3 aborted.\n",
      "2022-05-16 17:30:45,363 WARN scheduler.TaskSetManager: Lost task 181.0 in stage 143.0 (TID 8412, rc1a-dataproc-d-e998z4fz8my7a5xz.mdb.yandexcloud.net, executor 25): TaskKilled (Stage cancelled)\n",
      "2022-05-16 17:30:45,370 WARN scheduler.TaskSetManager: Lost task 160.0 in stage 143.0 (TID 8391, rc1a-dataproc-d-e998z4fz8my7a5xz.mdb.yandexcloud.net, executor 21): TaskKilled (Stage cancelled)\n",
      "2022-05-16 17:30:45,418 WARN scheduler.TaskSetManager: Lost task 153.0 in stage 143.0 (TID 8410, rc1a-dataproc-d-e998z4fz8my7a5xz.mdb.yandexcloud.net, executor 22): TaskKilled (Stage cancelled)\n",
      "2022-05-16 17:30:45,442 WARN scheduler.TaskSetManager: Lost task 163.0 in stage 143.0 (TID 8409, rc1a-dataproc-d-e998z4fz8my7a5xz.mdb.yandexcloud.net, executor 21): TaskKilled (Stage cancelled)\n",
      "2022-05-16 17:30:45,442 WARN scheduler.TaskSetManager: Lost task 172.0 in stage 143.0 (TID 8411, rc1a-dataproc-d-e998z4fz8my7a5xz.mdb.yandexcloud.net, executor 25): TaskKilled (Stage cancelled)\n",
      "2022-05-16 17:30:45,474 WARN scheduler.TaskSetManager: Lost task 147.0 in stage 143.0 (TID 8392, rc1a-dataproc-d-e998z4fz8my7a5xz.mdb.yandexcloud.net, executor 10): TaskKilled (Stage cancelled)\n",
      "2022-05-16 17:30:45,474 WARN scheduler.TaskSetManager: Lost task 130.0 in stage 143.0 (TID 8394, rc1a-dataproc-d-e998z4fz8my7a5xz.mdb.yandexcloud.net, executor 22): TaskKilled (Stage cancelled)\n",
      "2022-05-16 17:30:45,474 WARN scheduler.TaskSetManager: Lost task 145.0 in stage 143.0 (TID 8408, rc1a-dataproc-d-e998z4fz8my7a5xz.mdb.yandexcloud.net, executor 23): TaskKilled (Stage cancelled)\n",
      "2022-05-16 17:30:45,474 WARN scheduler.TaskSetManager: Lost task 134.0 in stage 143.0 (TID 8403, rc1a-dataproc-d-e998z4fz8my7a5xz.mdb.yandexcloud.net, executor 24): TaskKilled (Stage cancelled)\n",
      "2022-05-16 17:30:45,486 WARN scheduler.TaskSetManager: Lost task 127.0 in stage 143.0 (TID 8400, rc1a-dataproc-d-e998z4fz8my7a5xz.mdb.yandexcloud.net, executor 27): TaskKilled (Stage cancelled)\n",
      "2022-05-16 17:30:45,486 WARN scheduler.TaskSetManager: Lost task 154.0 in stage 143.0 (TID 8405, rc1a-dataproc-d-e998z4fz8my7a5xz.mdb.yandexcloud.net, executor 10): TaskKilled (Stage cancelled)\n",
      "2022-05-16 17:30:45,486 WARN scheduler.TaskSetManager: Lost task 103.0 in stage 143.0 (TID 8398, rc1a-dataproc-d-e998z4fz8my7a5xz.mdb.yandexcloud.net, executor 28): TaskKilled (Stage cancelled)\n",
      "2022-05-16 17:30:45,486 WARN scheduler.TaskSetManager: Lost task 100.0 in stage 143.0 (TID 8395, rc1a-dataproc-d-e998z4fz8my7a5xz.mdb.yandexcloud.net, executor 28): TaskKilled (Stage cancelled)\n",
      "2022-05-16 17:30:45,487 WARN scheduler.TaskSetManager: Lost task 109.0 in stage 143.0 (TID 8397, rc1a-dataproc-d-e998z4fz8my7a5xz.mdb.yandexcloud.net, executor 20): TaskKilled (Stage cancelled)\n",
      "2022-05-16 17:30:45,489 WARN scheduler.TaskSetManager: Lost task 137.0 in stage 143.0 (TID 8402, rc1a-dataproc-d-e998z4fz8my7a5xz.mdb.yandexcloud.net, executor 27): TaskKilled (Stage cancelled)\n",
      "2022-05-16 17:30:45,489 WARN scheduler.TaskSetManager: Lost task 114.0 in stage 143.0 (TID 8399, rc1a-dataproc-d-e998z4fz8my7a5xz.mdb.yandexcloud.net, executor 20): TaskKilled (Stage cancelled)\n",
      "2022-05-16 17:30:45,489 WARN scheduler.TaskSetManager: Lost task 132.0 in stage 143.0 (TID 8401, rc1a-dataproc-d-e998z4fz8my7a5xz.mdb.yandexcloud.net, executor 24): TaskKilled (Stage cancelled)\n",
      "2022-05-16 17:30:45,493 WARN scheduler.TaskSetManager: Lost task 143.0 in stage 143.0 (TID 8404, rc1a-dataproc-d-e998z4fz8my7a5xz.mdb.yandexcloud.net, executor 23): TaskKilled (Stage cancelled)\n",
      "2022-05-16 17:30:45,493 WARN scheduler.TaskSetManager: Lost task 128.0 in stage 143.0 (TID 8407, rc1a-dataproc-d-e998z4fz8my7a5xz.mdb.yandexcloud.net, executor 26): TaskKilled (Stage cancelled)\n",
      "2022-05-16 17:30:45,506 WARN scheduler.TaskSetManager: Lost task 117.0 in stage 143.0 (TID 8406, rc1a-dataproc-d-e998z4fz8my7a5xz.mdb.yandexcloud.net, executor 26): TaskKilled (Stage cancelled)\n"
     ]
    }
   ],
   "source": [
    "kill_all()"
   ]
  },
  {
   "cell_type": "markdown",
   "metadata": {},
   "source": [
    "### Update mode"
   ]
  },
  {
   "cell_type": "code",
   "execution_count": 41,
   "metadata": {},
   "outputs": [
    {
     "data": {
      "text/plain": [
       "<pyspark.sql.streaming.StreamingQuery at 0x7fc6e08bc580>"
      ]
     },
     "execution_count": 41,
     "metadata": {},
     "output_type": "execute_result"
    },
    {
     "name": "stderr",
     "output_type": "stream",
     "text": [
      "                                                                                \r"
     ]
    },
    {
     "name": "stdout",
     "output_type": "stream",
     "text": [
      "-------------------------------------------\n",
      "Batch: 0\n",
      "-------------------------------------------\n",
      "+-----+-----+\n",
      "|ident|count|\n",
      "+-----+-----+\n",
      "+-----+-----+\n",
      "\n"
     ]
    },
    {
     "name": "stderr",
     "output_type": "stream",
     "text": [
      "                                                                                \r"
     ]
    },
    {
     "name": "stdout",
     "output_type": "stream",
     "text": [
      "-------------------------------------------\n",
      "Batch: 1\n",
      "-------------------------------------------\n",
      "+-----+-----+\n",
      "|ident|count|\n",
      "+-----+-----+\n",
      "|01IL |1    |\n",
      "|01A  |1    |\n",
      "|00CO |1    |\n",
      "|02VA |1    |\n",
      "|00TS |1    |\n",
      "|01LS |2    |\n",
      "|02XA |1    |\n",
      "+-----+-----+\n",
      "\n"
     ]
    },
    {
     "name": "stderr",
     "output_type": "stream",
     "text": [
      "                                                                                \r"
     ]
    },
    {
     "name": "stdout",
     "output_type": "stream",
     "text": [
      "-------------------------------------------\n",
      "Batch: 2\n",
      "-------------------------------------------\n",
      "+-----+-----+\n",
      "|ident|count|\n",
      "+-----+-----+\n",
      "|00FA |1    |\n",
      "|03FD |1    |\n",
      "|01U  |1    |\n",
      "|02XS |1    |\n",
      "|02MD |1    |\n",
      "|01KY |1    |\n",
      "|03FA |1    |\n",
      "|00AL |1    |\n",
      "|02TN |1    |\n",
      "|02PS |1    |\n",
      "+-----+-----+\n",
      "\n"
     ]
    },
    {
     "name": "stderr",
     "output_type": "stream",
     "text": [
      "                                                                                \r"
     ]
    },
    {
     "name": "stdout",
     "output_type": "stream",
     "text": [
      "-------------------------------------------\n",
      "Batch: 3\n",
      "-------------------------------------------\n",
      "+-----+-----+\n",
      "|ident|count|\n",
      "+-----+-----+\n",
      "|00MT |1    |\n",
      "|02HI |1    |\n",
      "|02TS |1    |\n",
      "|01TS |1    |\n",
      "|00AK |1    |\n",
      "|00PN |1    |\n",
      "|00IN |1    |\n",
      "|00A  |1    |\n",
      "|00OH |1    |\n",
      "|02TN |2    |\n",
      "+-----+-----+\n",
      "\n"
     ]
    },
    {
     "name": "stderr",
     "output_type": "stream",
     "text": [
      "                                                                                \r"
     ]
    },
    {
     "name": "stdout",
     "output_type": "stream",
     "text": [
      "-------------------------------------------\n",
      "Batch: 4\n",
      "-------------------------------------------\n",
      "+-----+-----+\n",
      "|ident|count|\n",
      "+-----+-----+\n",
      "|01NV |1    |\n",
      "|00IL |1    |\n",
      "|01A  |2    |\n",
      "|02AZ |1    |\n",
      "|01WT |1    |\n",
      "|02LA |1    |\n",
      "|01MI |1    |\n",
      "|01NY |1    |\n",
      "|02ME |1    |\n",
      "|03AZ |1    |\n",
      "+-----+-----+\n",
      "\n"
     ]
    },
    {
     "name": "stderr",
     "output_type": "stream",
     "text": [
      "                                                                                \r"
     ]
    },
    {
     "name": "stdout",
     "output_type": "stream",
     "text": [
      "-------------------------------------------\n",
      "Batch: 5\n",
      "-------------------------------------------\n",
      "+-----+-----+\n",
      "|ident|count|\n",
      "+-----+-----+\n",
      "|00OR |1    |\n",
      "|02KS |1    |\n",
      "|02TS |2    |\n",
      "|01UT |1    |\n",
      "|02NE |1    |\n",
      "|02VA |2    |\n",
      "|02XA |2    |\n",
      "|01IN |1    |\n",
      "|01NM |1    |\n",
      "|02MO |1    |\n",
      "+-----+-----+\n",
      "\n"
     ]
    },
    {
     "name": "stderr",
     "output_type": "stream",
     "text": [
      "                                                                                \r"
     ]
    },
    {
     "name": "stdout",
     "output_type": "stream",
     "text": [
      "-------------------------------------------\n",
      "Batch: 6\n",
      "-------------------------------------------\n",
      "+-----+-----+\n",
      "|ident|count|\n",
      "+-----+-----+\n",
      "|00OR |2    |\n",
      "|02FL |1    |\n",
      "|00PS |1    |\n",
      "|02MA |1    |\n",
      "|00LS |1    |\n",
      "|02OH |1    |\n",
      "|00AL |2    |\n",
      "|00GE |1    |\n",
      "|01J  |2    |\n",
      "+-----+-----+\n",
      "\n"
     ]
    },
    {
     "name": "stderr",
     "output_type": "stream",
     "text": [
      "                                                                                \r"
     ]
    },
    {
     "name": "stdout",
     "output_type": "stream",
     "text": [
      "-------------------------------------------\n",
      "Batch: 7\n",
      "-------------------------------------------\n",
      "+-----+-----+\n",
      "|ident|count|\n",
      "+-----+-----+\n",
      "|01MT |1    |\n",
      "|02NJ |1    |\n",
      "|00PN |2    |\n",
      "|02OK |2    |\n",
      "|00SC |1    |\n",
      "|00A  |2    |\n",
      "|01NE |1    |\n",
      "|02CA |1    |\n",
      "|00VA |1    |\n",
      "+-----+-----+\n",
      "\n"
     ]
    },
    {
     "name": "stderr",
     "output_type": "stream",
     "text": [
      "[Stage 161:================>                                    (63 + 20) / 200]\r"
     ]
    }
   ],
   "source": [
    "create_console_sink(\"state44\", \"update\", grouped).start()"
   ]
  },
  {
   "cell_type": "markdown",
   "metadata": {},
   "source": [
    "###  Агрегаты на плавающих окнах\n",
    "Плавающее окно позволяет сгруппировать события в окна определенного размера (по времени). При этом, поскольку каждое событие может находится одновременно в нескольких окнах, то общий размер агрегата существенно увеличивается\n",
    "\n",
    "Окно задается при создании агрегата с помощью функции `window` внутри `groupBy`. В параметрах указывается длина окна и расстояние между двумя точкой начала текущего и следующего окна.\n",
    "\n",
    "<img align=\"center\" width=\"1000\" height=\"1000\" src=\"https://spark.apache.org/docs/latest/img/structured-streaming-window.png\">"
   ]
  },
  {
   "cell_type": "markdown",
   "metadata": {},
   "source": [
    "Создадим стрим с использованием `window` и `watermark` в `update` режиме. В данном случае watermark позволяет игнорировать события, которые приходят с запозданием (`latency` > `max_event_timestamp` + `watermark_value`)"
   ]
  },
  {
   "cell_type": "code",
   "execution_count": 42,
   "metadata": {},
   "outputs": [
    {
     "name": "stderr",
     "output_type": "stream",
     "text": [
      "                                                                                \r"
     ]
    },
    {
     "name": "stdout",
     "output_type": "stream",
     "text": [
      "-------------------------------------------\n",
      "Batch: 8\n",
      "-------------------------------------------\n",
      "+-----+-----+\n",
      "|ident|count|\n",
      "+-----+-----+\n",
      "|00WV |1    |\n",
      "|00II |1    |\n",
      "|01TS |2    |\n",
      "|00AA |1    |\n",
      "|01ME |1    |\n",
      "|01NH |1    |\n",
      "|01MI |2    |\n",
      "|01OK |1    |\n",
      "|02NY |1    |\n",
      "|02CD |1    |\n",
      "+-----+-----+\n",
      "\n"
     ]
    },
    {
     "name": "stderr",
     "output_type": "stream",
     "text": [
      "                                                                                \r"
     ]
    },
    {
     "name": "stdout",
     "output_type": "stream",
     "text": [
      "-------------------------------------------\n",
      "Batch: 9\n",
      "-------------------------------------------\n",
      "+-----+-----+\n",
      "|ident|count|\n",
      "+-----+-----+\n",
      "|00CL |1    |\n",
      "|01NV |2    |\n",
      "|01FD |1    |\n",
      "|00WN |1    |\n",
      "|00HI |1    |\n",
      "|01IN |2    |\n",
      "|00NJ |1    |\n",
      "|00LS |2    |\n",
      "|01NJ |1    |\n",
      "|00NY |1    |\n",
      "+-----+-----+\n",
      "\n",
      "root\n",
      " |-- window: struct (nullable = false)\n",
      " |    |-- start: timestamp (nullable = true)\n",
      " |    |-- end: timestamp (nullable = true)\n",
      " |-- ident: string (nullable = true)\n",
      " |-- count: long (nullable = false)\n",
      "\n"
     ]
    },
    {
     "name": "stderr",
     "output_type": "stream",
     "text": [
      "                                                                                \r"
     ]
    },
    {
     "name": "stdout",
     "output_type": "stream",
     "text": [
      "-------------------------------------------\n",
      "Batch: 10\n",
      "-------------------------------------------\n",
      "+-----+-----+\n",
      "|ident|count|\n",
      "+-----+-----+\n",
      "|01KS |1    |\n",
      "|02TS |3    |\n",
      "|00WI |1    |\n",
      "|01PS |1    |\n",
      "|01IA |1    |\n",
      "|03AA |1    |\n",
      "|01PA |1    |\n",
      "|02NY |2    |\n",
      "|01NJ |2    |\n",
      "|00AL |3    |\n",
      "+-----+-----+\n",
      "\n"
     ]
    },
    {
     "name": "stderr",
     "output_type": "stream",
     "text": [
      "                                                                                \r"
     ]
    },
    {
     "name": "stdout",
     "output_type": "stream",
     "text": [
      "-------------------------------------------\n",
      "Batch: 11\n",
      "-------------------------------------------\n",
      "+-----+-----+\n",
      "|ident|count|\n",
      "+-----+-----+\n",
      "|02HI |2    |\n",
      "|01TS |3    |\n",
      "|01GA |1    |\n",
      "|00AZ |1    |\n",
      "|02P  |1    |\n",
      "|02MU |1    |\n",
      "|01KY |2    |\n",
      "|02NC |1    |\n",
      "|01NC |1    |\n",
      "|01II |1    |\n",
      "+-----+-----+\n",
      "\n"
     ]
    },
    {
     "name": "stderr",
     "output_type": "stream",
     "text": [
      "                                                                                \r"
     ]
    },
    {
     "name": "stdout",
     "output_type": "stream",
     "text": [
      "-------------------------------------------\n",
      "Batch: 12\n",
      "-------------------------------------------\n",
      "+-----+-----+\n",
      "|ident|count|\n",
      "+-----+-----+\n",
      "|01IS |1    |\n",
      "|00PN |3    |\n",
      "|00AA |2    |\n",
      "|02TA |1    |\n",
      "|00CO |2    |\n",
      "|00SC |2    |\n",
      "|02MA |2    |\n",
      "|02MS |1    |\n",
      "|00CA |1    |\n",
      "|00LA |1    |\n",
      "+-----+-----+\n",
      "\n"
     ]
    },
    {
     "name": "stderr",
     "output_type": "stream",
     "text": [
      "                                                                                \r"
     ]
    },
    {
     "name": "stdout",
     "output_type": "stream",
     "text": [
      "-------------------------------------------\n",
      "Batch: 13\n",
      "-------------------------------------------\n",
      "+-----+-----+\n",
      "|ident|count|\n",
      "+-----+-----+\n",
      "|00FL |1    |\n",
      "|01MO |1    |\n",
      "|02VA |3    |\n",
      "|01IA |2    |\n",
      "|02NV |1    |\n",
      "|02CO |1    |\n",
      "|02UT |1    |\n",
      "|01J  |3    |\n",
      "|00VA |2    |\n",
      "|01LL |1    |\n",
      "+-----+-----+\n",
      "\n"
     ]
    },
    {
     "name": "stderr",
     "output_type": "stream",
     "text": [
      "                                                                                \r"
     ]
    },
    {
     "name": "stdout",
     "output_type": "stream",
     "text": [
      "-------------------------------------------\n",
      "Batch: 14\n",
      "-------------------------------------------\n",
      "+-----+-----+\n",
      "|ident|count|\n",
      "+-----+-----+\n",
      "|02ID |1    |\n",
      "|02KS |2    |\n",
      "|02XS |2    |\n",
      "|01CN |1    |\n",
      "|02AR |1    |\n",
      "|01WY |1    |\n",
      "|02MI |1    |\n",
      "|02NY |3    |\n",
      "|02CD |2    |\n",
      "|02CL |1    |\n",
      "+-----+-----+\n",
      "\n"
     ]
    },
    {
     "name": "stderr",
     "output_type": "stream",
     "text": [
      "                                                                                \r"
     ]
    },
    {
     "name": "stdout",
     "output_type": "stream",
     "text": [
      "-------------------------------------------\n",
      "Batch: 15\n",
      "-------------------------------------------\n",
      "+-----+-----+\n",
      "|ident|count|\n",
      "+-----+-----+\n",
      "|02HI |3    |\n",
      "|01IS |2    |\n",
      "|00AK |2    |\n",
      "|01A  |3    |\n",
      "|00WI |2    |\n",
      "|00HI |3    |\n",
      "|01PS |2    |\n",
      "|01NE |2    |\n",
      "|01J  |4    |\n",
      "+-----+-----+\n",
      "\n"
     ]
    },
    {
     "name": "stderr",
     "output_type": "stream",
     "text": [
      "[Stage 181:================>                                    (61 + 20) / 200]\r"
     ]
    }
   ],
   "source": [
    "from pyspark.sql.functions import col, date_sub, window\n",
    "\n",
    "new_data = spark \\\n",
    "    .readStream \\\n",
    "    .format(\"rate\") \\\n",
    "    .load() \\\n",
    "    .withColumn(\"ident\", random_ident())\n",
    "\n",
    "old_data = spark \\\n",
    "    .readStream \\\n",
    "    .format(\"rate\") \\\n",
    "    .load() \\\n",
    "    .withColumn(\"ident\", lit(\"OLD DATA\")) \\\n",
    "    .withColumn(\"timestamp\", date_sub(col(\"timestamp\"), 1))\n",
    "\n",
    "u_data = new_data.union(old_data) \\\n",
    "            .withWatermark(\"timestamp\", \"10 minutes\") \\\n",
    "            .groupBy(window(col(\"timestamp\"), \"10 minutes\"), col(\"ident\")) \\\n",
    "            .count()\n",
    "\n",
    "u_data.printSchema()"
   ]
  },
  {
   "cell_type": "code",
   "execution_count": null,
   "metadata": {},
   "outputs": [],
   "source": [
    "create_console_sink(\"state5\", \"update\", u_data).start()"
   ]
  },
  {
   "cell_type": "code",
   "execution_count": 44,
   "metadata": {},
   "outputs": [],
   "source": [
    "kill_all()"
   ]
  },
  {
   "cell_type": "markdown",
   "metadata": {},
   "source": [
    "Создадим стрим с использованием `window` и `watermark` в `append` режиме. В `append` режиме в синк будут записаны только завершенные окна с данными в момент `window_right_bound` + `watermark_value`"
   ]
  },
  {
   "cell_type": "code",
   "execution_count": null,
   "metadata": {},
   "outputs": [],
   "source": []
  },
  {
   "cell_type": "code",
   "execution_count": null,
   "metadata": {},
   "outputs": [],
   "source": [
    "new_data = spark \\\n",
    "            .readStream \\\n",
    "            .format(\"rate\") \\\n",
    "            .load() \\\n",
    "            .withColumn(\"ident\", random_ident()) \n",
    "\n",
    "u_data = new_data \\\n",
    "    .withWatermark(\"timestamp\", \"30 seconds\") \\\n",
    "    .groupBy(window(col(\"timestamp\"), \"30 seconds\", \"1 second\")) \\\n",
    "    .count()\n",
    "\n",
    "create_console_sink(\"state6\", \"append\", u_data).start()"
   ]
  },
  {
   "cell_type": "markdown",
   "metadata": {},
   "source": [
    "### Выводы\n",
    "- Spark позволяет строить агрегаты на SDF в разных режимах\n",
    "- Вотермарки поддерживаются при использовании `append` и `update` режимов\n",
    "- Плавающее окно имеет два параметра - размер окна и сдвиг текущего окна относительно следующего"
   ]
  },
  {
   "cell_type": "code",
   "execution_count": null,
   "metadata": {},
   "outputs": [],
   "source": []
  }
 ],
 "metadata": {
  "colab": {
   "collapsed_sections": [],
   "name": "colab_spark_kafka.ipynb",
   "provenance": []
  },
  "kernelspec": {
   "display_name": "Python 3 (ipykernel)",
   "language": "python",
   "name": "python3"
  },
  "language_info": {
   "codemirror_mode": {
    "name": "ipython",
    "version": 3
   },
   "file_extension": ".py",
   "mimetype": "text/x-python",
   "name": "python",
   "nbconvert_exporter": "python",
   "pygments_lexer": "ipython3",
   "version": "3.9.7"
  }
 },
 "nbformat": 4,
 "nbformat_minor": 1
}
