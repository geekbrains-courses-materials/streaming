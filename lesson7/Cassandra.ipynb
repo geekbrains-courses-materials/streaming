{
 "cells": [
  {
   "cell_type": "code",
   "execution_count": 3,
   "id": "acebe68b",
   "metadata": {
    "scrolled": true
   },
   "outputs": [],
   "source": [
    "import sys\n",
    "import os\n",
    "from pathlib import Path\n",
    "\n",
    "import findspark\n",
    "findspark.init()\n",
    "findspark.find()\n",
    "\n",
    "from pyspark import SparkConf, SparkContext\n",
    "from pyspark.sql import SparkSession\n",
    "from pyspark.sql.types import *\n",
    "from pyspark.sql.functions import *\n",
    "\n",
    "\n",
    "os.environ['PYSPARK_PYTHON'] = 'venv/bin/python'\n",
    "\n",
    "\n",
    "spark = SparkSession.builder \\\n",
    "    .master(\"local[*]\") \\\n",
    "    .appName(\"Spark Streaming\") \\\n",
    "    .config(\"spark.driver.extraJavaOptions\", \"-Dcom.sun.net.ssl.checkRevocation=false\") \\\n",
    "    .config(\"spark.executor.extraJavaOptions\", \"-Dcom.sun.net.ssl.checkRevocation=false\") \\\n",
    "    .config(\"spark.executor.extraJavaOptions\", \"-Dhttps.protocols=TLSv1.1,TLSv1.2\") \\\n",
    "    .config(\"spark.jars.packages\", \"com.datastax.spark:spark-cassandra-connector_2.12:3.0.1\") \\\n",
    "    .config(\"spark.sql.streaming.forceDeleteTempCheckpointLocation\", \"true\") \\\n",
    "    .config(\"spark.yarn.dist.archives\", f\"{Path('/home', os.environ.get('USER'))}/environment.tar.gz#venv\") \\\n",
    "    .config(\"spark.executor.instances\", \"1\") \\\n",
    "    .config(\"spark.executor.memory\", \"512mb\") \\\n",
    "    .getOrCreate()\n",
    "\n",
    "def kill_all():\n",
    "    streams = SparkSession.builder.getOrCreate().streams.active\n",
    "    if streams:\n",
    "        for stream in streams:\n",
    "            desc = stream.lastProgress[\"sources\"][0][\"description\"]\n",
    "            stream.stop()\n",
    "            print(\"Stopped {s}\".format(s=desc))"
   ]
  },
  {
   "cell_type": "code",
   "execution_count": 9,
   "id": "15ab7ab5",
   "metadata": {},
   "outputs": [],
   "source": [
    "cass_df = spark.read \\\n",
    "    .format(\"org.apache.spark.sql.cassandra\") \\\n",
    "    .options(table=\"t_test\", keyspace=\"ks_test\") \\\n",
    "    .load()"
   ]
  },
  {
   "cell_type": "code",
   "execution_count": 10,
   "id": "b65e9770",
   "metadata": {},
   "outputs": [
    {
     "name": "stderr",
     "output_type": "stream",
     "text": [
      "                                                                                \r"
     ]
    },
    {
     "name": "stdout",
     "output_type": "stream",
     "text": [
      "+----------+---+--------------------+--------------------+\n",
      "|patient_id| id|                date|             details|\n",
      "+----------+---+--------------------+--------------------+\n",
      "|         1|  1|feca2000-dc4b-11e...|first exam patient 1|\n",
      "|         1|  2|fecbf4c0-dc4b-11e...|second exam patie...|\n",
      "|         3|  1|fecd2d40-dc4b-11e...|first exam patient 3|\n",
      "|         2|  1|fecc9100-dc4b-11e...|first exam patient 2|\n",
      "+----------+---+--------------------+--------------------+\n",
      "\n"
     ]
    }
   ],
   "source": [
    "cass_df.show()"
   ]
  },
  {
   "cell_type": "code",
   "execution_count": null,
   "id": "4f3afb53",
   "metadata": {},
   "outputs": [],
   "source": []
  }
 ],
 "metadata": {
  "kernelspec": {
   "display_name": "venv",
   "language": "python",
   "name": "venv"
  },
  "language_info": {
   "codemirror_mode": {
    "name": "ipython",
    "version": 3
   },
   "file_extension": ".py",
   "mimetype": "text/x-python",
   "name": "python",
   "nbconvert_exporter": "python",
   "pygments_lexer": "ipython3",
   "version": "3.8.10"
  }
 },
 "nbformat": 4,
 "nbformat_minor": 5
}
