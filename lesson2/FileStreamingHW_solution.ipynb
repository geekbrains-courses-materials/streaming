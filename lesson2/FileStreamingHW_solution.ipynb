{
 "cells": [
  {
   "cell_type": "markdown",
   "id": "a5466d1e",
   "metadata": {},
   "source": [
    "# Домашняя работа"
   ]
  },
  {
   "cell_type": "markdown",
   "id": "5e461494",
   "metadata": {},
   "source": [
    "В директории /var/datasets/wikipedia_info/ вам даны данные из википедии.\n",
    "Создайте Structured Streaming поток, который считывает данные из директории /var/datasets/wikipedia_info/, токенизирует их и удалить стоп слова, а затем записывает в папку /user/jupyter-$<ваш юзернейм>/"
   ]
  },
  {
   "cell_type": "code",
   "execution_count": 1,
   "id": "d4f2e11d",
   "metadata": {},
   "outputs": [
    {
     "name": "stdout",
     "output_type": "stream",
     "text": [
      "Мой юзернейм: jupyter-admin\n"
     ]
    }
   ],
   "source": [
    "import os\n",
    "\n",
    "print(f\"Мой юзернейм: {os.environ.get('USER')}\")"
   ]
  },
  {
   "cell_type": "markdown",
   "id": "8f92cc76",
   "metadata": {},
   "source": [
    "В папке hdfs /var/datasets/wikipedia_info/ лежит датасет для обработки"
   ]
  },
  {
   "cell_type": "code",
   "execution_count": 2,
   "id": "0634a78f",
   "metadata": {},
   "outputs": [
    {
     "name": "stdout",
     "output_type": "stream",
     "text": [
      "Found 135 items\n",
      "-rw-r--r--   1 jupyter-admin hadoop        416 2022-04-28 12:23 /var/datasets/wikipedia_info/1.json\n",
      "-rw-r--r--   1 jupyter-admin hadoop        365 2022-04-28 12:23 /var/datasets/wikipedia_info/10.json\n",
      "-rw-r--r--   1 jupyter-admin hadoop        959 2022-04-28 12:23 /var/datasets/wikipedia_info/100.json\n",
      "-rw-r--r--   1 jupyter-admin hadoop       3626 2022-04-28 12:23 /var/datasets/wikipedia_info/101.json\n",
      "-rw-r--r--   1 jupyter-admin hadoop        317 2022-04-28 12:23 /var/datasets/wikipedia_info/102.json\n",
      "-rw-r--r--   1 jupyter-admin hadoop        772 2022-04-28 12:23 /var/datasets/wikipedia_info/103.json\n",
      "-rw-r--r--   1 jupyter-admin hadoop        666 2022-04-28 12:23 /var/datasets/wikipedia_info/104.json\n",
      "-rw-r--r--   1 jupyter-admin hadoop        919 2022-04-28 12:23 /var/datasets/wikipedia_info/105.json\n",
      "-rw-r--r--   1 jupyter-admin hadoop       1058 2022-04-28 12:23 /var/datasets/wikipedia_info/106.json\n",
      "-rw-r--r--   1 jupyter-admin hadoop        623 2022-04-28 12:23 /var/datasets/wikipedia_info/107.json\n",
      "-rw-r--r--   1 jupyter-admin hadoop        888 2022-04-28 12:23 /var/datasets/wikipedia_info/108.json\n",
      "-rw-r--r--   1 jupyter-admin hadoop        704 2022-04-28 12:23 /var/datasets/wikipedia_info/109.json\n",
      "-rw-r--r--   1 jupyter-admin hadoop        938 2022-04-28 12:23 /var/datasets/wikipedia_info/11.json\n",
      "-rw-r--r--   1 jupyter-admin hadoop       2465 2022-04-28 12:23 /var/datasets/wikipedia_info/110.json\n",
      "-rw-r--r--   1 jupyter-admin hadoop        219 2022-04-28 12:23 /var/datasets/wikipedia_info/111.json\n",
      "-rw-r--r--   1 jupyter-admin hadoop       2052 2022-04-28 12:23 /var/datasets/wikipedia_info/112.json\n",
      "-rw-r--r--   1 jupyter-admin hadoop       1436 2022-04-28 12:23 /var/datasets/wikipedia_info/113.json\n",
      "-rw-r--r--   1 jupyter-admin hadoop        894 2022-04-28 12:23 /var/datasets/wikipedia_info/114.json\n",
      "-rw-r--r--   1 jupyter-admin hadoop       2699 2022-04-28 12:23 /var/datasets/wikipedia_info/115.json\n",
      "-rw-r--r--   1 jupyter-admin hadoop       1570 2022-04-28 12:23 /var/datasets/wikipedia_info/116.json\n",
      "-rw-r--r--   1 jupyter-admin hadoop       3494 2022-04-28 12:23 /var/datasets/wikipedia_info/117.json\n",
      "-rw-r--r--   1 jupyter-admin hadoop       1559 2022-04-28 12:23 /var/datasets/wikipedia_info/118.json\n",
      "-rw-r--r--   1 jupyter-admin hadoop       1671 2022-04-28 12:23 /var/datasets/wikipedia_info/119.json\n",
      "-rw-r--r--   1 jupyter-admin hadoop        761 2022-04-28 12:23 /var/datasets/wikipedia_info/12.json\n",
      "-rw-r--r--   1 jupyter-admin hadoop       1464 2022-04-28 12:23 /var/datasets/wikipedia_info/120.json\n",
      "-rw-r--r--   1 jupyter-admin hadoop       1493 2022-04-28 12:23 /var/datasets/wikipedia_info/121.json\n",
      "-rw-r--r--   1 jupyter-admin hadoop        456 2022-04-28 12:23 /var/datasets/wikipedia_info/122.json\n",
      "-rw-r--r--   1 jupyter-admin hadoop        832 2022-04-28 12:23 /var/datasets/wikipedia_info/123.json\n",
      "-rw-r--r--   1 jupyter-admin hadoop       2350 2022-04-28 12:23 /var/datasets/wikipedia_info/124.json\n",
      "-rw-r--r--   1 jupyter-admin hadoop       1000 2022-04-28 12:23 /var/datasets/wikipedia_info/125.json\n",
      "-rw-r--r--   1 jupyter-admin hadoop        312 2022-04-28 12:23 /var/datasets/wikipedia_info/126.json\n",
      "-rw-r--r--   1 jupyter-admin hadoop       1400 2022-04-28 12:23 /var/datasets/wikipedia_info/127.json\n",
      "-rw-r--r--   1 jupyter-admin hadoop       1492 2022-04-28 12:23 /var/datasets/wikipedia_info/128.json\n",
      "-rw-r--r--   1 jupyter-admin hadoop       1843 2022-04-28 12:23 /var/datasets/wikipedia_info/129.json\n",
      "-rw-r--r--   1 jupyter-admin hadoop        389 2022-04-28 12:23 /var/datasets/wikipedia_info/13.json\n",
      "-rw-r--r--   1 jupyter-admin hadoop       2447 2022-04-28 12:23 /var/datasets/wikipedia_info/130.json\n",
      "-rw-r--r--   1 jupyter-admin hadoop       4238 2022-04-28 12:23 /var/datasets/wikipedia_info/131.json\n",
      "-rw-r--r--   1 jupyter-admin hadoop       1685 2022-04-28 12:23 /var/datasets/wikipedia_info/132.json\n",
      "-rw-r--r--   1 jupyter-admin hadoop       1396 2022-04-28 12:23 /var/datasets/wikipedia_info/133.json\n",
      "-rw-r--r--   1 jupyter-admin hadoop       1360 2022-04-28 12:23 /var/datasets/wikipedia_info/134.json\n",
      "-rw-r--r--   1 jupyter-admin hadoop        414 2022-04-28 12:23 /var/datasets/wikipedia_info/14.json\n",
      "-rw-r--r--   1 jupyter-admin hadoop       1075 2022-04-28 12:23 /var/datasets/wikipedia_info/15.json\n",
      "-rw-r--r--   1 jupyter-admin hadoop        250 2022-04-28 12:23 /var/datasets/wikipedia_info/16.json\n",
      "-rw-r--r--   1 jupyter-admin hadoop       1247 2022-04-28 12:23 /var/datasets/wikipedia_info/17.json\n",
      "-rw-r--r--   1 jupyter-admin hadoop        728 2022-04-28 12:23 /var/datasets/wikipedia_info/18.json\n",
      "-rw-r--r--   1 jupyter-admin hadoop        870 2022-04-28 12:23 /var/datasets/wikipedia_info/19.json\n",
      "-rw-r--r--   1 jupyter-admin hadoop       1195 2022-04-28 12:23 /var/datasets/wikipedia_info/2.json\n",
      "-rw-r--r--   1 jupyter-admin hadoop         57 2022-04-28 12:23 /var/datasets/wikipedia_info/20.json\n",
      "-rw-r--r--   1 jupyter-admin hadoop        488 2022-04-28 12:23 /var/datasets/wikipedia_info/21.json\n",
      "-rw-r--r--   1 jupyter-admin hadoop        762 2022-04-28 12:23 /var/datasets/wikipedia_info/22.json\n",
      "-rw-r--r--   1 jupyter-admin hadoop        413 2022-04-28 12:23 /var/datasets/wikipedia_info/23.json\n",
      "-rw-r--r--   1 jupyter-admin hadoop        775 2022-04-28 12:23 /var/datasets/wikipedia_info/24.json\n",
      "-rw-r--r--   1 jupyter-admin hadoop        809 2022-04-28 12:23 /var/datasets/wikipedia_info/25.json\n",
      "-rw-r--r--   1 jupyter-admin hadoop        366 2022-04-28 12:23 /var/datasets/wikipedia_info/26.json\n",
      "-rw-r--r--   1 jupyter-admin hadoop       1278 2022-04-28 12:23 /var/datasets/wikipedia_info/27.json\n",
      "-rw-r--r--   1 jupyter-admin hadoop       1571 2022-04-28 12:23 /var/datasets/wikipedia_info/28.json\n",
      "-rw-r--r--   1 jupyter-admin hadoop       1284 2022-04-28 12:23 /var/datasets/wikipedia_info/29.json\n",
      "-rw-r--r--   1 jupyter-admin hadoop       1224 2022-04-28 12:23 /var/datasets/wikipedia_info/3.json\n",
      "-rw-r--r--   1 jupyter-admin hadoop       1178 2022-04-28 12:23 /var/datasets/wikipedia_info/30.json\n",
      "-rw-r--r--   1 jupyter-admin hadoop       1109 2022-04-28 12:23 /var/datasets/wikipedia_info/31.json\n",
      "-rw-r--r--   1 jupyter-admin hadoop       1126 2022-04-28 12:23 /var/datasets/wikipedia_info/32.json\n",
      "-rw-r--r--   1 jupyter-admin hadoop       1233 2022-04-28 12:23 /var/datasets/wikipedia_info/33.json\n",
      "-rw-r--r--   1 jupyter-admin hadoop        956 2022-04-28 12:23 /var/datasets/wikipedia_info/34.json\n",
      "-rw-r--r--   1 jupyter-admin hadoop       1615 2022-04-28 12:23 /var/datasets/wikipedia_info/35.json\n",
      "-rw-r--r--   1 jupyter-admin hadoop        475 2022-04-28 12:23 /var/datasets/wikipedia_info/36.json\n",
      "-rw-r--r--   1 jupyter-admin hadoop       1502 2022-04-28 12:23 /var/datasets/wikipedia_info/37.json\n",
      "-rw-r--r--   1 jupyter-admin hadoop        788 2022-04-28 12:23 /var/datasets/wikipedia_info/38.json\n",
      "-rw-r--r--   1 jupyter-admin hadoop        634 2022-04-28 12:23 /var/datasets/wikipedia_info/39.json\n",
      "-rw-r--r--   1 jupyter-admin hadoop        413 2022-04-28 12:23 /var/datasets/wikipedia_info/4.json\n",
      "-rw-r--r--   1 jupyter-admin hadoop        457 2022-04-28 12:23 /var/datasets/wikipedia_info/40.json\n",
      "-rw-r--r--   1 jupyter-admin hadoop        845 2022-04-28 12:23 /var/datasets/wikipedia_info/41.json\n",
      "-rw-r--r--   1 jupyter-admin hadoop        931 2022-04-28 12:23 /var/datasets/wikipedia_info/42.json\n",
      "-rw-r--r--   1 jupyter-admin hadoop        538 2022-04-28 12:23 /var/datasets/wikipedia_info/43.json\n",
      "-rw-r--r--   1 jupyter-admin hadoop        396 2022-04-28 12:23 /var/datasets/wikipedia_info/44.json\n",
      "-rw-r--r--   1 jupyter-admin hadoop        646 2022-04-28 12:23 /var/datasets/wikipedia_info/45.json\n",
      "-rw-r--r--   1 jupyter-admin hadoop       1656 2022-04-28 12:23 /var/datasets/wikipedia_info/46.json\n",
      "-rw-r--r--   1 jupyter-admin hadoop        834 2022-04-28 12:23 /var/datasets/wikipedia_info/47.json\n",
      "-rw-r--r--   1 jupyter-admin hadoop       1609 2022-04-28 12:23 /var/datasets/wikipedia_info/48.json\n",
      "-rw-r--r--   1 jupyter-admin hadoop        517 2022-04-28 12:23 /var/datasets/wikipedia_info/49.json\n",
      "-rw-r--r--   1 jupyter-admin hadoop        188 2022-04-28 12:23 /var/datasets/wikipedia_info/5.json\n",
      "-rw-r--r--   1 jupyter-admin hadoop        746 2022-04-28 12:23 /var/datasets/wikipedia_info/50.json\n",
      "-rw-r--r--   1 jupyter-admin hadoop        501 2022-04-28 12:23 /var/datasets/wikipedia_info/51.json\n",
      "-rw-r--r--   1 jupyter-admin hadoop        747 2022-04-28 12:23 /var/datasets/wikipedia_info/52.json\n",
      "-rw-r--r--   1 jupyter-admin hadoop        515 2022-04-28 12:23 /var/datasets/wikipedia_info/53.json\n",
      "-rw-r--r--   1 jupyter-admin hadoop       1088 2022-04-28 12:23 /var/datasets/wikipedia_info/54.json\n",
      "-rw-r--r--   1 jupyter-admin hadoop        746 2022-04-28 12:23 /var/datasets/wikipedia_info/55.json\n",
      "-rw-r--r--   1 jupyter-admin hadoop       1161 2022-04-28 12:23 /var/datasets/wikipedia_info/56.json\n",
      "-rw-r--r--   1 jupyter-admin hadoop       1087 2022-04-28 12:23 /var/datasets/wikipedia_info/57.json\n",
      "-rw-r--r--   1 jupyter-admin hadoop        551 2022-04-28 12:23 /var/datasets/wikipedia_info/58.json\n",
      "-rw-r--r--   1 jupyter-admin hadoop       1138 2022-04-28 12:23 /var/datasets/wikipedia_info/59.json\n",
      "-rw-r--r--   1 jupyter-admin hadoop         55 2022-04-28 12:23 /var/datasets/wikipedia_info/6.json\n",
      "-rw-r--r--   1 jupyter-admin hadoop        688 2022-04-28 12:23 /var/datasets/wikipedia_info/60.json\n",
      "-rw-r--r--   1 jupyter-admin hadoop        449 2022-04-28 12:23 /var/datasets/wikipedia_info/61.json\n",
      "-rw-r--r--   1 jupyter-admin hadoop       1230 2022-04-28 12:23 /var/datasets/wikipedia_info/62.json\n",
      "-rw-r--r--   1 jupyter-admin hadoop       1431 2022-04-28 12:23 /var/datasets/wikipedia_info/63.json\n",
      "-rw-r--r--   1 jupyter-admin hadoop        178 2022-04-28 12:23 /var/datasets/wikipedia_info/64.json\n",
      "-rw-r--r--   1 jupyter-admin hadoop        813 2022-04-28 12:23 /var/datasets/wikipedia_info/65.json\n",
      "-rw-r--r--   1 jupyter-admin hadoop        633 2022-04-28 12:23 /var/datasets/wikipedia_info/66.json\n",
      "-rw-r--r--   1 jupyter-admin hadoop        700 2022-04-28 12:23 /var/datasets/wikipedia_info/67.json\n",
      "-rw-r--r--   1 jupyter-admin hadoop       1899 2022-04-28 12:23 /var/datasets/wikipedia_info/68.json\n",
      "-rw-r--r--   1 jupyter-admin hadoop        635 2022-04-28 12:23 /var/datasets/wikipedia_info/69.json\n",
      "-rw-r--r--   1 jupyter-admin hadoop        753 2022-04-28 12:23 /var/datasets/wikipedia_info/7.json\n",
      "-rw-r--r--   1 jupyter-admin hadoop        882 2022-04-28 12:23 /var/datasets/wikipedia_info/70.json\n",
      "-rw-r--r--   1 jupyter-admin hadoop        820 2022-04-28 12:23 /var/datasets/wikipedia_info/71.json\n",
      "-rw-r--r--   1 jupyter-admin hadoop         77 2022-04-28 12:23 /var/datasets/wikipedia_info/72.json\n",
      "-rw-r--r--   1 jupyter-admin hadoop       1035 2022-04-28 12:23 /var/datasets/wikipedia_info/73.json\n",
      "-rw-r--r--   1 jupyter-admin hadoop        493 2022-04-28 12:23 /var/datasets/wikipedia_info/74.json\n",
      "-rw-r--r--   1 jupyter-admin hadoop         77 2022-04-28 12:23 /var/datasets/wikipedia_info/75.json\n",
      "-rw-r--r--   1 jupyter-admin hadoop        779 2022-04-28 12:23 /var/datasets/wikipedia_info/76.json\n",
      "-rw-r--r--   1 jupyter-admin hadoop       2122 2022-04-28 12:23 /var/datasets/wikipedia_info/77.json\n",
      "-rw-r--r--   1 jupyter-admin hadoop         75 2022-04-28 12:23 /var/datasets/wikipedia_info/78.json\n",
      "-rw-r--r--   1 jupyter-admin hadoop        844 2022-04-28 12:23 /var/datasets/wikipedia_info/79.json\n",
      "-rw-r--r--   1 jupyter-admin hadoop       2566 2022-04-28 12:23 /var/datasets/wikipedia_info/8.json\n",
      "-rw-r--r--   1 jupyter-admin hadoop       2237 2022-04-28 12:23 /var/datasets/wikipedia_info/80.json\n",
      "-rw-r--r--   1 jupyter-admin hadoop       1284 2022-04-28 12:23 /var/datasets/wikipedia_info/81.json\n",
      "-rw-r--r--   1 jupyter-admin hadoop        996 2022-04-28 12:23 /var/datasets/wikipedia_info/82.json\n",
      "-rw-r--r--   1 jupyter-admin hadoop        818 2022-04-28 12:23 /var/datasets/wikipedia_info/83.json\n",
      "-rw-r--r--   1 jupyter-admin hadoop        556 2022-04-28 12:23 /var/datasets/wikipedia_info/84.json\n",
      "-rw-r--r--   1 jupyter-admin hadoop        195 2022-04-28 12:23 /var/datasets/wikipedia_info/85.json\n",
      "-rw-r--r--   1 jupyter-admin hadoop        217 2022-04-28 12:23 /var/datasets/wikipedia_info/86.json\n",
      "-rw-r--r--   1 jupyter-admin hadoop        467 2022-04-28 12:23 /var/datasets/wikipedia_info/87.json\n",
      "-rw-r--r--   1 jupyter-admin hadoop        203 2022-04-28 12:23 /var/datasets/wikipedia_info/88.json\n",
      "-rw-r--r--   1 jupyter-admin hadoop        669 2022-04-28 12:23 /var/datasets/wikipedia_info/89.json\n",
      "-rw-r--r--   1 jupyter-admin hadoop       1305 2022-04-28 12:23 /var/datasets/wikipedia_info/9.json\n",
      "-rw-r--r--   1 jupyter-admin hadoop       1024 2022-04-28 12:23 /var/datasets/wikipedia_info/90.json\n",
      "-rw-r--r--   1 jupyter-admin hadoop        156 2022-04-28 12:23 /var/datasets/wikipedia_info/91.json\n",
      "-rw-r--r--   1 jupyter-admin hadoop        202 2022-04-28 12:23 /var/datasets/wikipedia_info/92.json\n",
      "-rw-r--r--   1 jupyter-admin hadoop        247 2022-04-28 12:23 /var/datasets/wikipedia_info/93.json\n",
      "-rw-r--r--   1 jupyter-admin hadoop         63 2022-04-28 12:23 /var/datasets/wikipedia_info/94.json\n",
      "-rw-r--r--   1 jupyter-admin hadoop        870 2022-04-28 12:23 /var/datasets/wikipedia_info/95.json\n",
      "-rw-r--r--   1 jupyter-admin hadoop        264 2022-04-28 12:23 /var/datasets/wikipedia_info/96.json\n",
      "-rw-r--r--   1 jupyter-admin hadoop        449 2022-04-28 12:23 /var/datasets/wikipedia_info/97.json\n",
      "-rw-r--r--   1 jupyter-admin hadoop        428 2022-04-28 12:23 /var/datasets/wikipedia_info/98.json\n",
      "-rw-r--r--   1 jupyter-admin hadoop        617 2022-04-28 12:23 /var/datasets/wikipedia_info/99.json\n",
      "-rw-r--r--   1 jupyter-admin hadoop       3351 2022-04-28 12:23 /var/datasets/wikipedia_info/wikipedia_info.csv\n"
     ]
    }
   ],
   "source": [
    "# Датасет для обработки\n",
    "!hdfs dfs -ls /var/datasets/wikipedia_info/"
   ]
  },
  {
   "cell_type": "markdown",
   "id": "7904460a",
   "metadata": {},
   "source": [
    "# Локальные тесты"
   ]
  },
  {
   "cell_type": "markdown",
   "id": "646861f3",
   "metadata": {},
   "source": [
    "Ниже пример обработки данных на локальных файлах:"
   ]
  },
  {
   "cell_type": "code",
   "execution_count": 3,
   "id": "ff062ffd",
   "metadata": {},
   "outputs": [
    {
     "data": {
      "text/plain": [
       "{'car_name': 'audi A1',\n",
       " 'info': 'The Audi A1 (internally designated Typ 8X) is a supermini car launched by Audi at the 2010 Geneva Motor Show. Sales of the initial three-door A1 model started in Germany in August 2010, with the United Kingdom following in November 2010.[2] A five-door version, called Sportback, was launched in November 2011, with sales starting in export markets during spring 2012.'}"
      ]
     },
     "execution_count": 3,
     "metadata": {},
     "output_type": "execute_result"
    }
   ],
   "source": [
    "# Данные выглядят следующим образом\n",
    "import json\n",
    "\n",
    "with open('Wikipedia_info/1.json', 'r') as f:\n",
    "    data = json.load(f)\n",
    "data"
   ]
  },
  {
   "cell_type": "code",
   "execution_count": 4,
   "id": "edc78b84",
   "metadata": {},
   "outputs": [
    {
     "name": "stderr",
     "output_type": "stream",
     "text": [
      "[nltk_data] Downloading package punkt to /home/jupyter-\n",
      "[nltk_data]     admin/nltk_data...\n",
      "[nltk_data]   Package punkt is already up-to-date!\n",
      "[nltk_data] Downloading package stopwords to /home/jupyter-\n",
      "[nltk_data]     admin/nltk_data...\n",
      "[nltk_data]   Package stopwords is already up-to-date!\n"
     ]
    }
   ],
   "source": [
    "# Будем использовать библиотеку nltk для токенизации\n",
    "# pip install nltk\n",
    "import nltk\n",
    "from nltk.tokenize import word_tokenize\n",
    "nltk.download('punkt')\n",
    "nltk.download('stopwords')\n",
    "\n",
    "from nltk.corpus import stopwords"
   ]
  },
  {
   "cell_type": "code",
   "execution_count": 5,
   "id": "c55905c3",
   "metadata": {},
   "outputs": [],
   "source": [
    "# Токенизация\n",
    "data['tokenized_info'] = [word for word in word_tokenize(data['info']) if not word in stopwords.words('english')]"
   ]
  },
  {
   "cell_type": "code",
   "execution_count": 6,
   "id": "6433d6cb",
   "metadata": {},
   "outputs": [
    {
     "name": "stdout",
     "output_type": "stream",
     "text": [
      "['The', 'Audi', 'A1', '(', 'internally', 'designated', 'Typ', '8X', ')', 'supermini', 'car', 'launched', 'Audi', '2010', 'Geneva', 'Motor', 'Show', '.', 'Sales', 'initial', 'three-door', 'A1', 'model', 'started', 'Germany', 'August', '2010', ',', 'United', 'Kingdom', 'following', 'November', '2010', '.', '[', '2', ']', 'A', 'five-door', 'version', ',', 'called', 'Sportback', ',', 'launched', 'November', '2011', ',', 'sales', 'starting', 'export', 'markets', 'spring', '2012', '.']\n"
     ]
    }
   ],
   "source": [
    "print(data['tokenized_info'])"
   ]
  },
  {
   "cell_type": "code",
   "execution_count": 7,
   "id": "2312f206",
   "metadata": {},
   "outputs": [],
   "source": [
    "def tokenizer(row):\n",
    "    return [word for word in word_tokenize(row) if not word in stopwords.words('english')]"
   ]
  },
  {
   "cell_type": "code",
   "execution_count": 8,
   "id": "16adcce0",
   "metadata": {},
   "outputs": [
    {
     "name": "stdout",
     "output_type": "stream",
     "text": [
      "['The', 'Audi', 'A1', '(', 'internally', 'designated', 'Typ', '8X', ')', 'supermini', 'car', 'launched', 'Audi', '2010', 'Geneva', 'Motor', 'Show', '.', 'Sales', 'initial', 'three-door', 'A1', 'model', 'started', 'Germany', 'August', '2010', ',', 'United', 'Kingdom', 'following', 'November', '2010', '.', '[', '2', ']', 'A', 'five-door', 'version', ',', 'called', 'Sportback', ',', 'launched', 'November', '2011', ',', 'sales', 'starting', 'export', 'markets', 'spring', '2012', '.']\n"
     ]
    }
   ],
   "source": [
    "print(tokenizer(data['info']))"
   ]
  },
  {
   "cell_type": "markdown",
   "id": "886bf8de",
   "metadata": {},
   "source": [
    "# Spark Streaming"
   ]
  },
  {
   "attachments": {
    "image.png": {
     "image/png": "[encoded data removed]"
    }
   },
   "cell_type": "markdown",
   "id": "0fe287b0",
   "metadata": {},
   "source": [
    "![image.png](attachment:image.png)"
   ]
  },
  {
   "cell_type": "code",
   "execution_count": 9,
   "id": "11d5238a",
   "metadata": {
    "scrolled": true
   },
   "outputs": [
    {
     "name": "stderr",
     "output_type": "stream",
     "text": [
      "SLF4J: Class path contains multiple SLF4J bindings.\n",
      "SLF4J: Found binding in [jar:file:/usr/lib/spark/jars/slf4j-log4j12-1.7.30.jar!/org/slf4j/impl/StaticLoggerBinder.class]\n",
      "SLF4J: Found binding in [jar:file:/usr/lib/hadoop/lib/slf4j-log4j12-1.7.25.jar!/org/slf4j/impl/StaticLoggerBinder.class]\n",
      "SLF4J: See http://www.slf4j.org/codes.html#multiple_bindings for an explanation.\n",
      "SLF4J: Actual binding is of type [org.slf4j.impl.Log4jLoggerFactory]\n",
      "Ivy Default Cache set to: /home/jupyter-admin/.ivy2/cache\n",
      "The jars for the packages stored in: /home/jupyter-admin/.ivy2/jars\n",
      ":: loading settings :: url = jar:file:/usr/lib/spark/jars/ivy-2.4.0.jar!/org/apache/ivy/core/settings/ivysettings.xml\n",
      "org.apache.spark#spark-sql-kafka-0-10_2.13 added as a dependency\n",
      ":: resolving dependencies :: org.apache.spark#spark-submit-parent-98f154ca-da15-4dd5-8f7c-1bddc87f7c43;1.0\n",
      "\tconfs: [default]\n",
      "\tfound org.apache.spark#spark-sql-kafka-0-10_2.13;3.2.1 in central\n",
      "\tfound org.apache.spark#spark-token-provider-kafka-0-10_2.13;3.2.1 in central\n",
      "\tfound org.apache.kafka#kafka-clients;2.8.0 in central\n",
      "\tfound org.lz4#lz4-java;1.7.1 in central\n",
      "\tfound org.xerial.snappy#snappy-java;1.1.8.4 in central\n",
      "\tfound org.slf4j#slf4j-api;1.7.30 in central\n",
      "\tfound org.apache.hadoop#hadoop-client-runtime;3.3.1 in central\n",
      "\tfound org.spark-project.spark#unused;1.0.0 in central\n",
      "\tfound org.apache.hadoop#hadoop-client-api;3.3.1 in central\n",
      "\tfound org.apache.htrace#htrace-core4;4.1.0-incubating in central\n",
      "\tfound commons-logging#commons-logging;1.1.3 in central\n",
      "\tfound com.google.code.findbugs#jsr305;3.0.0 in central\n",
      "\tfound org.scala-lang.modules#scala-parallel-collections_2.13;1.0.3 in central\n",
      "\tfound org.apache.commons#commons-pool2;2.6.2 in central\n",
      ":: resolution report :: resolve 738ms :: artifacts dl 26ms\n",
      "\t:: modules in use:\n",
      "\tcom.google.code.findbugs#jsr305;3.0.0 from central in [default]\n",
      "\tcommons-logging#commons-logging;1.1.3 from central in [default]\n",
      "\torg.apache.commons#commons-pool2;2.6.2 from central in [default]\n",
      "\torg.apache.hadoop#hadoop-client-api;3.3.1 from central in [default]\n",
      "\torg.apache.hadoop#hadoop-client-runtime;3.3.1 from central in [default]\n",
      "\torg.apache.htrace#htrace-core4;4.1.0-incubating from central in [default]\n",
      "\torg.apache.kafka#kafka-clients;2.8.0 from central in [default]\n",
      "\torg.apache.spark#spark-sql-kafka-0-10_2.13;3.2.1 from central in [default]\n",
      "\torg.apache.spark#spark-token-provider-kafka-0-10_2.13;3.2.1 from central in [default]\n",
      "\torg.lz4#lz4-java;1.7.1 from central in [default]\n",
      "\torg.scala-lang.modules#scala-parallel-collections_2.13;1.0.3 from central in [default]\n",
      "\torg.slf4j#slf4j-api;1.7.30 from central in [default]\n",
      "\torg.spark-project.spark#unused;1.0.0 from central in [default]\n",
      "\torg.xerial.snappy#snappy-java;1.1.8.4 from central in [default]\n",
      "\t---------------------------------------------------------------------\n",
      "\t|                  |            modules            ||   artifacts   |\n",
      "\t|       conf       | number| search|dwnlded|evicted|| number|dwnlded|\n",
      "\t---------------------------------------------------------------------\n",
      "\t|      default     |   14  |   0   |   0   |   0   ||   14  |   0   |\n",
      "\t---------------------------------------------------------------------\n",
      ":: retrieving :: org.apache.spark#spark-submit-parent-98f154ca-da15-4dd5-8f7c-1bddc87f7c43\n",
      "\tconfs: [default]\n",
      "\t0 artifacts copied, 14 already retrieved (0kB/14ms)\n",
      "Setting default log level to \"WARN\".\n",
      "To adjust logging level use sc.setLogLevel(newLevel). For SparkR, use setLogLevel(newLevel).\n",
      "2022-05-25 17:23:00,049 WARN util.Utils: Service 'SparkUI' could not bind on port 4040. Attempting port 4041.\n"
     ]
    }
   ],
   "source": [
    "import sys\n",
    "import os\n",
    "from pathlib import Path\n",
    "\n",
    "import findspark\n",
    "findspark.init()\n",
    "findspark.find()\n",
    "\n",
    "from pyspark import SparkConf, SparkContext\n",
    "from pyspark.sql import SparkSession\n",
    "from pyspark.sql.types import *\n",
    "from pyspark.sql.functions import *\n",
    "\n",
    "\n",
    "# os.environ['PYSPARK_PYTHON'] = '../venv/bin/python'\n",
    "\n",
    "spark = SparkSession.builder \\\n",
    "    .appName(\"Spark Streaming\") \\\n",
    "    .master('local[*]') \\\n",
    "    .config(\"spark.driver.extraJavaOptions\", \"-Dcom.sun.net.ssl.checkRevocation=false\") \\\n",
    "    .config(\"spark.executor.extraJavaOptions\", \"-Dcom.sun.net.ssl.checkRevocation=false\") \\\n",
    "    .config(\"spark.jars.packages\", \"org.apache.spark:spark-sql-kafka-0-10_2.13:3.2.1\") \\\n",
    "    .config(\"spark.sql.streaming.forceDeleteTempCheckpointLocation\", \"true\") \\\n",
    "    .config(\"spark.executor.instances\", \"1\") \\\n",
    "    .config(\"spark.executor.memory\", \"512mb\") \\\n",
    "    .getOrCreate()\n",
    "\n",
    "def kill_all():\n",
    "    streams = SparkSession.builder.getOrCreate().streams.active\n",
    "    if streams:\n",
    "        for stream in streams:\n",
    "            desc = stream.lastProgress[\"sources\"][0][\"description\"]\n",
    "            stream.stop()\n",
    "            print(\"Stopped {s}\".format(s=desc))"
   ]
  },
  {
   "cell_type": "code",
   "execution_count": 10,
   "id": "5b666664",
   "metadata": {},
   "outputs": [],
   "source": [
    "# spark.stop()"
   ]
  },
  {
   "cell_type": "code",
   "execution_count": 11,
   "id": "828c4508",
   "metadata": {},
   "outputs": [
    {
     "data": {
      "text/html": [
       "\n",
       "            <div>\n",
       "                <p><b>SparkSession - in-memory</b></p>\n",
       "                \n",
       "        <div>\n",
       "            <p><b>SparkContext</b></p>\n",
       "\n",
       "            <p><a href=\"http://rc1a-dataproc-m-hkgx6juek72rytqo.mdb.yandexcloud.net:4041\">Spark UI</a></p>\n",
       "\n",
       "            <dl>\n",
       "              <dt>Version</dt>\n",
       "                <dd><code>v3.0.2</code></dd>\n",
       "              <dt>Master</dt>\n",
       "                <dd><code>local[*]</code></dd>\n",
       "              <dt>AppName</dt>\n",
       "                <dd><code>Spark Streaming</code></dd>\n",
       "            </dl>\n",
       "        </div>\n",
       "        \n",
       "            </div>\n",
       "        "
      ],
      "text/plain": [
       "<pyspark.sql.session.SparkSession at 0x7f361e9884f0>"
      ]
     },
     "execution_count": 11,
     "metadata": {},
     "output_type": "execute_result"
    }
   ],
   "source": [
    "spark"
   ]
  },
  {
   "cell_type": "code",
   "execution_count": 12,
   "id": "87be68ff",
   "metadata": {},
   "outputs": [],
   "source": [
    "path = '/var/datasets/wikipedia_info/'"
   ]
  },
  {
   "cell_type": "code",
   "execution_count": 13,
   "id": "a5c133cb",
   "metadata": {},
   "outputs": [
    {
     "name": "stderr",
     "output_type": "stream",
     "text": [
      "[Stage 1:>                                                          (0 + 1) / 1]\r"
     ]
    },
    {
     "name": "stdout",
     "output_type": "stream",
     "text": [
      "+--------+--------------------+\n",
      "|car_name|                info|\n",
      "+--------+--------------------+\n",
      "| audi A1|The Audi A1 (inte...|\n",
      "+--------+--------------------+\n",
      "\n"
     ]
    },
    {
     "name": "stderr",
     "output_type": "stream",
     "text": [
      "\r",
      "                                                                                \r"
     ]
    }
   ],
   "source": [
    "spark.read.option(\"multiline\", \"true\").json(path + '/1.json').show()"
   ]
  },
  {
   "cell_type": "code",
   "execution_count": 14,
   "id": "be0e41fb",
   "metadata": {},
   "outputs": [
    {
     "data": {
      "text/plain": [
       "StructType(List(StructField(car_name,StringType,true),StructField(info,StringType,true)))"
      ]
     },
     "execution_count": 14,
     "metadata": {},
     "output_type": "execute_result"
    }
   ],
   "source": [
    "spark.read.option(\"multiline\", \"true\").json(path + '/1.json').schema"
   ]
  },
  {
   "cell_type": "code",
   "execution_count": 15,
   "id": "b0cb5840",
   "metadata": {},
   "outputs": [
    {
     "name": "stderr",
     "output_type": "stream",
     "text": [
      "                                                                                \r"
     ]
    },
    {
     "name": "stdout",
     "output_type": "stream",
     "text": [
      "+--------------------+-------------------+--------------------+\n",
      "|     _corrupt_record|           car_name|                info|\n",
      "+--------------------+-------------------+--------------------+\n",
      "|                null|       toyota Camry|The Toyota Camry ...|\n",
      "|                null|           ford Ka+|Developed by Ford...|\n",
      "|                null|        toyota GT86|The production To...|\n",
      "|ID,CAR_NAME,FILE_...|               null|                null|\n",
      "|                null|        ford Escort|The North America...|\n",
      "|                null|            audi S4|The Audi S4 is th...|\n",
      "|                null|       ford Mustang|The Ford Mustang ...|\n",
      "|                null|       toyota Supra|The Toyota Supra ...|\n",
      "|                null|       toyota Prius|The Toyota Prius ...|\n",
      "|                null| mercedes CLC Class|The SportCoupé wa...|\n",
      "|                null|   mercedes E Class|The Mercedes-Benz...|\n",
      "|                null|        ford Fusion|The Ford Fusion i...|\n",
      "|                null|   mercedes S Class|The Mercedes-Benz...|\n",
      "|                null|toyota Land Cruiser|The Toyota Land C...|\n",
      "|                null|     toyota Verso-S|The second genera...|\n",
      "|                null|        toyota RAV4|The Toyota RAV4 (...|\n",
      "|                null|             bmw i8|The BMW i8 was a ...|\n",
      "|                null|             bmw X5|The BMW X5 is a m...|\n",
      "|                null|             bmw M3|The BMW M3 is a h...|\n",
      "|                null|       bmw 6 Series|The BMW 6 Series ...|\n",
      "+--------------------+-------------------+--------------------+\n",
      "only showing top 20 rows\n",
      "\n"
     ]
    },
    {
     "name": "stderr",
     "output_type": "stream",
     "text": [
      "\r",
      "[Stage 5:>                                                          (0 + 1) / 1]\r",
      "\r",
      "                                                                                \r"
     ]
    }
   ],
   "source": [
    "df = spark.read.option(\"multiline\", \"true\").json(path)\n",
    "df.show()"
   ]
  },
  {
   "cell_type": "code",
   "execution_count": 16,
   "id": "e807a142",
   "metadata": {},
   "outputs": [
    {
     "name": "stdout",
     "output_type": "stream",
     "text": [
      "root\n",
      " |-- car_name: string (nullable = true)\n",
      " |-- info: string (nullable = true)\n",
      "\n"
     ]
    }
   ],
   "source": [
    "schema = StructType(\n",
    "      [\n",
    "        StructField(\"car_name\", StringType(), True),\n",
    "        StructField(\"info\", StringType(), True),\n",
    "      ]\n",
    ")\n",
    "\n",
    "sdf_from_json = spark \\\n",
    "    .readStream \\\n",
    "    .option(\"multiline\", \"true\") \\\n",
    "    .format('json') \\\n",
    "    .schema(schema) \\\n",
    "    .option('maxFilesPerTrigger', '2') \\\n",
    "    .option('path', path) \\\n",
    "    .load()\n",
    "\n",
    "sdf_from_json.printSchema()"
   ]
  },
  {
   "cell_type": "code",
   "execution_count": 17,
   "id": "7a4252fa",
   "metadata": {
    "scrolled": true
   },
   "outputs": [
    {
     "name": "stderr",
     "output_type": "stream",
     "text": [
      "2022-05-25 17:23:20,401 WARN streaming.StreamingQueryManager: Temporary checkpoint location created which is deleted normally when the query didn't fail: /tmp/temporary-e09d2392-be54-4754-97c6-b1515ee98ce4. If it's required to delete it under any circumstances, please set spark.sql.streaming.forceDeleteTempCheckpointLocation to true. Important to know deleting temp checkpoint folder is best effort.\n"
     ]
    }
   ],
   "source": [
    "s = sdf_from_json.writeStream \\\n",
    "    .format(\"console\") \\\n",
    "    .trigger(processingTime=\"5 seconds\") \\\n",
    "    .option(\"truncate\", 'true') \\\n",
    "    .option(\"numRows\", \"10\")\n",
    "\n",
    "sink = s.start()"
   ]
  },
  {
   "cell_type": "code",
   "execution_count": 18,
   "id": "5fa09096",
   "metadata": {},
   "outputs": [],
   "source": [
    "sink.stop()"
   ]
  },
  {
   "cell_type": "code",
   "execution_count": 21,
   "id": "8e3371e6",
   "metadata": {},
   "outputs": [],
   "source": [
    "import pyspark\n",
    "from pyspark.sql.functions import udf\n",
    "from pyspark.sql.types import *\n",
    "\n",
    "# ['The', 'Audi', 'A1', '(', 'internally', 'designated', 'Typ', '8X', ')', 'supermini', 'car', 'launched', 'Audi', '2010', 'Geneva', 'Motor', 'Show', '.', 'Sales', 'initial', 'three-door', 'A1', 'model', 'started', 'Germany', 'August', '2010', ',', 'United', 'Kingdom', 'following', 'November', '2010', '.', '[', '2', ']', 'A', 'five-door', 'version', ',', 'called', 'Sportback', ',', 'launched', 'November', '2011', ',', 'sales', 'starting', 'export', 'markets', 'spring', '2012', '.']\n",
    "\n",
    "udf_tokenizer = udf(tokenizer, returnType=ArrayType(StringType()))"
   ]
  },
  {
   "cell_type": "code",
   "execution_count": 22,
   "id": "5805eece",
   "metadata": {},
   "outputs": [
    {
     "name": "stderr",
     "output_type": "stream",
     "text": [
      "\r",
      "[Stage 7:>                                                          (0 + 1) / 1]\r",
      "\r",
      "                                                                                \r"
     ]
    },
    {
     "name": "stdout",
     "output_type": "stream",
     "text": [
      "+--------------------+-------------------+--------------------+\n",
      "|     _corrupt_record|           car_name|                info|\n",
      "+--------------------+-------------------+--------------------+\n",
      "|                null|       toyota Camry|The Toyota Camry ...|\n",
      "|                null|           ford Ka+|Developed by Ford...|\n",
      "|                null|        toyota GT86|The production To...|\n",
      "|ID,CAR_NAME,FILE_...|               null|                null|\n",
      "|                null|        ford Escort|The North America...|\n",
      "|                null|            audi S4|The Audi S4 is th...|\n",
      "|                null|       ford Mustang|The Ford Mustang ...|\n",
      "|                null|       toyota Supra|The Toyota Supra ...|\n",
      "|                null|       toyota Prius|The Toyota Prius ...|\n",
      "|                null| mercedes CLC Class|The SportCoupé wa...|\n",
      "|                null|   mercedes E Class|The Mercedes-Benz...|\n",
      "|                null|        ford Fusion|The Ford Fusion i...|\n",
      "|                null|   mercedes S Class|The Mercedes-Benz...|\n",
      "|                null|toyota Land Cruiser|The Toyota Land C...|\n",
      "|                null|     toyota Verso-S|The second genera...|\n",
      "|                null|        toyota RAV4|The Toyota RAV4 (...|\n",
      "|                null|             bmw i8|The BMW i8 was a ...|\n",
      "|                null|             bmw X5|The BMW X5 is a m...|\n",
      "|                null|             bmw M3|The BMW M3 is a h...|\n",
      "|                null|       bmw 6 Series|The BMW 6 Series ...|\n",
      "+--------------------+-------------------+--------------------+\n",
      "only showing top 20 rows\n",
      "\n"
     ]
    }
   ],
   "source": [
    "df.show()"
   ]
  },
  {
   "cell_type": "code",
   "execution_count": null,
   "id": "d07daa05",
   "metadata": {},
   "outputs": [
    {
     "name": "stderr",
     "output_type": "stream",
     "text": [
      "[Stage 10:==============>                                           (1 + 3) / 4]\r"
     ]
    }
   ],
   "source": [
    "df.dropna().withColumn('tokens', udf_tokenizer('info')).show()"
   ]
  },
  {
   "cell_type": "code",
   "execution_count": null,
   "id": "e2a723b3",
   "metadata": {},
   "outputs": [],
   "source": []
  },
  {
   "cell_type": "code",
   "execution_count": null,
   "id": "16dc2be5",
   "metadata": {},
   "outputs": [],
   "source": []
  },
  {
   "cell_type": "code",
   "execution_count": null,
   "id": "b8749124",
   "metadata": {},
   "outputs": [],
   "source": []
  },
  {
   "cell_type": "code",
   "execution_count": null,
   "id": "2240b410",
   "metadata": {},
   "outputs": [],
   "source": []
  },
  {
   "cell_type": "code",
   "execution_count": null,
   "id": "24443847",
   "metadata": {},
   "outputs": [],
   "source": []
  },
  {
   "cell_type": "code",
   "execution_count": 8,
   "id": "0453d6db",
   "metadata": {},
   "outputs": [
    {
     "name": "stderr",
     "output_type": "stream",
     "text": [
      "2022-05-25 16:23:02,049 WARN scheduler.TaskSetManager: Lost task 0.0 in stage 3.0 (TID 3, rc1a-dataproc-d-e998z4fz8my7a5xz.mdb.yandexcloud.net, executor 1): org.apache.spark.api.python.PythonException: Traceback (most recent call last):\n",
      "  File \"/hadoop/yarn/nm-local-dir/usercache/jupyter-admin/appcache/application_1653322324364_0070/container_1653322324364_0070_01_000002/pyspark.zip/pyspark/worker.py\", line 605, in main\n",
      "    process()\n",
      "  File \"/hadoop/yarn/nm-local-dir/usercache/jupyter-admin/appcache/application_1653322324364_0070/container_1653322324364_0070_01_000002/pyspark.zip/pyspark/worker.py\", line 597, in process\n",
      "    serializer.dump_stream(out_iter, outfile)\n",
      "  File \"/hadoop/yarn/nm-local-dir/usercache/jupyter-admin/appcache/application_1653322324364_0070/container_1653322324364_0070_01_000002/pyspark.zip/pyspark/serializers.py\", line 223, in dump_stream\n",
      "    self.serializer.dump_stream(self._batched(iterator), stream)\n",
      "  File \"/hadoop/yarn/nm-local-dir/usercache/jupyter-admin/appcache/application_1653322324364_0070/container_1653322324364_0070_01_000002/pyspark.zip/pyspark/serializers.py\", line 141, in dump_stream\n",
      "    for obj in iterator:\n",
      "  File \"/hadoop/yarn/nm-local-dir/usercache/jupyter-admin/appcache/application_1653322324364_0070/container_1653322324364_0070_01_000002/pyspark.zip/pyspark/serializers.py\", line 212, in _batched\n",
      "    for item in iterator:\n",
      "  File \"/hadoop/yarn/nm-local-dir/usercache/jupyter-admin/appcache/application_1653322324364_0070/container_1653322324364_0070_01_000002/pyspark.zip/pyspark/worker.py\", line 450, in mapper\n",
      "    result = tuple(f(*[a[o] for o in arg_offsets]) for (arg_offsets, f) in udfs)\n",
      "  File \"/hadoop/yarn/nm-local-dir/usercache/jupyter-admin/appcache/application_1653322324364_0070/container_1653322324364_0070_01_000002/pyspark.zip/pyspark/worker.py\", line 450, in <genexpr>\n",
      "    result = tuple(f(*[a[o] for o in arg_offsets]) for (arg_offsets, f) in udfs)\n",
      "  File \"/hadoop/yarn/nm-local-dir/usercache/jupyter-admin/appcache/application_1653322324364_0070/container_1653322324364_0070_01_000002/pyspark.zip/pyspark/worker.py\", line 90, in <lambda>\n",
      "    return lambda *a: f(*a)\n",
      "  File \"/hadoop/yarn/nm-local-dir/usercache/jupyter-admin/appcache/application_1653322324364_0070/container_1653322324364_0070_01_000002/pyspark.zip/pyspark/util.py\", line 107, in wrapper\n",
      "    return f(*args, **kwargs)\n",
      "  File \"/tmp/ipykernel_88822/2473264557.py\", line 8, in tokenizer\n",
      "NameError: name 'word_tokenize' is not defined\n",
      "\n",
      "\tat org.apache.spark.api.python.BasePythonRunner$ReaderIterator.handlePythonException(PythonRunner.scala:503)\n",
      "\tat org.apache.spark.sql.execution.python.PythonUDFRunner$$anon$2.read(PythonUDFRunner.scala:81)\n",
      "\tat org.apache.spark.sql.execution.python.PythonUDFRunner$$anon$2.read(PythonUDFRunner.scala:64)\n",
      "\tat org.apache.spark.api.python.BasePythonRunner$ReaderIterator.hasNext(PythonRunner.scala:456)\n",
      "\tat org.apache.spark.InterruptibleIterator.hasNext(InterruptibleIterator.scala:37)\n",
      "\tat scala.collection.Iterator$$anon$11.hasNext(Iterator.scala:489)\n",
      "\tat scala.collection.Iterator$$anon$10.hasNext(Iterator.scala:458)\n",
      "\tat scala.collection.Iterator$$anon$10.hasNext(Iterator.scala:458)\n",
      "\tat org.apache.spark.sql.catalyst.expressions.GeneratedClass$GeneratedIteratorForCodegenStage1.processNext(Unknown Source)\n",
      "\tat org.apache.spark.sql.execution.BufferedRowIterator.hasNext(BufferedRowIterator.java:43)\n",
      "\tat org.apache.spark.sql.execution.WholeStageCodegenExec$$anon$1.hasNext(WholeStageCodegenExec.scala:729)\n",
      "\tat org.apache.spark.sql.execution.SparkPlan.$anonfun$getByteArrayRdd$1(SparkPlan.scala:345)\n",
      "\tat org.apache.spark.rdd.RDD.$anonfun$mapPartitionsInternal$2(RDD.scala:872)\n",
      "\tat org.apache.spark.rdd.RDD.$anonfun$mapPartitionsInternal$2$adapted(RDD.scala:872)\n",
      "\tat org.apache.spark.rdd.MapPartitionsRDD.compute(MapPartitionsRDD.scala:52)\n",
      "\tat org.apache.spark.rdd.RDD.computeOrReadCheckpoint(RDD.scala:349)\n",
      "\tat org.apache.spark.rdd.RDD.iterator(RDD.scala:313)\n",
      "\tat org.apache.spark.scheduler.ResultTask.runTask(ResultTask.scala:90)\n",
      "\tat org.apache.spark.scheduler.Task.run(Task.scala:127)\n",
      "\tat org.apache.spark.executor.Executor$TaskRunner.$anonfun$run$3(Executor.scala:462)\n",
      "\tat org.apache.spark.util.Utils$.tryWithSafeFinally(Utils.scala:1377)\n",
      "\tat org.apache.spark.executor.Executor$TaskRunner.run(Executor.scala:465)\n",
      "\tat java.util.concurrent.ThreadPoolExecutor.runWorker(ThreadPoolExecutor.java:1149)\n",
      "\tat java.util.concurrent.ThreadPoolExecutor$Worker.run(ThreadPoolExecutor.java:624)\n",
      "\tat java.lang.Thread.run(Thread.java:748)\n",
      "\n",
      "2022-05-25 16:23:02,441 ERROR scheduler.TaskSetManager: Task 0 in stage 3.0 failed 4 times; aborting job\n"
     ]
    },
    {
     "ename": "PythonException",
     "evalue": "\n  An exception was thrown from the Python worker. Please see the stack trace below.\nTraceback (most recent call last):\n  File \"/hadoop/yarn/nm-local-dir/usercache/jupyter-admin/appcache/application_1653322324364_0070/container_1653322324364_0070_01_000002/pyspark.zip/pyspark/worker.py\", line 605, in main\n    process()\n  File \"/hadoop/yarn/nm-local-dir/usercache/jupyter-admin/appcache/application_1653322324364_0070/container_1653322324364_0070_01_000002/pyspark.zip/pyspark/worker.py\", line 597, in process\n    serializer.dump_stream(out_iter, outfile)\n  File \"/hadoop/yarn/nm-local-dir/usercache/jupyter-admin/appcache/application_1653322324364_0070/container_1653322324364_0070_01_000002/pyspark.zip/pyspark/serializers.py\", line 223, in dump_stream\n    self.serializer.dump_stream(self._batched(iterator), stream)\n  File \"/hadoop/yarn/nm-local-dir/usercache/jupyter-admin/appcache/application_1653322324364_0070/container_1653322324364_0070_01_000002/pyspark.zip/pyspark/serializers.py\", line 141, in dump_stream\n    for obj in iterator:\n  File \"/hadoop/yarn/nm-local-dir/usercache/jupyter-admin/appcache/application_1653322324364_0070/container_1653322324364_0070_01_000002/pyspark.zip/pyspark/serializers.py\", line 212, in _batched\n    for item in iterator:\n  File \"/hadoop/yarn/nm-local-dir/usercache/jupyter-admin/appcache/application_1653322324364_0070/container_1653322324364_0070_01_000002/pyspark.zip/pyspark/worker.py\", line 450, in mapper\n    result = tuple(f(*[a[o] for o in arg_offsets]) for (arg_offsets, f) in udfs)\n  File \"/hadoop/yarn/nm-local-dir/usercache/jupyter-admin/appcache/application_1653322324364_0070/container_1653322324364_0070_01_000002/pyspark.zip/pyspark/worker.py\", line 450, in <genexpr>\n    result = tuple(f(*[a[o] for o in arg_offsets]) for (arg_offsets, f) in udfs)\n  File \"/hadoop/yarn/nm-local-dir/usercache/jupyter-admin/appcache/application_1653322324364_0070/container_1653322324364_0070_01_000002/pyspark.zip/pyspark/worker.py\", line 90, in <lambda>\n    return lambda *a: f(*a)\n  File \"/hadoop/yarn/nm-local-dir/usercache/jupyter-admin/appcache/application_1653322324364_0070/container_1653322324364_0070_01_000002/pyspark.zip/pyspark/util.py\", line 107, in wrapper\n    return f(*args, **kwargs)\n  File \"/tmp/ipykernel_88822/2473264557.py\", line 8, in tokenizer\nNameError: name 'word_tokenize' is not defined\n",
     "output_type": "error",
     "traceback": [
      "\u001b[0;31m---------------------------------------------------------------------------\u001b[0m",
      "\u001b[0;31mPythonException\u001b[0m                           Traceback (most recent call last)",
      "Input \u001b[0;32mIn [8]\u001b[0m, in \u001b[0;36m<cell line: 1>\u001b[0;34m()\u001b[0m\n\u001b[0;32m----> 1\u001b[0m \u001b[43mspark\u001b[49m\u001b[38;5;241;43m.\u001b[39;49m\u001b[43mread\u001b[49m\u001b[38;5;241;43m.\u001b[39;49m\u001b[43moption\u001b[49m\u001b[43m(\u001b[49m\u001b[38;5;124;43m\"\u001b[39;49m\u001b[38;5;124;43mmultiline\u001b[39;49m\u001b[38;5;124;43m\"\u001b[39;49m\u001b[43m,\u001b[49m\u001b[43m \u001b[49m\u001b[38;5;124;43m\"\u001b[39;49m\u001b[38;5;124;43mtrue\u001b[39;49m\u001b[38;5;124;43m\"\u001b[39;49m\u001b[43m)\u001b[49m\u001b[38;5;241;43m.\u001b[39;49m\u001b[43mjson\u001b[49m\u001b[43m(\u001b[49m\u001b[43mpath\u001b[49m\u001b[43m \u001b[49m\u001b[38;5;241;43m+\u001b[39;49m\u001b[43m \u001b[49m\u001b[38;5;124;43m'\u001b[39;49m\u001b[38;5;124;43m/1.json\u001b[39;49m\u001b[38;5;124;43m'\u001b[39;49m\u001b[43m)\u001b[49m\u001b[38;5;241;43m.\u001b[39;49m\u001b[43mwithColumn\u001b[49m\u001b[43m(\u001b[49m\u001b[38;5;124;43m'\u001b[39;49m\u001b[38;5;124;43mtokens\u001b[39;49m\u001b[38;5;124;43m'\u001b[39;49m\u001b[43m,\u001b[49m\u001b[43m \u001b[49m\u001b[43mtokenizer\u001b[49m\u001b[43m(\u001b[49m\u001b[38;5;124;43m'\u001b[39;49m\u001b[38;5;124;43minfo\u001b[39;49m\u001b[38;5;124;43m'\u001b[39;49m\u001b[43m)\u001b[49m\u001b[43m)\u001b[49m\u001b[38;5;241;43m.\u001b[39;49m\u001b[43mshow\u001b[49m\u001b[43m(\u001b[49m\u001b[43m)\u001b[49m\n",
      "File \u001b[0;32m/usr/lib/spark/python/pyspark/sql/dataframe.py:440\u001b[0m, in \u001b[0;36mDataFrame.show\u001b[0;34m(self, n, truncate, vertical)\u001b[0m\n\u001b[1;32m    406\u001b[0m \u001b[38;5;124;03m\"\"\"Prints the first ``n`` rows to the console.\u001b[39;00m\n\u001b[1;32m    407\u001b[0m \n\u001b[1;32m    408\u001b[0m \u001b[38;5;124;03m:param n: Number of rows to show.\u001b[39;00m\n\u001b[0;32m   (...)\u001b[0m\n\u001b[1;32m    437\u001b[0m \u001b[38;5;124;03m name | Bob\u001b[39;00m\n\u001b[1;32m    438\u001b[0m \u001b[38;5;124;03m\"\"\"\u001b[39;00m\n\u001b[1;32m    439\u001b[0m \u001b[38;5;28;01mif\u001b[39;00m \u001b[38;5;28misinstance\u001b[39m(truncate, \u001b[38;5;28mbool\u001b[39m) \u001b[38;5;129;01mand\u001b[39;00m truncate:\n\u001b[0;32m--> 440\u001b[0m     \u001b[38;5;28mprint\u001b[39m(\u001b[38;5;28;43mself\u001b[39;49m\u001b[38;5;241;43m.\u001b[39;49m\u001b[43m_jdf\u001b[49m\u001b[38;5;241;43m.\u001b[39;49m\u001b[43mshowString\u001b[49m\u001b[43m(\u001b[49m\u001b[43mn\u001b[49m\u001b[43m,\u001b[49m\u001b[43m \u001b[49m\u001b[38;5;241;43m20\u001b[39;49m\u001b[43m,\u001b[49m\u001b[43m \u001b[49m\u001b[43mvertical\u001b[49m\u001b[43m)\u001b[49m)\n\u001b[1;32m    441\u001b[0m \u001b[38;5;28;01melse\u001b[39;00m:\n\u001b[1;32m    442\u001b[0m     \u001b[38;5;28mprint\u001b[39m(\u001b[38;5;28mself\u001b[39m\u001b[38;5;241m.\u001b[39m_jdf\u001b[38;5;241m.\u001b[39mshowString(n, \u001b[38;5;28mint\u001b[39m(truncate), vertical))\n",
      "File \u001b[0;32m/usr/lib/spark/python/lib/py4j-0.10.9-src.zip/py4j/java_gateway.py:1304\u001b[0m, in \u001b[0;36mJavaMember.__call__\u001b[0;34m(self, *args)\u001b[0m\n\u001b[1;32m   1298\u001b[0m command \u001b[38;5;241m=\u001b[39m proto\u001b[38;5;241m.\u001b[39mCALL_COMMAND_NAME \u001b[38;5;241m+\u001b[39m\\\n\u001b[1;32m   1299\u001b[0m     \u001b[38;5;28mself\u001b[39m\u001b[38;5;241m.\u001b[39mcommand_header \u001b[38;5;241m+\u001b[39m\\\n\u001b[1;32m   1300\u001b[0m     args_command \u001b[38;5;241m+\u001b[39m\\\n\u001b[1;32m   1301\u001b[0m     proto\u001b[38;5;241m.\u001b[39mEND_COMMAND_PART\n\u001b[1;32m   1303\u001b[0m answer \u001b[38;5;241m=\u001b[39m \u001b[38;5;28mself\u001b[39m\u001b[38;5;241m.\u001b[39mgateway_client\u001b[38;5;241m.\u001b[39msend_command(command)\n\u001b[0;32m-> 1304\u001b[0m return_value \u001b[38;5;241m=\u001b[39m \u001b[43mget_return_value\u001b[49m\u001b[43m(\u001b[49m\n\u001b[1;32m   1305\u001b[0m \u001b[43m    \u001b[49m\u001b[43manswer\u001b[49m\u001b[43m,\u001b[49m\u001b[43m \u001b[49m\u001b[38;5;28;43mself\u001b[39;49m\u001b[38;5;241;43m.\u001b[39;49m\u001b[43mgateway_client\u001b[49m\u001b[43m,\u001b[49m\u001b[43m \u001b[49m\u001b[38;5;28;43mself\u001b[39;49m\u001b[38;5;241;43m.\u001b[39;49m\u001b[43mtarget_id\u001b[49m\u001b[43m,\u001b[49m\u001b[43m \u001b[49m\u001b[38;5;28;43mself\u001b[39;49m\u001b[38;5;241;43m.\u001b[39;49m\u001b[43mname\u001b[49m\u001b[43m)\u001b[49m\n\u001b[1;32m   1307\u001b[0m \u001b[38;5;28;01mfor\u001b[39;00m temp_arg \u001b[38;5;129;01min\u001b[39;00m temp_args:\n\u001b[1;32m   1308\u001b[0m     temp_arg\u001b[38;5;241m.\u001b[39m_detach()\n",
      "File \u001b[0;32m/usr/lib/spark/python/pyspark/sql/utils.py:134\u001b[0m, in \u001b[0;36mcapture_sql_exception.<locals>.deco\u001b[0;34m(*a, **kw)\u001b[0m\n\u001b[1;32m    130\u001b[0m converted \u001b[38;5;241m=\u001b[39m convert_exception(e\u001b[38;5;241m.\u001b[39mjava_exception)\n\u001b[1;32m    131\u001b[0m \u001b[38;5;28;01mif\u001b[39;00m \u001b[38;5;129;01mnot\u001b[39;00m \u001b[38;5;28misinstance\u001b[39m(converted, UnknownException):\n\u001b[1;32m    132\u001b[0m     \u001b[38;5;66;03m# Hide where the exception came from that shows a non-Pythonic\u001b[39;00m\n\u001b[1;32m    133\u001b[0m     \u001b[38;5;66;03m# JVM exception message.\u001b[39;00m\n\u001b[0;32m--> 134\u001b[0m     \u001b[43mraise_from\u001b[49m\u001b[43m(\u001b[49m\u001b[43mconverted\u001b[49m\u001b[43m)\u001b[49m\n\u001b[1;32m    135\u001b[0m \u001b[38;5;28;01melse\u001b[39;00m:\n\u001b[1;32m    136\u001b[0m     \u001b[38;5;28;01mraise\u001b[39;00m\n",
      "File \u001b[0;32m<string>:3\u001b[0m, in \u001b[0;36mraise_from\u001b[0;34m(e)\u001b[0m\n",
      "\u001b[0;31mPythonException\u001b[0m: \n  An exception was thrown from the Python worker. Please see the stack trace below.\nTraceback (most recent call last):\n  File \"/hadoop/yarn/nm-local-dir/usercache/jupyter-admin/appcache/application_1653322324364_0070/container_1653322324364_0070_01_000002/pyspark.zip/pyspark/worker.py\", line 605, in main\n    process()\n  File \"/hadoop/yarn/nm-local-dir/usercache/jupyter-admin/appcache/application_1653322324364_0070/container_1653322324364_0070_01_000002/pyspark.zip/pyspark/worker.py\", line 597, in process\n    serializer.dump_stream(out_iter, outfile)\n  File \"/hadoop/yarn/nm-local-dir/usercache/jupyter-admin/appcache/application_1653322324364_0070/container_1653322324364_0070_01_000002/pyspark.zip/pyspark/serializers.py\", line 223, in dump_stream\n    self.serializer.dump_stream(self._batched(iterator), stream)\n  File \"/hadoop/yarn/nm-local-dir/usercache/jupyter-admin/appcache/application_1653322324364_0070/container_1653322324364_0070_01_000002/pyspark.zip/pyspark/serializers.py\", line 141, in dump_stream\n    for obj in iterator:\n  File \"/hadoop/yarn/nm-local-dir/usercache/jupyter-admin/appcache/application_1653322324364_0070/container_1653322324364_0070_01_000002/pyspark.zip/pyspark/serializers.py\", line 212, in _batched\n    for item in iterator:\n  File \"/hadoop/yarn/nm-local-dir/usercache/jupyter-admin/appcache/application_1653322324364_0070/container_1653322324364_0070_01_000002/pyspark.zip/pyspark/worker.py\", line 450, in mapper\n    result = tuple(f(*[a[o] for o in arg_offsets]) for (arg_offsets, f) in udfs)\n  File \"/hadoop/yarn/nm-local-dir/usercache/jupyter-admin/appcache/application_1653322324364_0070/container_1653322324364_0070_01_000002/pyspark.zip/pyspark/worker.py\", line 450, in <genexpr>\n    result = tuple(f(*[a[o] for o in arg_offsets]) for (arg_offsets, f) in udfs)\n  File \"/hadoop/yarn/nm-local-dir/usercache/jupyter-admin/appcache/application_1653322324364_0070/container_1653322324364_0070_01_000002/pyspark.zip/pyspark/worker.py\", line 90, in <lambda>\n    return lambda *a: f(*a)\n  File \"/hadoop/yarn/nm-local-dir/usercache/jupyter-admin/appcache/application_1653322324364_0070/container_1653322324364_0070_01_000002/pyspark.zip/pyspark/util.py\", line 107, in wrapper\n    return f(*args, **kwargs)\n  File \"/tmp/ipykernel_88822/2473264557.py\", line 8, in tokenizer\nNameError: name 'word_tokenize' is not defined\n"
     ]
    }
   ],
   "source": [
    "spark.read.option(\"multiline\", \"true\").json(path + '/1.json').withColumn('tokens', tokenizer('info')).show()"
   ]
  },
  {
   "cell_type": "code",
   "execution_count": null,
   "id": "da08e2ee",
   "metadata": {},
   "outputs": [],
   "source": [
    "kill_all()"
   ]
  },
  {
   "cell_type": "code",
   "execution_count": 13,
   "id": "fcadfaf7",
   "metadata": {},
   "outputs": [
    {
     "ename": "Py4JJavaError",
     "evalue": "An error occurred while calling o166.load.\n: java.lang.ClassNotFoundException: Failed to find data source: org.apache.spark.sql.cassandra. Please find packages at http://spark.apache.org/third-party-projects.html\n\tat org.apache.spark.sql.execution.datasources.DataSource$.lookupDataSource(DataSource.scala:689)\n\tat org.apache.spark.sql.execution.datasources.DataSource$.lookupDataSourceV2(DataSource.scala:743)\n\tat org.apache.spark.sql.DataFrameReader.load(DataFrameReader.scala:248)\n\tat org.apache.spark.sql.DataFrameReader.load(DataFrameReader.scala:221)\n\tat sun.reflect.NativeMethodAccessorImpl.invoke0(Native Method)\n\tat sun.reflect.NativeMethodAccessorImpl.invoke(NativeMethodAccessorImpl.java:62)\n\tat sun.reflect.DelegatingMethodAccessorImpl.invoke(DelegatingMethodAccessorImpl.java:43)\n\tat java.lang.reflect.Method.invoke(Method.java:498)\n\tat py4j.reflection.MethodInvoker.invoke(MethodInvoker.java:244)\n\tat py4j.reflection.ReflectionEngine.invoke(ReflectionEngine.java:357)\n\tat py4j.Gateway.invoke(Gateway.java:282)\n\tat py4j.commands.AbstractCommand.invokeMethod(AbstractCommand.java:132)\n\tat py4j.commands.CallCommand.execute(CallCommand.java:79)\n\tat py4j.GatewayConnection.run(GatewayConnection.java:238)\n\tat java.lang.Thread.run(Thread.java:748)\nCaused by: java.lang.ClassNotFoundException: org.apache.spark.sql.cassandra.DefaultSource\n\tat java.net.URLClassLoader.findClass(URLClassLoader.java:387)\n\tat java.lang.ClassLoader.loadClass(ClassLoader.java:418)\n\tat java.lang.ClassLoader.loadClass(ClassLoader.java:351)\n\tat org.apache.spark.sql.execution.datasources.DataSource$.$anonfun$lookupDataSource$5(DataSource.scala:663)\n\tat scala.util.Try$.apply(Try.scala:213)\n\tat org.apache.spark.sql.execution.datasources.DataSource$.$anonfun$lookupDataSource$4(DataSource.scala:663)\n\tat scala.util.Failure.orElse(Try.scala:224)\n\tat org.apache.spark.sql.execution.datasources.DataSource$.lookupDataSource(DataSource.scala:663)\n\t... 14 more\n",
     "output_type": "error",
     "traceback": [
      "\u001b[0;31m---------------------------------------------------------------------------\u001b[0m",
      "\u001b[0;31mPy4JJavaError\u001b[0m                             Traceback (most recent call last)",
      "Input \u001b[0;32mIn [13]\u001b[0m, in \u001b[0;36m<cell line: 1>\u001b[0;34m()\u001b[0m\n\u001b[0;32m----> 1\u001b[0m cass_big_df \u001b[38;5;241m=\u001b[39m \u001b[43mspark\u001b[49m\u001b[38;5;241;43m.\u001b[39;49m\u001b[43mread\u001b[49m\u001b[43m \u001b[49m\u001b[43m\\\u001b[49m\n\u001b[1;32m      2\u001b[0m \u001b[43m    \u001b[49m\u001b[38;5;241;43m.\u001b[39;49m\u001b[43mformat\u001b[49m\u001b[43m(\u001b[49m\u001b[38;5;124;43m\"\u001b[39;49m\u001b[38;5;124;43morg.apache.spark.sql.cassandra\u001b[39;49m\u001b[38;5;124;43m\"\u001b[39;49m\u001b[43m)\u001b[49m\u001b[43m \u001b[49m\u001b[43m\\\u001b[49m\n\u001b[1;32m      3\u001b[0m \u001b[43m    \u001b[49m\u001b[38;5;241;43m.\u001b[39;49m\u001b[43moptions\u001b[49m\u001b[43m(\u001b[49m\u001b[43mtable\u001b[49m\u001b[38;5;241;43m=\u001b[39;49m\u001b[38;5;124;43m\"\u001b[39;49m\u001b[38;5;124;43musers_many\u001b[39;49m\u001b[38;5;124;43m\"\u001b[39;49m\u001b[43m,\u001b[49m\u001b[43m \u001b[49m\u001b[43mkeyspace\u001b[49m\u001b[38;5;241;43m=\u001b[39;49m\u001b[38;5;124;43m\"\u001b[39;49m\u001b[38;5;124;43mkeyspace1\u001b[39;49m\u001b[38;5;124;43m\"\u001b[39;49m\u001b[43m)\u001b[49m\u001b[43m \u001b[49m\u001b[43m\\\u001b[49m\n\u001b[1;32m      4\u001b[0m \u001b[43m    \u001b[49m\u001b[38;5;241;43m.\u001b[39;49m\u001b[43mload\u001b[49m\u001b[43m(\u001b[49m\u001b[43m)\u001b[49m\n",
      "File \u001b[0;32m/usr/lib/spark/python/pyspark/sql/readwriter.py:184\u001b[0m, in \u001b[0;36mDataFrameReader.load\u001b[0;34m(self, path, format, schema, **options)\u001b[0m\n\u001b[1;32m    182\u001b[0m     \u001b[38;5;28;01mreturn\u001b[39;00m \u001b[38;5;28mself\u001b[39m\u001b[38;5;241m.\u001b[39m_df(\u001b[38;5;28mself\u001b[39m\u001b[38;5;241m.\u001b[39m_jreader\u001b[38;5;241m.\u001b[39mload(\u001b[38;5;28mself\u001b[39m\u001b[38;5;241m.\u001b[39m_spark\u001b[38;5;241m.\u001b[39m_sc\u001b[38;5;241m.\u001b[39m_jvm\u001b[38;5;241m.\u001b[39mPythonUtils\u001b[38;5;241m.\u001b[39mtoSeq(path)))\n\u001b[1;32m    183\u001b[0m \u001b[38;5;28;01melse\u001b[39;00m:\n\u001b[0;32m--> 184\u001b[0m     \u001b[38;5;28;01mreturn\u001b[39;00m \u001b[38;5;28mself\u001b[39m\u001b[38;5;241m.\u001b[39m_df(\u001b[38;5;28;43mself\u001b[39;49m\u001b[38;5;241;43m.\u001b[39;49m\u001b[43m_jreader\u001b[49m\u001b[38;5;241;43m.\u001b[39;49m\u001b[43mload\u001b[49m\u001b[43m(\u001b[49m\u001b[43m)\u001b[49m)\n",
      "File \u001b[0;32m/usr/lib/spark/python/lib/py4j-0.10.9-src.zip/py4j/java_gateway.py:1304\u001b[0m, in \u001b[0;36mJavaMember.__call__\u001b[0;34m(self, *args)\u001b[0m\n\u001b[1;32m   1298\u001b[0m command \u001b[38;5;241m=\u001b[39m proto\u001b[38;5;241m.\u001b[39mCALL_COMMAND_NAME \u001b[38;5;241m+\u001b[39m\\\n\u001b[1;32m   1299\u001b[0m     \u001b[38;5;28mself\u001b[39m\u001b[38;5;241m.\u001b[39mcommand_header \u001b[38;5;241m+\u001b[39m\\\n\u001b[1;32m   1300\u001b[0m     args_command \u001b[38;5;241m+\u001b[39m\\\n\u001b[1;32m   1301\u001b[0m     proto\u001b[38;5;241m.\u001b[39mEND_COMMAND_PART\n\u001b[1;32m   1303\u001b[0m answer \u001b[38;5;241m=\u001b[39m \u001b[38;5;28mself\u001b[39m\u001b[38;5;241m.\u001b[39mgateway_client\u001b[38;5;241m.\u001b[39msend_command(command)\n\u001b[0;32m-> 1304\u001b[0m return_value \u001b[38;5;241m=\u001b[39m \u001b[43mget_return_value\u001b[49m\u001b[43m(\u001b[49m\n\u001b[1;32m   1305\u001b[0m \u001b[43m    \u001b[49m\u001b[43manswer\u001b[49m\u001b[43m,\u001b[49m\u001b[43m \u001b[49m\u001b[38;5;28;43mself\u001b[39;49m\u001b[38;5;241;43m.\u001b[39;49m\u001b[43mgateway_client\u001b[49m\u001b[43m,\u001b[49m\u001b[43m \u001b[49m\u001b[38;5;28;43mself\u001b[39;49m\u001b[38;5;241;43m.\u001b[39;49m\u001b[43mtarget_id\u001b[49m\u001b[43m,\u001b[49m\u001b[43m \u001b[49m\u001b[38;5;28;43mself\u001b[39;49m\u001b[38;5;241;43m.\u001b[39;49m\u001b[43mname\u001b[49m\u001b[43m)\u001b[49m\n\u001b[1;32m   1307\u001b[0m \u001b[38;5;28;01mfor\u001b[39;00m temp_arg \u001b[38;5;129;01min\u001b[39;00m temp_args:\n\u001b[1;32m   1308\u001b[0m     temp_arg\u001b[38;5;241m.\u001b[39m_detach()\n",
      "File \u001b[0;32m/usr/lib/spark/python/pyspark/sql/utils.py:128\u001b[0m, in \u001b[0;36mcapture_sql_exception.<locals>.deco\u001b[0;34m(*a, **kw)\u001b[0m\n\u001b[1;32m    126\u001b[0m \u001b[38;5;28;01mdef\u001b[39;00m \u001b[38;5;21mdeco\u001b[39m(\u001b[38;5;241m*\u001b[39ma, \u001b[38;5;241m*\u001b[39m\u001b[38;5;241m*\u001b[39mkw):\n\u001b[1;32m    127\u001b[0m     \u001b[38;5;28;01mtry\u001b[39;00m:\n\u001b[0;32m--> 128\u001b[0m         \u001b[38;5;28;01mreturn\u001b[39;00m \u001b[43mf\u001b[49m\u001b[43m(\u001b[49m\u001b[38;5;241;43m*\u001b[39;49m\u001b[43ma\u001b[49m\u001b[43m,\u001b[49m\u001b[43m \u001b[49m\u001b[38;5;241;43m*\u001b[39;49m\u001b[38;5;241;43m*\u001b[39;49m\u001b[43mkw\u001b[49m\u001b[43m)\u001b[49m\n\u001b[1;32m    129\u001b[0m     \u001b[38;5;28;01mexcept\u001b[39;00m py4j\u001b[38;5;241m.\u001b[39mprotocol\u001b[38;5;241m.\u001b[39mPy4JJavaError \u001b[38;5;28;01mas\u001b[39;00m e:\n\u001b[1;32m    130\u001b[0m         converted \u001b[38;5;241m=\u001b[39m convert_exception(e\u001b[38;5;241m.\u001b[39mjava_exception)\n",
      "File \u001b[0;32m/usr/lib/spark/python/lib/py4j-0.10.9-src.zip/py4j/protocol.py:326\u001b[0m, in \u001b[0;36mget_return_value\u001b[0;34m(answer, gateway_client, target_id, name)\u001b[0m\n\u001b[1;32m    324\u001b[0m value \u001b[38;5;241m=\u001b[39m OUTPUT_CONVERTER[\u001b[38;5;28mtype\u001b[39m](answer[\u001b[38;5;241m2\u001b[39m:], gateway_client)\n\u001b[1;32m    325\u001b[0m \u001b[38;5;28;01mif\u001b[39;00m answer[\u001b[38;5;241m1\u001b[39m] \u001b[38;5;241m==\u001b[39m REFERENCE_TYPE:\n\u001b[0;32m--> 326\u001b[0m     \u001b[38;5;28;01mraise\u001b[39;00m Py4JJavaError(\n\u001b[1;32m    327\u001b[0m         \u001b[38;5;124m\"\u001b[39m\u001b[38;5;124mAn error occurred while calling \u001b[39m\u001b[38;5;132;01m{0}\u001b[39;00m\u001b[38;5;132;01m{1}\u001b[39;00m\u001b[38;5;132;01m{2}\u001b[39;00m\u001b[38;5;124m.\u001b[39m\u001b[38;5;130;01m\\n\u001b[39;00m\u001b[38;5;124m\"\u001b[39m\u001b[38;5;241m.\u001b[39m\n\u001b[1;32m    328\u001b[0m         \u001b[38;5;28mformat\u001b[39m(target_id, \u001b[38;5;124m\"\u001b[39m\u001b[38;5;124m.\u001b[39m\u001b[38;5;124m\"\u001b[39m, name), value)\n\u001b[1;32m    329\u001b[0m \u001b[38;5;28;01melse\u001b[39;00m:\n\u001b[1;32m    330\u001b[0m     \u001b[38;5;28;01mraise\u001b[39;00m Py4JError(\n\u001b[1;32m    331\u001b[0m         \u001b[38;5;124m\"\u001b[39m\u001b[38;5;124mAn error occurred while calling \u001b[39m\u001b[38;5;132;01m{0}\u001b[39;00m\u001b[38;5;132;01m{1}\u001b[39;00m\u001b[38;5;132;01m{2}\u001b[39;00m\u001b[38;5;124m. Trace:\u001b[39m\u001b[38;5;130;01m\\n\u001b[39;00m\u001b[38;5;132;01m{3}\u001b[39;00m\u001b[38;5;130;01m\\n\u001b[39;00m\u001b[38;5;124m\"\u001b[39m\u001b[38;5;241m.\u001b[39m\n\u001b[1;32m    332\u001b[0m         \u001b[38;5;28mformat\u001b[39m(target_id, \u001b[38;5;124m\"\u001b[39m\u001b[38;5;124m.\u001b[39m\u001b[38;5;124m\"\u001b[39m, name, value))\n",
      "\u001b[0;31mPy4JJavaError\u001b[0m: An error occurred while calling o166.load.\n: java.lang.ClassNotFoundException: Failed to find data source: org.apache.spark.sql.cassandra. Please find packages at http://spark.apache.org/third-party-projects.html\n\tat org.apache.spark.sql.execution.datasources.DataSource$.lookupDataSource(DataSource.scala:689)\n\tat org.apache.spark.sql.execution.datasources.DataSource$.lookupDataSourceV2(DataSource.scala:743)\n\tat org.apache.spark.sql.DataFrameReader.load(DataFrameReader.scala:248)\n\tat org.apache.spark.sql.DataFrameReader.load(DataFrameReader.scala:221)\n\tat sun.reflect.NativeMethodAccessorImpl.invoke0(Native Method)\n\tat sun.reflect.NativeMethodAccessorImpl.invoke(NativeMethodAccessorImpl.java:62)\n\tat sun.reflect.DelegatingMethodAccessorImpl.invoke(DelegatingMethodAccessorImpl.java:43)\n\tat java.lang.reflect.Method.invoke(Method.java:498)\n\tat py4j.reflection.MethodInvoker.invoke(MethodInvoker.java:244)\n\tat py4j.reflection.ReflectionEngine.invoke(ReflectionEngine.java:357)\n\tat py4j.Gateway.invoke(Gateway.java:282)\n\tat py4j.commands.AbstractCommand.invokeMethod(AbstractCommand.java:132)\n\tat py4j.commands.CallCommand.execute(CallCommand.java:79)\n\tat py4j.GatewayConnection.run(GatewayConnection.java:238)\n\tat java.lang.Thread.run(Thread.java:748)\nCaused by: java.lang.ClassNotFoundException: org.apache.spark.sql.cassandra.DefaultSource\n\tat java.net.URLClassLoader.findClass(URLClassLoader.java:387)\n\tat java.lang.ClassLoader.loadClass(ClassLoader.java:418)\n\tat java.lang.ClassLoader.loadClass(ClassLoader.java:351)\n\tat org.apache.spark.sql.execution.datasources.DataSource$.$anonfun$lookupDataSource$5(DataSource.scala:663)\n\tat scala.util.Try$.apply(Try.scala:213)\n\tat org.apache.spark.sql.execution.datasources.DataSource$.$anonfun$lookupDataSource$4(DataSource.scala:663)\n\tat scala.util.Failure.orElse(Try.scala:224)\n\tat org.apache.spark.sql.execution.datasources.DataSource$.lookupDataSource(DataSource.scala:663)\n\t... 14 more\n"
     ]
    }
   ],
   "source": [
    "cass_big_df = spark.read \\\n",
    "    .format(\"org.apache.spark.sql.cassandra\") \\\n",
    "    .options(table=\"users_many\", keyspace=\"keyspace1\") \\\n",
    "    .load()"
   ]
  },
  {
   "cell_type": "code",
   "execution_count": null,
   "id": "530ea3de",
   "metadata": {},
   "outputs": [],
   "source": []
  }
 ],
 "metadata": {
  "kernelspec": {
   "display_name": "venv",
   "language": "python",
   "name": "venv"
  },
  "language_info": {
   "codemirror_mode": {
    "name": "ipython",
    "version": 3
   },
   "file_extension": ".py",
   "mimetype": "text/x-python",
   "name": "python",
   "nbconvert_exporter": "python",
   "pygments_lexer": "ipython3",
   "version": "3.8.10"
  }
 },
 "nbformat": 4,
 "nbformat_minor": 5
}
