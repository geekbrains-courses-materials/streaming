{
 "cells": [
  {
   "cell_type": "markdown",
   "id": "a5466d1e",
   "metadata": {},
   "source": [
    "# Домашняя работа"
   ]
  },
  {
   "cell_type": "markdown",
   "id": "5e461494",
   "metadata": {},
   "source": [
    "В директории /var/datasets/wikipedia_info/ вам даны данные из википедии.\n",
    "Создайте Structured Streaming поток, который считывает данные из директории /var/datasets/wikipedia_info/, токенизирует их и удалить стоп слова, а затем записывает в папку /user/jupyter-$<ваш юзернейм>/"
   ]
  },
  {
   "cell_type": "code",
   "execution_count": 1,
   "id": "c100cb67",
   "metadata": {},
   "outputs": [
    {
     "name": "stdout",
     "output_type": "stream",
     "text": [
      "Found 135 items\r\n",
      "-rw-r--r--   1 jupyter-admin hadoop        416 2022-04-28 12:23 /var/datasets/wikipedia_info/1.json\r\n",
      "-rw-r--r--   1 jupyter-admin hadoop        365 2022-04-28 12:23 /var/datasets/wikipedia_info/10.json\r\n",
      "-rw-r--r--   1 jupyter-admin hadoop        959 2022-04-28 12:23 /var/datasets/wikipedia_info/100.json\r\n",
      "-rw-r--r--   1 jupyter-admin hadoop       3626 2022-04-28 12:23 /var/datasets/wikipedia_info/101.json\r\n",
      "-rw-r--r--   1 jupyter-admin hadoop        317 2022-04-28 12:23 /var/datasets/wikipedia_info/102.json\r\n",
      "-rw-r--r--   1 jupyter-admin hadoop        772 2022-04-28 12:23 /var/datasets/wikipedia_info/103.json\r\n",
      "-rw-r--r--   1 jupyter-admin hadoop        666 2022-04-28 12:23 /var/datasets/wikipedia_info/104.json\r\n",
      "-rw-r--r--   1 jupyter-admin hadoop        919 2022-04-28 12:23 /var/datasets/wikipedia_info/105.json\r\n",
      "-rw-r--r--   1 jupyter-admin hadoop       1058 2022-04-28 12:23 /var/datasets/wikipedia_info/106.json\r\n",
      "-rw-r--r--   1 jupyter-admin hadoop        623 2022-04-28 12:23 /var/datasets/wikipedia_info/107.json\r\n",
      "-rw-r--r--   1 jupyter-admin hadoop        888 2022-04-28 12:23 /var/datasets/wikipedia_info/108.json\r\n",
      "-rw-r--r--   1 jupyter-admin hadoop        704 2022-04-28 12:23 /var/datasets/wikipedia_info/109.json\r\n",
      "-rw-r--r--   1 jupyter-admin hadoop        938 2022-04-28 12:23 /var/datasets/wikipedia_info/11.json\r\n",
      "-rw-r--r--   1 jupyter-admin hadoop       2465 2022-04-28 12:23 /var/datasets/wikipedia_info/110.json\r\n",
      "-rw-r--r--   1 jupyter-admin hadoop        219 2022-04-28 12:23 /var/datasets/wikipedia_info/111.json\r\n",
      "-rw-r--r--   1 jupyter-admin hadoop       2052 2022-04-28 12:23 /var/datasets/wikipedia_info/112.json\r\n",
      "-rw-r--r--   1 jupyter-admin hadoop       1436 2022-04-28 12:23 /var/datasets/wikipedia_info/113.json\r\n",
      "-rw-r--r--   1 jupyter-admin hadoop        894 2022-04-28 12:23 /var/datasets/wikipedia_info/114.json\r\n",
      "-rw-r--r--   1 jupyter-admin hadoop       2699 2022-04-28 12:23 /var/datasets/wikipedia_info/115.json\r\n",
      "-rw-r--r--   1 jupyter-admin hadoop       1570 2022-04-28 12:23 /var/datasets/wikipedia_info/116.json\r\n",
      "-rw-r--r--   1 jupyter-admin hadoop       3494 2022-04-28 12:23 /var/datasets/wikipedia_info/117.json\r\n",
      "-rw-r--r--   1 jupyter-admin hadoop       1559 2022-04-28 12:23 /var/datasets/wikipedia_info/118.json\r\n",
      "-rw-r--r--   1 jupyter-admin hadoop       1671 2022-04-28 12:23 /var/datasets/wikipedia_info/119.json\r\n",
      "-rw-r--r--   1 jupyter-admin hadoop        761 2022-04-28 12:23 /var/datasets/wikipedia_info/12.json\r\n",
      "-rw-r--r--   1 jupyter-admin hadoop       1464 2022-04-28 12:23 /var/datasets/wikipedia_info/120.json\r\n",
      "-rw-r--r--   1 jupyter-admin hadoop       1493 2022-04-28 12:23 /var/datasets/wikipedia_info/121.json\r\n",
      "-rw-r--r--   1 jupyter-admin hadoop        456 2022-04-28 12:23 /var/datasets/wikipedia_info/122.json\r\n",
      "-rw-r--r--   1 jupyter-admin hadoop        832 2022-04-28 12:23 /var/datasets/wikipedia_info/123.json\r\n",
      "-rw-r--r--   1 jupyter-admin hadoop       2350 2022-04-28 12:23 /var/datasets/wikipedia_info/124.json\r\n",
      "-rw-r--r--   1 jupyter-admin hadoop       1000 2022-04-28 12:23 /var/datasets/wikipedia_info/125.json\r\n",
      "-rw-r--r--   1 jupyter-admin hadoop        312 2022-04-28 12:23 /var/datasets/wikipedia_info/126.json\r\n",
      "-rw-r--r--   1 jupyter-admin hadoop       1400 2022-04-28 12:23 /var/datasets/wikipedia_info/127.json\r\n",
      "-rw-r--r--   1 jupyter-admin hadoop       1492 2022-04-28 12:23 /var/datasets/wikipedia_info/128.json\r\n",
      "-rw-r--r--   1 jupyter-admin hadoop       1843 2022-04-28 12:23 /var/datasets/wikipedia_info/129.json\r\n",
      "-rw-r--r--   1 jupyter-admin hadoop        389 2022-04-28 12:23 /var/datasets/wikipedia_info/13.json\r\n",
      "-rw-r--r--   1 jupyter-admin hadoop       2447 2022-04-28 12:23 /var/datasets/wikipedia_info/130.json\r\n",
      "-rw-r--r--   1 jupyter-admin hadoop       4238 2022-04-28 12:23 /var/datasets/wikipedia_info/131.json\r\n",
      "-rw-r--r--   1 jupyter-admin hadoop       1685 2022-04-28 12:23 /var/datasets/wikipedia_info/132.json\r\n",
      "-rw-r--r--   1 jupyter-admin hadoop       1396 2022-04-28 12:23 /var/datasets/wikipedia_info/133.json\r\n",
      "-rw-r--r--   1 jupyter-admin hadoop       1360 2022-04-28 12:23 /var/datasets/wikipedia_info/134.json\r\n",
      "-rw-r--r--   1 jupyter-admin hadoop        414 2022-04-28 12:23 /var/datasets/wikipedia_info/14.json\r\n",
      "-rw-r--r--   1 jupyter-admin hadoop       1075 2022-04-28 12:23 /var/datasets/wikipedia_info/15.json\r\n",
      "-rw-r--r--   1 jupyter-admin hadoop        250 2022-04-28 12:23 /var/datasets/wikipedia_info/16.json\r\n",
      "-rw-r--r--   1 jupyter-admin hadoop       1247 2022-04-28 12:23 /var/datasets/wikipedia_info/17.json\r\n",
      "-rw-r--r--   1 jupyter-admin hadoop        728 2022-04-28 12:23 /var/datasets/wikipedia_info/18.json\r\n",
      "-rw-r--r--   1 jupyter-admin hadoop        870 2022-04-28 12:23 /var/datasets/wikipedia_info/19.json\r\n",
      "-rw-r--r--   1 jupyter-admin hadoop       1195 2022-04-28 12:23 /var/datasets/wikipedia_info/2.json\r\n",
      "-rw-r--r--   1 jupyter-admin hadoop         57 2022-04-28 12:23 /var/datasets/wikipedia_info/20.json\r\n",
      "-rw-r--r--   1 jupyter-admin hadoop        488 2022-04-28 12:23 /var/datasets/wikipedia_info/21.json\r\n",
      "-rw-r--r--   1 jupyter-admin hadoop        762 2022-04-28 12:23 /var/datasets/wikipedia_info/22.json\r\n",
      "-rw-r--r--   1 jupyter-admin hadoop        413 2022-04-28 12:23 /var/datasets/wikipedia_info/23.json\r\n",
      "-rw-r--r--   1 jupyter-admin hadoop        775 2022-04-28 12:23 /var/datasets/wikipedia_info/24.json\r\n",
      "-rw-r--r--   1 jupyter-admin hadoop        809 2022-04-28 12:23 /var/datasets/wikipedia_info/25.json\r\n",
      "-rw-r--r--   1 jupyter-admin hadoop        366 2022-04-28 12:23 /var/datasets/wikipedia_info/26.json\r\n",
      "-rw-r--r--   1 jupyter-admin hadoop       1278 2022-04-28 12:23 /var/datasets/wikipedia_info/27.json\r\n",
      "-rw-r--r--   1 jupyter-admin hadoop       1571 2022-04-28 12:23 /var/datasets/wikipedia_info/28.json\r\n",
      "-rw-r--r--   1 jupyter-admin hadoop       1284 2022-04-28 12:23 /var/datasets/wikipedia_info/29.json\r\n",
      "-rw-r--r--   1 jupyter-admin hadoop       1224 2022-04-28 12:23 /var/datasets/wikipedia_info/3.json\r\n",
      "-rw-r--r--   1 jupyter-admin hadoop       1178 2022-04-28 12:23 /var/datasets/wikipedia_info/30.json\r\n",
      "-rw-r--r--   1 jupyter-admin hadoop       1109 2022-04-28 12:23 /var/datasets/wikipedia_info/31.json\r\n",
      "-rw-r--r--   1 jupyter-admin hadoop       1126 2022-04-28 12:23 /var/datasets/wikipedia_info/32.json\r\n",
      "-rw-r--r--   1 jupyter-admin hadoop       1233 2022-04-28 12:23 /var/datasets/wikipedia_info/33.json\r\n",
      "-rw-r--r--   1 jupyter-admin hadoop        956 2022-04-28 12:23 /var/datasets/wikipedia_info/34.json\r\n",
      "-rw-r--r--   1 jupyter-admin hadoop       1615 2022-04-28 12:23 /var/datasets/wikipedia_info/35.json\r\n",
      "-rw-r--r--   1 jupyter-admin hadoop        475 2022-04-28 12:23 /var/datasets/wikipedia_info/36.json\r\n",
      "-rw-r--r--   1 jupyter-admin hadoop       1502 2022-04-28 12:23 /var/datasets/wikipedia_info/37.json\r\n",
      "-rw-r--r--   1 jupyter-admin hadoop        788 2022-04-28 12:23 /var/datasets/wikipedia_info/38.json\r\n",
      "-rw-r--r--   1 jupyter-admin hadoop        634 2022-04-28 12:23 /var/datasets/wikipedia_info/39.json\r\n",
      "-rw-r--r--   1 jupyter-admin hadoop        413 2022-04-28 12:23 /var/datasets/wikipedia_info/4.json\r\n",
      "-rw-r--r--   1 jupyter-admin hadoop        457 2022-04-28 12:23 /var/datasets/wikipedia_info/40.json\r\n",
      "-rw-r--r--   1 jupyter-admin hadoop        845 2022-04-28 12:23 /var/datasets/wikipedia_info/41.json\r\n",
      "-rw-r--r--   1 jupyter-admin hadoop        931 2022-04-28 12:23 /var/datasets/wikipedia_info/42.json\r\n",
      "-rw-r--r--   1 jupyter-admin hadoop        538 2022-04-28 12:23 /var/datasets/wikipedia_info/43.json\r\n",
      "-rw-r--r--   1 jupyter-admin hadoop        396 2022-04-28 12:23 /var/datasets/wikipedia_info/44.json\r\n",
      "-rw-r--r--   1 jupyter-admin hadoop        646 2022-04-28 12:23 /var/datasets/wikipedia_info/45.json\r\n",
      "-rw-r--r--   1 jupyter-admin hadoop       1656 2022-04-28 12:23 /var/datasets/wikipedia_info/46.json\r\n",
      "-rw-r--r--   1 jupyter-admin hadoop        834 2022-04-28 12:23 /var/datasets/wikipedia_info/47.json\r\n",
      "-rw-r--r--   1 jupyter-admin hadoop       1609 2022-04-28 12:23 /var/datasets/wikipedia_info/48.json\r\n",
      "-rw-r--r--   1 jupyter-admin hadoop        517 2022-04-28 12:23 /var/datasets/wikipedia_info/49.json\r\n",
      "-rw-r--r--   1 jupyter-admin hadoop        188 2022-04-28 12:23 /var/datasets/wikipedia_info/5.json\r\n",
      "-rw-r--r--   1 jupyter-admin hadoop        746 2022-04-28 12:23 /var/datasets/wikipedia_info/50.json\r\n",
      "-rw-r--r--   1 jupyter-admin hadoop        501 2022-04-28 12:23 /var/datasets/wikipedia_info/51.json\r\n",
      "-rw-r--r--   1 jupyter-admin hadoop        747 2022-04-28 12:23 /var/datasets/wikipedia_info/52.json\r\n",
      "-rw-r--r--   1 jupyter-admin hadoop        515 2022-04-28 12:23 /var/datasets/wikipedia_info/53.json\r\n",
      "-rw-r--r--   1 jupyter-admin hadoop       1088 2022-04-28 12:23 /var/datasets/wikipedia_info/54.json\r\n",
      "-rw-r--r--   1 jupyter-admin hadoop        746 2022-04-28 12:23 /var/datasets/wikipedia_info/55.json\r\n",
      "-rw-r--r--   1 jupyter-admin hadoop       1161 2022-04-28 12:23 /var/datasets/wikipedia_info/56.json\r\n",
      "-rw-r--r--   1 jupyter-admin hadoop       1087 2022-04-28 12:23 /var/datasets/wikipedia_info/57.json\r\n",
      "-rw-r--r--   1 jupyter-admin hadoop        551 2022-04-28 12:23 /var/datasets/wikipedia_info/58.json\r\n",
      "-rw-r--r--   1 jupyter-admin hadoop       1138 2022-04-28 12:23 /var/datasets/wikipedia_info/59.json\r\n",
      "-rw-r--r--   1 jupyter-admin hadoop         55 2022-04-28 12:23 /var/datasets/wikipedia_info/6.json\r\n",
      "-rw-r--r--   1 jupyter-admin hadoop        688 2022-04-28 12:23 /var/datasets/wikipedia_info/60.json\r\n",
      "-rw-r--r--   1 jupyter-admin hadoop        449 2022-04-28 12:23 /var/datasets/wikipedia_info/61.json\r\n",
      "-rw-r--r--   1 jupyter-admin hadoop       1230 2022-04-28 12:23 /var/datasets/wikipedia_info/62.json\r\n",
      "-rw-r--r--   1 jupyter-admin hadoop       1431 2022-04-28 12:23 /var/datasets/wikipedia_info/63.json\r\n",
      "-rw-r--r--   1 jupyter-admin hadoop        178 2022-04-28 12:23 /var/datasets/wikipedia_info/64.json\r\n",
      "-rw-r--r--   1 jupyter-admin hadoop        813 2022-04-28 12:23 /var/datasets/wikipedia_info/65.json\r\n",
      "-rw-r--r--   1 jupyter-admin hadoop        633 2022-04-28 12:23 /var/datasets/wikipedia_info/66.json\r\n",
      "-rw-r--r--   1 jupyter-admin hadoop        700 2022-04-28 12:23 /var/datasets/wikipedia_info/67.json\r\n",
      "-rw-r--r--   1 jupyter-admin hadoop       1899 2022-04-28 12:23 /var/datasets/wikipedia_info/68.json\r\n",
      "-rw-r--r--   1 jupyter-admin hadoop        635 2022-04-28 12:23 /var/datasets/wikipedia_info/69.json\r\n",
      "-rw-r--r--   1 jupyter-admin hadoop        753 2022-04-28 12:23 /var/datasets/wikipedia_info/7.json\r\n",
      "-rw-r--r--   1 jupyter-admin hadoop        882 2022-04-28 12:23 /var/datasets/wikipedia_info/70.json\r\n",
      "-rw-r--r--   1 jupyter-admin hadoop        820 2022-04-28 12:23 /var/datasets/wikipedia_info/71.json\r\n",
      "-rw-r--r--   1 jupyter-admin hadoop         77 2022-04-28 12:23 /var/datasets/wikipedia_info/72.json\r\n",
      "-rw-r--r--   1 jupyter-admin hadoop       1035 2022-04-28 12:23 /var/datasets/wikipedia_info/73.json\r\n",
      "-rw-r--r--   1 jupyter-admin hadoop        493 2022-04-28 12:23 /var/datasets/wikipedia_info/74.json\r\n",
      "-rw-r--r--   1 jupyter-admin hadoop         77 2022-04-28 12:23 /var/datasets/wikipedia_info/75.json\r\n",
      "-rw-r--r--   1 jupyter-admin hadoop        779 2022-04-28 12:23 /var/datasets/wikipedia_info/76.json\r\n",
      "-rw-r--r--   1 jupyter-admin hadoop       2122 2022-04-28 12:23 /var/datasets/wikipedia_info/77.json\r\n",
      "-rw-r--r--   1 jupyter-admin hadoop         75 2022-04-28 12:23 /var/datasets/wikipedia_info/78.json\r\n",
      "-rw-r--r--   1 jupyter-admin hadoop        844 2022-04-28 12:23 /var/datasets/wikipedia_info/79.json\r\n",
      "-rw-r--r--   1 jupyter-admin hadoop       2566 2022-04-28 12:23 /var/datasets/wikipedia_info/8.json\r\n",
      "-rw-r--r--   1 jupyter-admin hadoop       2237 2022-04-28 12:23 /var/datasets/wikipedia_info/80.json\r\n",
      "-rw-r--r--   1 jupyter-admin hadoop       1284 2022-04-28 12:23 /var/datasets/wikipedia_info/81.json\r\n",
      "-rw-r--r--   1 jupyter-admin hadoop        996 2022-04-28 12:23 /var/datasets/wikipedia_info/82.json\r\n",
      "-rw-r--r--   1 jupyter-admin hadoop        818 2022-04-28 12:23 /var/datasets/wikipedia_info/83.json\r\n",
      "-rw-r--r--   1 jupyter-admin hadoop        556 2022-04-28 12:23 /var/datasets/wikipedia_info/84.json\r\n",
      "-rw-r--r--   1 jupyter-admin hadoop        195 2022-04-28 12:23 /var/datasets/wikipedia_info/85.json\r\n",
      "-rw-r--r--   1 jupyter-admin hadoop        217 2022-04-28 12:23 /var/datasets/wikipedia_info/86.json\r\n",
      "-rw-r--r--   1 jupyter-admin hadoop        467 2022-04-28 12:23 /var/datasets/wikipedia_info/87.json\r\n",
      "-rw-r--r--   1 jupyter-admin hadoop        203 2022-04-28 12:23 /var/datasets/wikipedia_info/88.json\r\n",
      "-rw-r--r--   1 jupyter-admin hadoop        669 2022-04-28 12:23 /var/datasets/wikipedia_info/89.json\r\n",
      "-rw-r--r--   1 jupyter-admin hadoop       1305 2022-04-28 12:23 /var/datasets/wikipedia_info/9.json\r\n",
      "-rw-r--r--   1 jupyter-admin hadoop       1024 2022-04-28 12:23 /var/datasets/wikipedia_info/90.json\r\n",
      "-rw-r--r--   1 jupyter-admin hadoop        156 2022-04-28 12:23 /var/datasets/wikipedia_info/91.json\r\n",
      "-rw-r--r--   1 jupyter-admin hadoop        202 2022-04-28 12:23 /var/datasets/wikipedia_info/92.json\r\n",
      "-rw-r--r--   1 jupyter-admin hadoop        247 2022-04-28 12:23 /var/datasets/wikipedia_info/93.json\r\n",
      "-rw-r--r--   1 jupyter-admin hadoop         63 2022-04-28 12:23 /var/datasets/wikipedia_info/94.json\r\n",
      "-rw-r--r--   1 jupyter-admin hadoop        870 2022-04-28 12:23 /var/datasets/wikipedia_info/95.json\r\n",
      "-rw-r--r--   1 jupyter-admin hadoop        264 2022-04-28 12:23 /var/datasets/wikipedia_info/96.json\r\n",
      "-rw-r--r--   1 jupyter-admin hadoop        449 2022-04-28 12:23 /var/datasets/wikipedia_info/97.json\r\n",
      "-rw-r--r--   1 jupyter-admin hadoop        428 2022-04-28 12:23 /var/datasets/wikipedia_info/98.json\r\n",
      "-rw-r--r--   1 jupyter-admin hadoop        617 2022-04-28 12:23 /var/datasets/wikipedia_info/99.json\r\n",
      "-rw-r--r--   1 jupyter-admin hadoop       3351 2022-04-28 12:23 /var/datasets/wikipedia_info/wikipedia_info.csv\r\n"
     ]
    }
   ],
   "source": [
    "!hdfs dfs -ls /var/datasets/wikipedia_info/"
   ]
  },
  {
   "cell_type": "markdown",
   "id": "646861f3",
   "metadata": {},
   "source": [
    "Ниже пример обработки данных"
   ]
  },
  {
   "cell_type": "code",
   "execution_count": 2,
   "id": "ff062ffd",
   "metadata": {},
   "outputs": [
    {
     "data": {
      "text/plain": [
       "{'car_name': 'audi A1',\n",
       " 'info': 'The Audi A1 (internally designated Typ 8X) is a supermini car launched by Audi at the 2010 Geneva Motor Show. Sales of the initial three-door A1 model started in Germany in August 2010, with the United Kingdom following in November 2010.[2] A five-door version, called Sportback, was launched in November 2011, with sales starting in export markets during spring 2012.'}"
      ]
     },
     "execution_count": 2,
     "metadata": {},
     "output_type": "execute_result"
    }
   ],
   "source": [
    "# Данные выглядят следующим образом\n",
    "import json\n",
    "\n",
    "with open('Wikipedia_info/1.json', 'r') as f:\n",
    "    data = json.load(f)\n",
    "data"
   ]
  },
  {
   "cell_type": "code",
   "execution_count": 2,
   "id": "edc78b84",
   "metadata": {},
   "outputs": [
    {
     "name": "stderr",
     "output_type": "stream",
     "text": [
      "[nltk_data] Downloading package punkt to /home/jupyter-\n",
      "[nltk_data]     admin/nltk_data...\n",
      "[nltk_data]   Package punkt is already up-to-date!\n",
      "[nltk_data] Downloading package stopwords to /home/jupyter-\n",
      "[nltk_data]     admin/nltk_data...\n",
      "[nltk_data]   Package stopwords is already up-to-date!\n"
     ]
    }
   ],
   "source": [
    "# Будем использовать библиотеку nltk для токенизации\n",
    "# pip install nltk\n",
    "import nltk\n",
    "from nltk.tokenize import word_tokenize\n",
    "nltk.download('punkt')\n",
    "nltk.download('stopwords')\n",
    "\n",
    "from nltk.corpus import stopwords"
   ]
  },
  {
   "cell_type": "code",
   "execution_count": 3,
   "id": "c55905c3",
   "metadata": {},
   "outputs": [],
   "source": [
    "# Токенизация\n",
    "data['tokenized_info'] = [word for word in word_tokenize(data['info']) if not word in stopwords.words('english')]"
   ]
  },
  {
   "cell_type": "markdown",
   "id": "0ccec04f",
   "metadata": {},
   "source": [
    "В итоге стрим должен писать в директорию (hdfs) токенизированные данные в формате json"
   ]
  }
 ],
 "metadata": {
  "kernelspec": {
   "display_name": "Python 3 (ipykernel)",
   "language": "python",
   "name": "python3"
  },
  "language_info": {
   "codemirror_mode": {
    "name": "ipython",
    "version": 3
   },
   "file_extension": ".py",
   "mimetype": "text/x-python",
   "name": "python",
   "nbconvert_exporter": "python",
   "pygments_lexer": "ipython3",
   "version": "3.9.7"
  }
 },
 "nbformat": 4,
 "nbformat_minor": 5
}
